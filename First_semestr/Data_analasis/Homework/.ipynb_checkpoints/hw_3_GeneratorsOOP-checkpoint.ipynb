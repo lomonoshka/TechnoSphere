{
 "cells": [
  {
   "cell_type": "markdown",
   "metadata": {},
   "source": [
    "# Выражения-генераторы\n",
    "\n",
    "Вам предлагается набор из задачек, для каждой из которых решение — одно выражение-генератор."
   ]
  },
  {
   "cell_type": "markdown",
   "metadata": {},
   "source": [
    "### 1. Трансформация выражения (переведите выражение слева в выражение справа):\n",
    "\n",
    "'python' -> ['pppp', 'yyyy', 'tttt', 'hhhh', 'oooo', 'nnnn']"
   ]
  },
  {
   "cell_type": "code",
   "execution_count": 42,
   "metadata": {},
   "outputs": [
    {
     "data": {
      "text/plain": [
       "['pppp', 'yyyy', 'tttt', 'hhhh', 'oooo', 'nnnn']"
      ]
     },
     "execution_count": 42,
     "metadata": {},
     "output_type": "execute_result"
    }
   ],
   "source": [
    "def solution1(s='python'):\n",
    "    return [c * 4 for c in s]\n",
    "\n",
    "\n",
    "solution1()"
   ]
  },
  {
   "cell_type": "markdown",
   "metadata": {},
   "source": [
    "### 2. Трансформация выражения:\n",
    "\n",
    "'python' -> ['p', 'yy', 'ttt', 'hhhh', 'ooooo', 'nnnnnn']"
   ]
  },
  {
   "cell_type": "code",
   "execution_count": 41,
   "metadata": {},
   "outputs": [
    {
     "data": {
      "text/plain": [
       "['p', 'yy', 'ttt', 'hhhh', 'ooooo', 'nnnnnn']"
      ]
     },
     "execution_count": 41,
     "metadata": {},
     "output_type": "execute_result"
    }
   ],
   "source": [
    "def solution2(s='python'):\n",
    "    return [c * (i + 1) for i, c in enumerate('python')]\n",
    "\n",
    "\n",
    "solution2()"
   ]
  },
  {
   "cell_type": "markdown",
   "metadata": {},
   "source": [
    "### 3. Трансформация выражения:\n",
    "\n",
    "range(16) -> [0, 3, 5, 6, 9, 10, 12, 15]"
   ]
  },
  {
   "cell_type": "code",
   "execution_count": 43,
   "metadata": {},
   "outputs": [
    {
     "data": {
      "text/plain": [
       "[0, 3, 5, 6, 9, 10, 12, 15]"
      ]
     },
     "execution_count": 43,
     "metadata": {},
     "output_type": "execute_result"
    }
   ],
   "source": [
    "def solution3(a=range(16)):\n",
    "    return [i for i in a if i % 3 == 0 or i % 5 == 0]\n",
    "\n",
    "\n",
    "solution3()"
   ]
  },
  {
   "cell_type": "markdown",
   "metadata": {},
   "source": [
    "### 4. Трансформация выражения:\n",
    "\n",
    "[[1, 2, 3], [4, 5, 6, 7], [8, 9], [0]] -> [1, 2, 3, 4, 5, 6, 7, 8, 9, 0]\n",
    "\n",
    "Замечание: запрещается использовать функции chain и chain.from_iterable из модуля itertools."
   ]
  },
  {
   "cell_type": "code",
   "execution_count": 47,
   "metadata": {},
   "outputs": [
    {
     "data": {
      "text/plain": [
       "[1, 2, 3, 4, 5, 6, 7, 8, 9, 0]"
      ]
     },
     "execution_count": 47,
     "metadata": {},
     "output_type": "execute_result"
    }
   ],
   "source": [
    "def solution4(a=[[1, 2, 3], [4, 5, 6, 7], [8, 9], [0]]):\n",
    "    return [i for sublist in lists for i in sublist]\n",
    "\n",
    "\n",
    "solution4()"
   ]
  },
  {
   "cell_type": "markdown",
   "metadata": {},
   "source": [
    "### 5. Пифагоровы тройки.\n",
    "\n",
    "Выведите все уникальные пифагоровы тройки, где каждое из чисел не превосходит n. На вход подается число n (n ≤ 30).\n",
    "\n",
    "15 -> [(3, 4, 5), (5, 12, 13), (6, 8, 10), (9, 12, 15)]"
   ]
  },
  {
   "cell_type": "code",
   "execution_count": 49,
   "metadata": {},
   "outputs": [
    {
     "data": {
      "text/plain": [
       "[(3, 4, 5), (6, 8, 10), (5, 12, 13), (9, 12, 15)]"
      ]
     },
     "execution_count": 49,
     "metadata": {},
     "output_type": "execute_result"
    }
   ],
   "source": [
    "def solution5(n=15):\n",
    "    return [(i, j, k) for k in range(5, n+1) for j in range(1, k) \n",
    "            for i in range(1, j) if i**2 + j**2 == k**2]\n",
    "\n",
    "\n",
    "solution5()"
   ]
  },
  {
   "cell_type": "markdown",
   "metadata": {},
   "source": [
    "### 6. Трансформация выражения:\n",
    "\n",
    "([0, 1, 2], [0, 1, 2, 3, 4]) -> [[0, 1, 2, 3, 4], [1, 2, 3, 4, 5], [2, 3, 4, 5, 6]]"
   ]
  },
  {
   "cell_type": "code",
   "execution_count": 58,
   "metadata": {},
   "outputs": [
    {
     "data": {
      "text/plain": [
       "[[0, 1, 2, 3, 4], [1, 2, 3, 4, 5], [2, 3, 4, 5, 6]]"
      ]
     },
     "execution_count": 58,
     "metadata": {},
     "output_type": "execute_result"
    }
   ],
   "source": [
    "def solution6(a=([0, 1, 2], [0, 1, 2, 3, 4])):\n",
    "    return [[i + j for j in a[1]] for i in a[0]]\n",
    "    \n",
    "\n",
    "solution6()"
   ]
  },
  {
   "cell_type": "markdown",
   "metadata": {},
   "source": [
    "### 7. Транспонирование матрицы.\n",
    "\n",
    "[[1, 2], [3, 4], [5, 6]] -> [[1, 3, 5], [2, 4, 6]]\n",
    "[[1, 3, 5], [2, 4, 6]] -> [[1, 2], [3, 4], [5, 6]]\n",
    "\n",
    "Замечание: запрещается использовать сторонние библиотеки, например, scipy и numpy."
   ]
  },
  {
   "cell_type": "code",
   "execution_count": 56,
   "metadata": {},
   "outputs": [
    {
     "data": {
      "text/plain": [
       "[[1, 3, 5], [2, 4, 6]]"
      ]
     },
     "execution_count": 56,
     "metadata": {},
     "output_type": "execute_result"
    }
   ],
   "source": [
    "def solution7(A=[[1, 2], [3, 4], [5, 6]]):\n",
    "    return [[row[i] for row in A] for i in range(len(A[0]))]\n",
    "\n",
    "\n",
    "solution7(A)"
   ]
  },
  {
   "cell_type": "markdown",
   "metadata": {},
   "source": [
    "### 8. Трансформация выражения:\n",
    "\n",
    "[\"0\", \"1 2 3\", \"4 5 6 7\", \"8 9\"] -> [[0], [1, 2, 3], [4, 5, 6, 7], [8, 9]]"
   ]
  },
  {
   "cell_type": "code",
   "execution_count": 50,
   "metadata": {},
   "outputs": [
    {
     "data": {
      "text/plain": [
       "[[0], [1, 2, 3], [4, 5, 6, 7], [8, 9]]"
      ]
     },
     "execution_count": 50,
     "metadata": {},
     "output_type": "execute_result"
    }
   ],
   "source": [
    "def solution8(a=[\"0\", \"1 2 3\", \"4 5 6 7\", \"8 9\"]): \n",
    "    return [[int(i) for i in s.split()] for s in a]\n",
    "\n",
    "\n",
    "solution8()"
   ]
  },
  {
   "cell_type": "markdown",
   "metadata": {},
   "source": [
    "### 9. Трансформация выражения:\n",
    "\n",
    "range(0, 7) -> {'a': 0, 'b': 1, 'c': 4, 'd': 9, 'e': 16, 'f': 25, 'g': 36}\n",
    "\n",
    "Замечание: запрещается использовать ключевое слово dict, используйте фигурные скобки."
   ]
  },
  {
   "cell_type": "code",
   "execution_count": 53,
   "metadata": {},
   "outputs": [
    {
     "data": {
      "text/plain": [
       "{'a': 0, 'b': 1, 'c': 4, 'd': 9, 'e': 16, 'f': 25, 'g': 36}"
      ]
     },
     "execution_count": 53,
     "metadata": {},
     "output_type": "execute_result"
    }
   ],
   "source": [
    "def solution9(a=range(7)): \n",
    "    return {chr(ord('a') + i): i**2 for i in a}\n",
    "\n",
    "\n",
    "solution9()"
   ]
  },
  {
   "cell_type": "markdown",
   "metadata": {},
   "source": [
    "### 10. Трансформация выражения:\n",
    "\n",
    "['Alice', 'vova', 'ANTON', 'Bob', 'kAMILA', 'CJ', 'ALICE', 'Nastya'] -> {'Alice', 'Anton', 'Kamila', 'Nastya', 'Vova'}\n",
    "\n",
    "Замечание: запрещается использовать ключевое слово set, используйте фигурные скобки."
   ]
  },
  {
   "cell_type": "code",
   "execution_count": 54,
   "metadata": {},
   "outputs": [
    {
     "data": {
      "text/plain": [
       "{'Alice', 'Anton', 'Kamila', 'Nastya', 'Vova'}"
      ]
     },
     "execution_count": 54,
     "metadata": {},
     "output_type": "execute_result"
    }
   ],
   "source": [
    "def solution10(names=['Alice', 'vova', 'ANTON', 'Bob', 'kAMILA', 'CJ', 'ALICE', 'Nastya']):\n",
    "    return {name.capitalize() for name in names if len(name) > 3}\n",
    "\n",
    "\n",
    "solution10()"
   ]
  },
  {
   "cell_type": "markdown",
   "metadata": {},
   "source": [
    "# map, filter и reduce\n",
    "\n",
    "Вам предлагается набор из задачек, для каждой из которых решение — одно выражение с использованием функций map, filter и reduce."
   ]
  },
  {
   "cell_type": "markdown",
   "metadata": {},
   "source": [
    "### 1. Трансформация выражения (переведите выражение слева в выражение справа):\n",
    "\n",
    "['12', '25.6', '84,02', '  69-91'] -> [21, 652, 2048, 1996]"
   ]
  },
  {
   "cell_type": "code",
   "execution_count": 64,
   "metadata": {},
   "outputs": [],
   "source": [
    "import re"
   ]
  },
  {
   "cell_type": "code",
   "execution_count": 70,
   "metadata": {},
   "outputs": [
    {
     "data": {
      "text/plain": [
       "[21, 652, 2048, 1996]"
      ]
     },
     "execution_count": 70,
     "metadata": {},
     "output_type": "execute_result"
    }
   ],
   "source": [
    "def solution1(a=['12', '25.6', '84,02', ' 69-91']):\n",
    "    return list(map(lambda x: int(re.sub(\"[^0-9]\", \"\", x[::-1])), a))\n",
    "\n",
    "\n",
    "solution1()"
   ]
  },
  {
   "cell_type": "markdown",
   "metadata": {},
   "source": [
    "### 2. Трансформация выражения:\n",
    "\n",
    "zip(range(2, 5), range(3, 9, 2)) -> [6, 15, 28]"
   ]
  },
  {
   "cell_type": "code",
   "execution_count": 72,
   "metadata": {},
   "outputs": [
    {
     "data": {
      "text/plain": [
       "[6, 15, 28]"
      ]
     },
     "execution_count": 72,
     "metadata": {},
     "output_type": "execute_result"
    }
   ],
   "source": [
    "from itertools import starmap\n",
    "\n",
    "def solution2(a=zip(range(2, 5), range(3, 9, 2))):\n",
    "    return list(starmap(lambda x, y: x * y , a))\n",
    "\n",
    "\n",
    "solution2()"
   ]
  },
  {
   "cell_type": "markdown",
   "metadata": {},
   "source": [
    "### 3. Трансформация выражения:\n",
    "\n",
    "range(20) -> [0, 2, 5, 6, 8, 11, 12, 14, 17, 18]"
   ]
  },
  {
   "cell_type": "code",
   "execution_count": 74,
   "metadata": {},
   "outputs": [
    {
     "data": {
      "text/plain": [
       "[0, 2, 5, 6, 8, 11, 12, 14, 17, 18]"
      ]
     },
     "execution_count": 74,
     "metadata": {},
     "output_type": "execute_result"
    }
   ],
   "source": [
    "def solution3(a=range(20)):\n",
    "    return list(filter(lambda x: x % 6 in [0, 2, 5], a))\n",
    "\n",
    "\n",
    "solution3()"
   ]
  },
  {
   "cell_type": "markdown",
   "metadata": {},
   "source": [
    "### 4. Трансформация выражения:\n",
    "\n",
    "['', 25, None, 'python', 0.0, [], ('msu', '1755-01-25')] -> [25, 'python', ('msu', '1755-01-25')]"
   ]
  },
  {
   "cell_type": "code",
   "execution_count": 76,
   "metadata": {},
   "outputs": [
    {
     "data": {
      "text/plain": [
       "[25, 'python', ('msu', '1755-01-25')]"
      ]
     },
     "execution_count": 76,
     "metadata": {},
     "output_type": "execute_result"
    }
   ],
   "source": [
    "def solution4(a=['', 25, None, 'python', 0.0, [], ('msu', '1755-01-25')]):\n",
    "    return list(filter(lambda x: x, a))\n",
    "\n",
    "\n",
    "solution4()"
   ]
  },
  {
   "cell_type": "markdown",
   "metadata": {},
   "source": [
    "### 5. Добавьте к каждому элементу списка rooms поле square, показывающее площадь комнаты. Элементы списка rooms ДОЛЖНЫ обновиться!"
   ]
  },
  {
   "cell_type": "code",
   "execution_count": 84,
   "metadata": {},
   "outputs": [
    {
     "data": {
      "text/plain": [
       "[{'name': 'комната1', 'width': 2, 'length': 4, 'square': 8},\n",
       " {'name': 'комната2', 'width': 2.5, 'length': 5.6, 'square': 14.0},\n",
       " {'name': 'кухня', 'width': 3.5, 'length': 4, 'square': 14.0},\n",
       " {'name': 'туалет', 'width': 1.5, 'length': 1.5, 'square': 2.25}]"
      ]
     },
     "execution_count": 84,
     "metadata": {},
     "output_type": "execute_result"
    }
   ],
   "source": [
    "rooms = [\n",
    "    {\"name\": \"комната1\", \"width\": 2, \"length\": 4},\n",
    "    {\"name\": \"комната2\", \"width\": 2.5, \"length\": 5.6},\n",
    "    {\"name\": \"кухня\", \"width\": 3.5, \"length\": 4},\n",
    "    {\"name\": \"туалет\", \"width\": 1.5, \"length\": 1.5},\n",
    "]\n",
    "\n",
    "def solution5(a=rooms):\n",
    "    list(map(lambda x: x.update({\"square\": x[\"width\"] * x[\"length\"]}), rooms))\n",
    "    return a\n",
    "\n",
    "\n",
    "solution5(rooms)"
   ]
  },
  {
   "cell_type": "markdown",
   "metadata": {},
   "source": [
    "### 6. Добавьте к каждому элементу списка rooms поле square, показывающее площадь комнаты. Элементы исходного списка rooms НЕ ДОЛЖНЫ обновиться! Порядок элементов в результирующем списке должен совпадать с порядком в исходном списке.\n",
    "\n",
    "Замечание: запрещается использовать модуль copy."
   ]
  },
  {
   "cell_type": "code",
   "execution_count": 101,
   "metadata": {},
   "outputs": [
    {
     "data": {
      "text/plain": [
       "[{'name': 'комната1', 'width': 2, 'length': 4, 'square': 8},\n",
       " {'name': 'комната2', 'width': 2.5, 'length': 5.6, 'square': 14.0},\n",
       " {'name': 'кухня', 'width': 3.5, 'length': 4, 'square': 14.0},\n",
       " {'name': 'туалет', 'width': 1.5, 'length': 1.5, 'square': 2.25}]"
      ]
     },
     "execution_count": 101,
     "metadata": {},
     "output_type": "execute_result"
    }
   ],
   "source": [
    "rooms = [\n",
    "    {\"name\": \"комната1\", \"width\": 2, \"length\": 4},\n",
    "    {\"name\": \"комната2\", \"width\": 2.5, \"length\": 5.6},\n",
    "    {\"name\": \"кухня\", \"width\": 3.5, \"length\": 4},\n",
    "    {\"name\": \"туалет\", \"width\": 1.5, \"length\": 1.5},\n",
    "]\n",
    "\n",
    "def solution6(a=rooms):\n",
    "    return list(map(lambda x: dict([*x.items(), (\"square\", x[\"width\"] * x[\"length\"])]), rooms)) \n",
    "\n",
    "\n",
    "solution6(rooms)"
   ]
  },
  {
   "cell_type": "markdown",
   "metadata": {},
   "source": [
    "### 7. Найдите пересечение всех множеств. Используйте функцию reduce.\n",
    "\n",
    "[{1, 2, 3, 4, 5}, {2, 3, 4, 5, 6}, {3, 4, 5, 6, 7}] -> {3, 4, 5}"
   ]
  },
  {
   "cell_type": "code",
   "execution_count": 123,
   "metadata": {},
   "outputs": [],
   "source": [
    "from functools import reduce\n",
    "import operator\n",
    "from operator import itemgetter"
   ]
  },
  {
   "cell_type": "code",
   "execution_count": 131,
   "metadata": {},
   "outputs": [
    {
     "data": {
      "text/plain": [
       "{3, 4, 5}"
      ]
     },
     "execution_count": 131,
     "metadata": {},
     "output_type": "execute_result"
    }
   ],
   "source": [
    "a = [{1, 2, 3, 4, 5}, {2, 3, 4, 5, 6}, {3, 4, 5, 6, 7}]\n",
    "\n",
    "def solution7(a):\n",
    "    return set(reduce(lambda x, y: x & y, a))\n",
    "\n",
    "\n",
    "solution7(a)"
   ]
  },
  {
   "cell_type": "markdown",
   "metadata": {},
   "source": [
    "### 8. Посчитайте, сколько раз встречается каждый элемент в списке.\n",
    "\n",
    "[1, 2, 1, 1, 3, 2, 3, 2, 4, 2, 4] -> {1: 3, 2: 4, 3: 2, 4: 2}\n",
    "\n",
    "Замечание: запрещается использовать класс Counter из модуля collections."
   ]
  },
  {
   "cell_type": "code",
   "execution_count": 115,
   "metadata": {},
   "outputs": [
    {
     "data": {
      "text/plain": [
       "{1: 3, 2: 4, 3: 2, 4: 2}"
      ]
     },
     "execution_count": 115,
     "metadata": {},
     "output_type": "execute_result"
    }
   ],
   "source": [
    "a = [1, 2, 1, 1, 3, 2, 3, 2, 4, 2, 4]\n",
    "\n",
    "def solution8(a):\n",
    "    d = {}\n",
    "    list(map(lambda x: d.update({x : 1 if d.get(x) is None else d[x] + 1}), a))\n",
    "    return d\n",
    "\n",
    "\n",
    "solution8(a)"
   ]
  },
  {
   "cell_type": "markdown",
   "metadata": {},
   "source": [
    "### 9. Выведите имена студентов, чей GPA > 4.5.\n",
    "\n",
    "students -> ['Alina', 'Sergey', 'Valya']"
   ]
  },
  {
   "cell_type": "code",
   "execution_count": 135,
   "metadata": {},
   "outputs": [
    {
     "ename": "NameError",
     "evalue": "name 'itemgeter' is not defined",
     "output_type": "error",
     "traceback": [
      "\u001b[0;31m---------------------------------------------------------------------------\u001b[0m",
      "\u001b[0;31mNameError\u001b[0m                                 Traceback (most recent call last)",
      "\u001b[0;32m<ipython-input-135-ac7027e87b17>\u001b[0m in \u001b[0;36m<module>\u001b[0;34m\u001b[0m\n\u001b[1;32m     11\u001b[0m \u001b[0;34m\u001b[0m\u001b[0m\n\u001b[1;32m     12\u001b[0m \u001b[0;34m\u001b[0m\u001b[0m\n\u001b[0;32m---> 13\u001b[0;31m \u001b[0msolution9\u001b[0m\u001b[0;34m(\u001b[0m\u001b[0mstudents\u001b[0m\u001b[0;34m)\u001b[0m\u001b[0;34m\u001b[0m\u001b[0;34m\u001b[0m\u001b[0m\n\u001b[0m",
      "\u001b[0;32m<ipython-input-135-ac7027e87b17>\u001b[0m in \u001b[0;36msolution9\u001b[0;34m(a)\u001b[0m\n\u001b[1;32m      8\u001b[0m \u001b[0;34m\u001b[0m\u001b[0m\n\u001b[1;32m      9\u001b[0m \u001b[0;32mdef\u001b[0m \u001b[0msolution9\u001b[0m\u001b[0;34m(\u001b[0m\u001b[0ma\u001b[0m\u001b[0;34m)\u001b[0m\u001b[0;34m:\u001b[0m\u001b[0;34m\u001b[0m\u001b[0;34m\u001b[0m\u001b[0m\n\u001b[0;32m---> 10\u001b[0;31m     \u001b[0;32mreturn\u001b[0m \u001b[0mlist\u001b[0m\u001b[0;34m(\u001b[0m\u001b[0mmap\u001b[0m\u001b[0;34m(\u001b[0m\u001b[0mitemgeter\u001b[0m\u001b[0;34m(\u001b[0m\u001b[0;36m0\u001b[0m\u001b[0;34m)\u001b[0m\u001b[0;34m,\u001b[0m \u001b[0mfilter\u001b[0m\u001b[0;34m(\u001b[0m\u001b[0;32mlambda\u001b[0m \u001b[0mx\u001b[0m\u001b[0;34m:\u001b[0m \u001b[0mx\u001b[0m\u001b[0;34m[\u001b[0m\u001b[0;34m'gpa'\u001b[0m\u001b[0;34m]\u001b[0m \u001b[0;34m>\u001b[0m \u001b[0;36m4.5\u001b[0m\u001b[0;34m,\u001b[0m \u001b[0ma\u001b[0m\u001b[0;34m)\u001b[0m\u001b[0;34m)\u001b[0m\u001b[0;34m)\u001b[0m\u001b[0;34m\u001b[0m\u001b[0;34m\u001b[0m\u001b[0m\n\u001b[0m\u001b[1;32m     11\u001b[0m \u001b[0;34m\u001b[0m\u001b[0m\n\u001b[1;32m     12\u001b[0m \u001b[0;34m\u001b[0m\u001b[0m\n",
      "\u001b[0;31mNameError\u001b[0m: name 'itemgeter' is not defined"
     ]
    }
   ],
   "source": [
    "students = [\n",
    "    {'name': 'Alina', 'gpa': 4.57},\n",
    "    {'name': 'Sergey', 'gpa': 5.0},\n",
    "    {'name': 'Nastya', 'gpa': 4.21},\n",
    "    {'name': 'Valya', 'gpa': 4.72},\n",
    "    {'name': 'Anton', 'gpa': 4.32},\n",
    "]\n",
    "\n",
    "def solution9(a):\n",
    "    return list(map(itemgeter(0), filter(lambda x: x['gpa'] > 4.5, a)))\n",
    "\n",
    "\n",
    "solution9(students)"
   ]
  },
  {
   "cell_type": "markdown",
   "metadata": {},
   "source": [
    "### 10. Счастливые билетики по-питерски.\n",
    "\n",
    "Билетик называется счастливым, если сумма цифр на четных местах равна сумме цифр на нечетных. Из исходного списка выведите только счастливые билетики.\n",
    "\n",
    "Пример:\n",
    "\n",
    "['165033', '477329', '631811', '478117', '475145', '238018', '917764', '394286'] -> ['165033', '475145', '238018']\n",
    "\n",
    "Замечание: разрешается использовать функцию sum."
   ]
  },
  {
   "cell_type": "code",
   "execution_count": null,
   "metadata": {},
   "outputs": [],
   "source": []
  }
 ],
 "metadata": {
  "kernelspec": {
   "display_name": "Python 3",
   "language": "python",
   "name": "python3"
  },
  "language_info": {
   "codemirror_mode": {
    "name": "ipython",
    "version": 3
   },
   "file_extension": ".py",
   "mimetype": "text/x-python",
   "name": "python",
   "nbconvert_exporter": "python",
   "pygments_lexer": "ipython3",
   "version": "3.7.9"
  }
 },
 "nbformat": 4,
 "nbformat_minor": 4
}
