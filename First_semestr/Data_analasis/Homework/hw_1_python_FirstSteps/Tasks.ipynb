{
 "cells": [
  {
   "cell_type": "markdown",
   "metadata": {},
   "source": [
    "## A\n",
    "Оставить различные\n",
    "\n",
    "Дан массив a из n целых чисел. Напишите программу, которая выведет:\n",
    "1. исходный список чисел без дубликатов с сохранением порядка;\n",
    "2. количество чисел, которые были удалены из массива."
   ]
  },
  {
   "cell_type": "code",
   "execution_count": 15,
   "metadata": {},
   "outputs": [
    {
     "name": "stdout",
     "output_type": "stream",
     "text": [
      "3\n",
      "3 3 3\n",
      "3 \n",
      "2\n"
     ]
    }
   ],
   "source": [
    "n = int(input())\n",
    "numbers = [int(digit) for digit in input().split()]\n",
    "is_used = [False]*n\n",
    "deleted = 0\n",
    "for digit in numbers:\n",
    "    if(not is_used[digit - 1]):\n",
    "        print(digit, end=\" \")\n",
    "        is_used[digit - 1] = True\n",
    "        deleted += 1\n",
    "print('\\n', n - deleted, sep=\"\")"
   ]
  },
  {
   "cell_type": "markdown",
   "metadata": {},
   "source": [
    "## B\n",
    "Сложная сортировка\n",
    "\n",
    "Дан массив a1,...,an из n натуральных чисел.\n",
    "\n",
    "Требуется отсортировать числа в массиве в порядке возрастания суммы цифр, а при равной сумме цифр — по возрастанию самого числа."
   ]
  },
  {
   "cell_type": "code",
   "execution_count": 21,
   "metadata": {},
   "outputs": [
    {
     "name": "stdout",
     "output_type": "stream",
     "text": [
      "3\n",
      "14 23 22\n",
      "22 14 23\n"
     ]
    }
   ],
   "source": [
    "n = int(input())\n",
    "numbers = input().split()\n",
    "print(*sorted(numbers, key = lambda x: (sum([int(d) for d in x]), int(x))))\n"
   ]
  },
  {
   "cell_type": "markdown",
   "metadata": {},
   "source": [
    "## C\n",
    "Представьте, что вы кассир в популярной сети продовольственных магазинов \"Фикси\". И вам нужно вернуть как можно более неудобным способом сдачу, собранную только монетами. При этом сдачу нужно вернуть минимальным количеством монет. В вашем распоряжении имеются монеты номиналом в 1, 5, 10 и 50 копеек и 1, 2, 5 и 10 руб."
   ]
  },
  {
   "cell_type": "code",
   "execution_count": 45,
   "metadata": {},
   "outputs": [
    {
     "name": "stdout",
     "output_type": "stream",
     "text": [
      "23\n",
      "10.00\t2\n",
      " 2.00\t1\n",
      " 1.00\t1\n"
     ]
    }
   ],
   "source": [
    "change = int(float(input())*100)\n",
    "pars = [1000, 500, 200, 100, 50, 10, 5, 1]\n",
    "for par in pars:\n",
    "    coins_for_par = change // par\n",
    "    if(coins_for_par != 0):\n",
    "        print(\"%5.2f\\t%d\" % (par/100, coins_for_par))\n",
    "        change %= par\n"
   ]
  },
  {
   "cell_type": "markdown",
   "metadata": {},
   "source": [
    "## D\n",
    "На стандартный поток ввода подаются два числа N и K. Напишите программу, которая по заданным числам вычисляет число: N + NN + NNN + ... + N...N, где N...N - число, составленное конкатенацией K раз числа N."
   ]
  },
  {
   "cell_type": "code",
   "execution_count": 50,
   "metadata": {},
   "outputs": [
    {
     "name": "stdout",
     "output_type": "stream",
     "text": [
      "28 4\n",
      "28568512\n"
     ]
    }
   ],
   "source": [
    "N, K = input().split()\n",
    "result = 0\n",
    "for i in range(1, int(K)+1):\n",
    "    result += int(N*i)\n",
    "print(result)"
   ]
  },
  {
   "cell_type": "markdown",
   "metadata": {},
   "source": [
    "## E\n",
    "Анаграмма - это слово или фраза, образованные из букв другого слова или фразы путем перестановки. Напишите программу, которая найдет все анаграммы образованные из одинакового набора букв."
   ]
  },
  {
   "cell_type": "code",
   "execution_count": 56,
   "metadata": {},
   "outputs": [
    {
     "data": {
      "text/plain": [
       "'abc'"
      ]
     },
     "execution_count": 56,
     "metadata": {},
     "output_type": "execute_result"
    }
   ],
   "source": [
    "word = 'bca'\n"
   ]
  },
  {
   "cell_type": "code",
   "execution_count": 62,
   "metadata": {},
   "outputs": [
    {
     "name": "stdout",
     "output_type": "stream",
     "text": [
      "2\n",
      "nun\n",
      "unn\n",
      "nun unn\n"
     ]
    }
   ],
   "source": [
    "n = int(input())\n",
    "anograms = {}\n",
    "for i in range(n):\n",
    "    word = input()\n",
    "    key = \"\".join(sorted(word))\n",
    "    if(anograms.get(key) is None): \n",
    "        anograms[key] = [word]\n",
    "    else:\n",
    "        anograms[key].append(word)\n",
    "for key in anograms:\n",
    "    print(*anograms[key])\n"
   ]
  },
  {
   "cell_type": "markdown",
   "metadata": {},
   "source": [
    "## F\n",
    "На вход программе подаются два предложения, каждое предложение начинается с новой строки. Необходимо проверить, можно ли получить второе предложения из первого с помощью перестановки и удаления слов. Если такое возможно, напечатайте YES, в противном случае - NO."
   ]
  },
  {
   "cell_type": "code",
   "execution_count": 81,
   "metadata": {},
   "outputs": [
    {
     "name": "stdout",
     "output_type": "stream",
     "text": [
      "Вопросов всегда больше чем ответов\n",
      "Ответов всегда больше чем вопросов\n",
      "YES\n",
      "{('чем', 0), ('вопросов', 0), ('ответов', 0), ('всегда', 0), ('больше', 0)}\n",
      "{('чем', 0), ('вопросов', 0), ('ответов', 0), ('всегда', 0), ('больше', 0)}\n"
     ]
    }
   ],
   "source": [
    "def createBW(words):\n",
    "    d = {}\n",
    "    for word in words:\n",
    "        word\n",
    "        if(d.get(word) is None):\n",
    "            d[word] = 1\n",
    "        else:\n",
    "            d[word] += 1\n",
    "    return set([(word, i) for word, count in d.items() for i in range(count)])\n",
    "\n",
    "\n",
    "first_sentese = createBW(input().lower().split())\n",
    "second_sentese = createBW(input().lower().split())\n",
    "if(second_sentese.issubset(first_sentese)):\n",
    "    print(\"YES\")\n",
    "else:\n",
    "    print(\"NO\")\n"
   ]
  },
  {
   "cell_type": "markdown",
   "metadata": {},
   "source": [
    "## G\n",
    "На стандартном потоке ввода задаётся последовательность из N целых чисел Ai (1 ≤ i ≤ N).\n",
    "\n",
    "Требуется найти такие числа Ai, Aj (i ≠ j, 1 ≤ i,j ≤ N), что произведение Ai * Aj максимально.\n",
    "\n",
    "Напечатайте эти числа: сначала меньшее, потом большее. Если различные пары чисел дают одно и то же максимальное произведение, напечатайте ту пару, сумма чисел в которой больше."
   ]
  },
  {
   "cell_type": "code",
   "execution_count": 53,
   "metadata": {},
   "outputs": [
    {
     "name": "stdout",
     "output_type": "stream",
     "text": [
      "1 2\n",
      "1 2\n"
     ]
    }
   ],
   "source": [
    "min1, min2, max1, max2 = [None]*4\n",
    "for num in input().split():\n",
    "    cur = int(num)\n",
    "    if(max1 is None or cur > max1):\n",
    "        if(max2 is None or cur > max2):\n",
    "            max1, max2 = max2, cur\n",
    "        else:\n",
    "            max1 = cur\n",
    "    if(min2 is None or cur < min2):\n",
    "        if(min1 is None or cur < min1):\n",
    "            min1, min2 = cur, min1\n",
    "        else:\n",
    "            min2 = cur\n",
    "if(max1 * max2 >= min1 * min2):\n",
    "    print(max1, max2)\n",
    "else:\n",
    "    print(min1, min2)\n"
   ]
  },
  {
   "cell_type": "markdown",
   "metadata": {},
   "source": [
    "## H\n",
    "На вход подается конечная последовательность из целых чисел. Напишите программу, которая представит эту последовательность чисел в виде списка диапазонов (возрастающих и/или убывающих).\n",
    "\n",
    "Последовательность должна покрываться минимальным числом списков диапазонов. Размер каждого из диапазонов также должен быть минимален. Размером диапазоном назовем разницу между концом и началом диапазона.\n",
    "\n",
    "Например, диапазоны range(0, 7, 3) и range(0, 9, 3) эквивалентны, так как оба задают список [0, 3, 6], но первый диапазон короче."
   ]
  },
  {
   "cell_type": "code",
   "execution_count": 128,
   "metadata": {},
   "outputs": [
    {
     "name": "stdout",
     "output_type": "stream",
     "text": [
      "1\n",
      "1 2 1\n"
     ]
    }
   ],
   "source": [
    "def printRange(first, a, b):\n",
    "    if(b is None):\n",
    "        print(first, first + 1, 1)\n",
    "    elif(c is None):\n",
    "        print(first, b + 1, b - first)\n",
    "    else:\n",
    "        print(first, b + (b - a) // abs(b - a), b - a)\n",
    "\n",
    "\n",
    "numbers = [int(digit) for digit in input().split()]\n",
    "first, a, b, c = None, None, None, None\n",
    "for number in numbers:\n",
    "    if(a is None):\n",
    "        first = number\n",
    "        a = number\n",
    "    elif(b is None):\n",
    "        b = number\n",
    "        if(a == b):\n",
    "            printRange(first, a, None)\n",
    "            first, a, b = b, b, None\n",
    "    else:\n",
    "        c = number\n",
    "        if(b - a != c - b or c - b == 0):\n",
    "            printRange(first, a, b)\n",
    "            first, a, b = c, c, None\n",
    "        else:\n",
    "            a, b = b, c\n",
    "printRange(first, a, b)"
   ]
  },
  {
   "cell_type": "markdown",
   "metadata": {},
   "source": [
    "## I\n",
    "Загадано натуральное число x от 1 до 100000 (оба числа включены). Вам нужно написать программу, отгадывающую это число.\n",
    "\n",
    "Программа может задавать вопросы вида «Верно ли, что x < a» для различных a, но ответы на эти вопросы она получает не сразу.\n",
    "\n",
    "Вопросы задаются раундами — в одном раунде можно задать произвольное количество вопросов и по окончании раунда получить ответы на все эти вопросы.\n",
    "\n",
    "За каждый вопрос нужно заплатить 1 монету, за каждый раунд 10 монет. Нужно привести алгоритм, который отгадает число x, заплатив не больше чем 100 монет."
   ]
  },
  {
   "cell_type": "code",
   "execution_count": null,
   "metadata": {},
   "outputs": [
    {
     "name": "stdout",
     "output_type": "stream",
     "text": [
      "? 10000\n",
      "? 20000\n",
      "? 30000\n",
      "? 40000\n",
      "? 50000\n",
      "? 60000\n",
      "? 70000\n",
      "? 80000\n",
      "? 90000\n",
      "? 100000\n",
      "+\n"
     ]
    }
   ],
   "source": [
    "def solve_riddle(left, right):\n",
    "    questions = min(right - left + 1, 10)\n",
    "    delta = round((right - left + 1) / questions)\n",
    "    borders = list([left + i*delta - 1 for i in range(1, questions)])\n",
    "    borders.append(right)\n",
    "    for border in borders:\n",
    "        print(\"?\", border, flush=True)\n",
    "    print(\"+\")\n",
    "    border_ind = -1\n",
    "    for i in range(questions):\n",
    "        if(input() == \"1\" and border_ind == -1):\n",
    "            border_ind = i\n",
    "    if(delta <= 1):\n",
    "        if(border_ind == -1):\n",
    "            return borders[border_ind]\n",
    "        return borders[border_ind] - delta\n",
    "    return solve_riddle(borders[border_ind] - delta + 1, borders[border_ind])\n",
    "\n",
    "\n",
    "print('!', solve_riddle(1, 100000))\n"
   ]
  }
 ],
 "metadata": {
  "kernelspec": {
   "display_name": "Python 3",
   "language": "python",
   "name": "python3"
  },
  "language_info": {
   "codemirror_mode": {
    "name": "ipython",
    "version": 3
   },
   "file_extension": ".py",
   "mimetype": "text/x-python",
   "name": "python",
   "nbconvert_exporter": "python",
   "pygments_lexer": "ipython3",
   "version": "3.7.4"
  }
 },
 "nbformat": 4,
 "nbformat_minor": 2
}
