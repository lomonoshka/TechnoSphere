{
 "cells": [
  {
   "cell_type": "code",
   "execution_count": 1,
   "metadata": {},
   "outputs": [],
   "source": [
    "import pandas as pd\n",
    "import numpy as np"
   ]
  },
  {
   "cell_type": "markdown",
   "metadata": {},
   "source": [
    "## Выгрузить данные и вывести первые 10 строк"
   ]
  },
  {
   "cell_type": "code",
   "execution_count": 80,
   "metadata": {},
   "outputs": [],
   "source": [
    "df = pd.read_csv('orders.csv')"
   ]
  },
  {
   "cell_type": "code",
   "execution_count": 4,
   "metadata": {},
   "outputs": [
    {
     "data": {
      "text/html": [
       "<div>\n",
       "<style scoped>\n",
       "    .dataframe tbody tr th:only-of-type {\n",
       "        vertical-align: middle;\n",
       "    }\n",
       "\n",
       "    .dataframe tbody tr th {\n",
       "        vertical-align: top;\n",
       "    }\n",
       "\n",
       "    .dataframe thead th {\n",
       "        text-align: right;\n",
       "    }\n",
       "</style>\n",
       "<table border=\"1\" class=\"dataframe\">\n",
       "  <thead>\n",
       "    <tr style=\"text-align: right;\">\n",
       "      <th></th>\n",
       "      <th>date</th>\n",
       "      <th>vendor_id</th>\n",
       "      <th>chain_id</th>\n",
       "      <th>city_id</th>\n",
       "      <th>spec</th>\n",
       "      <th>successful_orders</th>\n",
       "      <th>fail_orders</th>\n",
       "    </tr>\n",
       "  </thead>\n",
       "  <tbody>\n",
       "    <tr>\n",
       "      <th>0</th>\n",
       "      <td>2019-07-02</td>\n",
       "      <td>40065</td>\n",
       "      <td>7501</td>\n",
       "      <td>23</td>\n",
       "      <td>Суши</td>\n",
       "      <td>54.0</td>\n",
       "      <td>1.0</td>\n",
       "    </tr>\n",
       "    <tr>\n",
       "      <th>1</th>\n",
       "      <td>2019-08-27</td>\n",
       "      <td>48058</td>\n",
       "      <td>33226</td>\n",
       "      <td>23</td>\n",
       "      <td>Шаурма</td>\n",
       "      <td>0.0</td>\n",
       "      <td>0.0</td>\n",
       "    </tr>\n",
       "    <tr>\n",
       "      <th>2</th>\n",
       "      <td>2019-09-25</td>\n",
       "      <td>35430</td>\n",
       "      <td>26220</td>\n",
       "      <td>25</td>\n",
       "      <td>Пицца</td>\n",
       "      <td>2.0</td>\n",
       "      <td>0.0</td>\n",
       "    </tr>\n",
       "    <tr>\n",
       "      <th>3</th>\n",
       "      <td>2019-09-21</td>\n",
       "      <td>56553</td>\n",
       "      <td>38601</td>\n",
       "      <td>23</td>\n",
       "      <td>Шашлыки</td>\n",
       "      <td>1.0</td>\n",
       "      <td>0.0</td>\n",
       "    </tr>\n",
       "    <tr>\n",
       "      <th>4</th>\n",
       "      <td>2019-09-21</td>\n",
       "      <td>43919</td>\n",
       "      <td>30984</td>\n",
       "      <td>25</td>\n",
       "      <td>Суши</td>\n",
       "      <td>6.0</td>\n",
       "      <td>0.0</td>\n",
       "    </tr>\n",
       "    <tr>\n",
       "      <th>5</th>\n",
       "      <td>2019-06-13</td>\n",
       "      <td>53006</td>\n",
       "      <td>36214</td>\n",
       "      <td>26</td>\n",
       "      <td>Грузинская</td>\n",
       "      <td>2.0</td>\n",
       "      <td>0.0</td>\n",
       "    </tr>\n",
       "    <tr>\n",
       "      <th>6</th>\n",
       "      <td>2019-07-07</td>\n",
       "      <td>28982</td>\n",
       "      <td>20651</td>\n",
       "      <td>24</td>\n",
       "      <td>Суши</td>\n",
       "      <td>0.0</td>\n",
       "      <td>1.0</td>\n",
       "    </tr>\n",
       "    <tr>\n",
       "      <th>7</th>\n",
       "      <td>2019-08-01</td>\n",
       "      <td>45472</td>\n",
       "      <td>30409</td>\n",
       "      <td>24</td>\n",
       "      <td>Бургеры</td>\n",
       "      <td>37.0</td>\n",
       "      <td>4.0</td>\n",
       "    </tr>\n",
       "    <tr>\n",
       "      <th>8</th>\n",
       "      <td>2019-07-03</td>\n",
       "      <td>65358</td>\n",
       "      <td>43034</td>\n",
       "      <td>23</td>\n",
       "      <td>Русская</td>\n",
       "      <td>1.0</td>\n",
       "      <td>0.0</td>\n",
       "    </tr>\n",
       "    <tr>\n",
       "      <th>9</th>\n",
       "      <td>2019-09-19</td>\n",
       "      <td>60878</td>\n",
       "      <td>41231</td>\n",
       "      <td>23</td>\n",
       "      <td>Русская</td>\n",
       "      <td>4.0</td>\n",
       "      <td>0.0</td>\n",
       "    </tr>\n",
       "  </tbody>\n",
       "</table>\n",
       "</div>"
      ],
      "text/plain": [
       "         date  vendor_id  chain_id  city_id        spec  successful_orders  \\\n",
       "0  2019-07-02      40065      7501       23        Суши               54.0   \n",
       "1  2019-08-27      48058     33226       23      Шаурма                0.0   \n",
       "2  2019-09-25      35430     26220       25       Пицца                2.0   \n",
       "3  2019-09-21      56553     38601       23     Шашлыки                1.0   \n",
       "4  2019-09-21      43919     30984       25        Суши                6.0   \n",
       "5  2019-06-13      53006     36214       26  Грузинская                2.0   \n",
       "6  2019-07-07      28982     20651       24        Суши                0.0   \n",
       "7  2019-08-01      45472     30409       24     Бургеры               37.0   \n",
       "8  2019-07-03      65358     43034       23     Русская                1.0   \n",
       "9  2019-09-19      60878     41231       23     Русская                4.0   \n",
       "\n",
       "   fail_orders  \n",
       "0          1.0  \n",
       "1          0.0  \n",
       "2          0.0  \n",
       "3          0.0  \n",
       "4          0.0  \n",
       "5          0.0  \n",
       "6          1.0  \n",
       "7          4.0  \n",
       "8          0.0  \n",
       "9          0.0  "
      ]
     },
     "execution_count": 4,
     "metadata": {},
     "output_type": "execute_result"
    }
   ],
   "source": [
    "df.head(10)"
   ]
  },
  {
   "cell_type": "markdown",
   "metadata": {},
   "source": [
    "## Сколько в датафрейсе колонок типа float64?"
   ]
  },
  {
   "cell_type": "code",
   "execution_count": 10,
   "metadata": {},
   "outputs": [
    {
     "data": {
      "text/plain": [
       "2"
      ]
     },
     "execution_count": 10,
     "metadata": {},
     "output_type": "execute_result"
    }
   ],
   "source": [
    "df.select_dtypes(include=['float64']).shape[1]"
   ]
  },
  {
   "cell_type": "markdown",
   "metadata": {},
   "source": [
    "## Чему ровно произведение кол-ва наблюдений на кол-во колонок в датафрейме?"
   ]
  },
  {
   "cell_type": "code",
   "execution_count": 11,
   "metadata": {},
   "outputs": [
    {
     "data": {
      "text/plain": [
       "672826"
      ]
     },
     "execution_count": 11,
     "metadata": {},
     "output_type": "execute_result"
    }
   ],
   "source": [
    "df.shape[0] * df.shape[1]"
   ]
  },
  {
   "cell_type": "markdown",
   "metadata": {},
   "source": [
    "## Сколько уникальных городов в датафрейме?"
   ]
  },
  {
   "cell_type": "code",
   "execution_count": 22,
   "metadata": {},
   "outputs": [
    {
     "data": {
      "text/plain": [
       "4"
      ]
     },
     "execution_count": 22,
     "metadata": {},
     "output_type": "execute_result"
    }
   ],
   "source": [
    "df.city_id.drop_duplicates().size"
   ]
  },
  {
   "cell_type": "markdown",
   "metadata": {},
   "source": [
    "## Сколько успешных заказов в среднем получали рестораны в день?\n",
    "Здесь я подрузамеваю, что нужно узнать среднее кол-во успешных заказов сделанных всеми ресторанами за день "
   ]
  },
  {
   "cell_type": "code",
   "execution_count": 29,
   "metadata": {},
   "outputs": [
    {
     "data": {
      "text/plain": [
       "7051.884297520661"
      ]
     },
     "execution_count": 29,
     "metadata": {},
     "output_type": "execute_result"
    }
   ],
   "source": [
    "df.groupby(by='date').sum().successful_orders.mean()"
   ]
  },
  {
   "cell_type": "markdown",
   "metadata": {},
   "source": [
    "## Кол-во ресторанов со специализацией \"Рыба\"? "
   ]
  },
  {
   "cell_type": "code",
   "execution_count": 35,
   "metadata": {},
   "outputs": [
    {
     "data": {
      "text/plain": [
       "18"
      ]
     },
     "execution_count": 35,
     "metadata": {},
     "output_type": "execute_result"
    }
   ],
   "source": [
    "df[df.spec == 'Рыба'].vendor_id.drop_duplicates().size"
   ]
  },
  {
   "cell_type": "markdown",
   "metadata": {},
   "source": [
    "## Сколько у ресторана 40065 было дней с кол-вом успешных заказов менее 20?"
   ]
  },
  {
   "cell_type": "code",
   "execution_count": 49,
   "metadata": {},
   "outputs": [
    {
     "data": {
      "text/plain": [
       "45"
      ]
     },
     "execution_count": 49,
     "metadata": {},
     "output_type": "execute_result"
    }
   ],
   "source": [
    "df_40065 = df[df.vendor_id == 40065]\n",
    "(df_40065.groupby(by='date').successful_orders.sum() < 20).sum()"
   ]
  },
  {
   "cell_type": "markdown",
   "metadata": {},
   "source": [
    "## Сколько заказов в среднем получили рестораны за рассматриваемый период времени?"
   ]
  },
  {
   "cell_type": "code",
   "execution_count": 52,
   "metadata": {},
   "outputs": [
    {
     "data": {
      "text/plain": [
       "555.1581001951854"
      ]
     },
     "execution_count": 52,
     "metadata": {},
     "output_type": "execute_result"
    }
   ],
   "source": [
    "df.groupby(by='vendor_id').successful_orders.sum().mean()"
   ]
  },
  {
   "cell_type": "markdown",
   "metadata": {},
   "source": [
    "## Город с самым маленьким кол-вом успешных заказов за весь период?"
   ]
  },
  {
   "cell_type": "code",
   "execution_count": 148,
   "metadata": {},
   "outputs": [
    {
     "data": {
      "text/plain": [
       "city_id                  24.0\n",
       "successful_orders    114977.0\n",
       "Name: 1, dtype: float64"
      ]
     },
     "execution_count": 148,
     "metadata": {},
     "output_type": "execute_result"
    }
   ],
   "source": [
    "suc_orders = df.groupby(by='city_id')[['successful_orders']].sum().reset_index()\n",
    "suc_orders.iloc[suc_orders['successful_orders'].argmin()]"
   ]
  },
  {
   "cell_type": "markdown",
   "metadata": {},
   "source": [
    "## Какая специализация имеет самую высокую долю неуспешных заказов за весь период времени?"
   ]
  },
  {
   "cell_type": "code",
   "execution_count": 163,
   "metadata": {},
   "outputs": [
    {
     "data": {
      "text/plain": [
       "spec                 Вегетарианское меню\n",
       "successful_orders                      5\n",
       "fail_orders                           24\n",
       "fail_orders_ratio               0.827586\n",
       "Name: 1, dtype: object"
      ]
     },
     "execution_count": 163,
     "metadata": {},
     "output_type": "execute_result"
    }
   ],
   "source": [
    "orders_info = df.groupby(by='spec').successful_orders.sum().reset_index()\n",
    "orders_info = pd.merge(orders_info, df.groupby(by='spec').fail_orders.sum(), on='spec')\n",
    "orders_info['fail_orders_ratio'] = orders_info.fail_orders / (orders_info.successful_orders + orders_info.fail_orders)\n",
    "orders_info.iloc[orders_info.fail_orders_ratio.argmax()]"
   ]
  },
  {
   "cell_type": "markdown",
   "metadata": {},
   "source": [
    "## Какая из сетей (chain_id) показала максимальный абсолютный рост за август 2019 года по сравнению с июлем 2019 года? Учитывать только те сети, у которых заказы были в июне и в августе\n",
    "К сожалению я ошибся в формате даты во время контрольной, написав вместо 2019-08-01 -> 2019-08-1 что естественно изменило мою выборку. Здесь привожу исправленную версию."
   ]
  },
  {
   "cell_type": "code",
   "execution_count": 180,
   "metadata": {},
   "outputs": [
    {
     "data": {
      "text/plain": [
       "chain_id                    29925.0\n",
       "successful_orders_june      11167.0\n",
       "successful_orders_august    12561.0\n",
       "absolute_growth              1394.0\n",
       "Name: 201, dtype: float64"
      ]
     },
     "execution_count": 180,
     "metadata": {},
     "output_type": "execute_result"
    }
   ],
   "source": [
    "df_aug = df[(df['date'] < '2019-09-01') & (df['date'] >= '2019-08-01')]\n",
    "df_june = df[(df['date'] < '2019-08-01') & (df['date'] >= '2019-07-01')]\n",
    "df_aug_suc = df_aug.groupby(by='chain_id').successful_orders.sum().reset_index()\n",
    "df_june_suc = df_june.groupby(by='chain_id').successful_orders.sum().reset_index()\n",
    "df_month_statistics = pd.merge(df_june_suc, df_aug_suc, on='chain_id', how='inner', suffixes=('_june', '_august'))\n",
    "df_month_statistics['absolute_growth'] = df_month_statistics.successful_orders_august - \\\n",
    "                                                df_month_statistics.successful_orders_june\n",
    "df_month_statistics.iloc[df_month_statistics.absolute_growth.argmax()]"
   ]
  }
 ],
 "metadata": {
  "kernelspec": {
   "display_name": "Python 3",
   "language": "python",
   "name": "python3"
  },
  "language_info": {
   "codemirror_mode": {
    "name": "ipython",
    "version": 3
   },
   "file_extension": ".py",
   "mimetype": "text/x-python",
   "name": "python",
   "nbconvert_exporter": "python",
   "pygments_lexer": "ipython3",
   "version": "3.7.4"
  }
 },
 "nbformat": 4,
 "nbformat_minor": 2
}
