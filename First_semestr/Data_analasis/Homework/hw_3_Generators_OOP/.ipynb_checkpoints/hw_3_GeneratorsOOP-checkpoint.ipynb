{
 "cells": [
  {
   "cell_type": "markdown",
   "metadata": {},
   "source": [
    "# Выражения-генераторы\n",
    "\n",
    "Вам предлагается набор из задачек, для каждой из которых решение — одно выражение-генератор."
   ]
  },
  {
   "cell_type": "markdown",
   "metadata": {},
   "source": [
    "### 1. Трансформация выражения (переведите выражение слева в выражение справа):\n",
    "\n",
    "'python' -> ['pppp', 'yyyy', 'tttt', 'hhhh', 'oooo', 'nnnn']"
   ]
  },
  {
   "cell_type": "code",
   "execution_count": 42,
   "metadata": {},
   "outputs": [
    {
     "data": {
      "text/plain": [
       "['pppp', 'yyyy', 'tttt', 'hhhh', 'oooo', 'nnnn']"
      ]
     },
     "execution_count": 42,
     "metadata": {},
     "output_type": "execute_result"
    }
   ],
   "source": [
    "def solution1(s='python'):\n",
    "    return [c * 4 for c in s]\n",
    "\n",
    "\n",
    "solution1()"
   ]
  },
  {
   "cell_type": "markdown",
   "metadata": {},
   "source": [
    "### 2. Трансформация выражения:\n",
    "\n",
    "'python' -> ['p', 'yy', 'ttt', 'hhhh', 'ooooo', 'nnnnnn']"
   ]
  },
  {
   "cell_type": "code",
   "execution_count": 41,
   "metadata": {},
   "outputs": [
    {
     "data": {
      "text/plain": [
       "['p', 'yy', 'ttt', 'hhhh', 'ooooo', 'nnnnnn']"
      ]
     },
     "execution_count": 41,
     "metadata": {},
     "output_type": "execute_result"
    }
   ],
   "source": [
    "def solution2(s='python'):\n",
    "    return [c * (i + 1) for i, c in enumerate('python')]\n",
    "\n",
    "\n",
    "solution2()"
   ]
  },
  {
   "cell_type": "markdown",
   "metadata": {},
   "source": [
    "### 3. Трансформация выражения:\n",
    "\n",
    "range(16) -> [0, 3, 5, 6, 9, 10, 12, 15]"
   ]
  },
  {
   "cell_type": "code",
   "execution_count": 43,
   "metadata": {},
   "outputs": [
    {
     "data": {
      "text/plain": [
       "[0, 3, 5, 6, 9, 10, 12, 15]"
      ]
     },
     "execution_count": 43,
     "metadata": {},
     "output_type": "execute_result"
    }
   ],
   "source": [
    "def solution3(a=range(16)):\n",
    "    return [i for i in a if i % 3 == 0 or i % 5 == 0]\n",
    "\n",
    "\n",
    "solution3()"
   ]
  },
  {
   "cell_type": "markdown",
   "metadata": {},
   "source": [
    "### 4. Трансформация выражения:\n",
    "\n",
    "[[1, 2, 3], [4, 5, 6, 7], [8, 9], [0]] -> [1, 2, 3, 4, 5, 6, 7, 8, 9, 0]\n",
    "\n",
    "Замечание: запрещается использовать функции chain и chain.from_iterable из модуля itertools."
   ]
  },
  {
   "cell_type": "code",
   "execution_count": 47,
   "metadata": {},
   "outputs": [
    {
     "data": {
      "text/plain": [
       "[1, 2, 3, 4, 5, 6, 7, 8, 9, 0]"
      ]
     },
     "execution_count": 47,
     "metadata": {},
     "output_type": "execute_result"
    }
   ],
   "source": [
    "def solution4(a=[[1, 2, 3], [4, 5, 6, 7], [8, 9], [0]]):\n",
    "    return [i for sublist in lists for i in sublist]\n",
    "\n",
    "\n",
    "solution4()"
   ]
  },
  {
   "cell_type": "markdown",
   "metadata": {},
   "source": [
    "### 5. Пифагоровы тройки.\n",
    "\n",
    "Выведите все уникальные пифагоровы тройки, где каждое из чисел не превосходит n. На вход подается число n (n ≤ 30).\n",
    "\n",
    "15 -> [(3, 4, 5), (5, 12, 13), (6, 8, 10), (9, 12, 15)]"
   ]
  },
  {
   "cell_type": "code",
   "execution_count": 49,
   "metadata": {},
   "outputs": [
    {
     "data": {
      "text/plain": [
       "[(3, 4, 5), (6, 8, 10), (5, 12, 13), (9, 12, 15)]"
      ]
     },
     "execution_count": 49,
     "metadata": {},
     "output_type": "execute_result"
    }
   ],
   "source": [
    "def solution5(n=15):\n",
    "    return [(i, j, k) for k in range(5, n+1) for j in range(1, k) \n",
    "            for i in range(1, j) if i**2 + j**2 == k**2]\n",
    "\n",
    "\n",
    "solution5()"
   ]
  },
  {
   "cell_type": "markdown",
   "metadata": {},
   "source": [
    "### 6. Трансформация выражения:\n",
    "\n",
    "([0, 1, 2], [0, 1, 2, 3, 4]) -> [[0, 1, 2, 3, 4], [1, 2, 3, 4, 5], [2, 3, 4, 5, 6]]"
   ]
  },
  {
   "cell_type": "code",
   "execution_count": 58,
   "metadata": {},
   "outputs": [
    {
     "data": {
      "text/plain": [
       "[[0, 1, 2, 3, 4], [1, 2, 3, 4, 5], [2, 3, 4, 5, 6]]"
      ]
     },
     "execution_count": 58,
     "metadata": {},
     "output_type": "execute_result"
    }
   ],
   "source": [
    "def solution6(a=([0, 1, 2], [0, 1, 2, 3, 4])):\n",
    "    return [[i + j for j in a[1]] for i in a[0]]\n",
    "    \n",
    "\n",
    "solution6()"
   ]
  },
  {
   "cell_type": "markdown",
   "metadata": {},
   "source": [
    "### 7. Транспонирование матрицы.\n",
    "\n",
    "[[1, 2], [3, 4], [5, 6]] -> [[1, 3, 5], [2, 4, 6]]\n",
    "[[1, 3, 5], [2, 4, 6]] -> [[1, 2], [3, 4], [5, 6]]\n",
    "\n",
    "Замечание: запрещается использовать сторонние библиотеки, например, scipy и numpy."
   ]
  },
  {
   "cell_type": "code",
   "execution_count": 56,
   "metadata": {},
   "outputs": [
    {
     "data": {
      "text/plain": [
       "[[1, 3, 5], [2, 4, 6]]"
      ]
     },
     "execution_count": 56,
     "metadata": {},
     "output_type": "execute_result"
    }
   ],
   "source": [
    "def solution7(A=[[1, 2], [3, 4], [5, 6]]):\n",
    "    return [[row[i] for row in A] for i in range(len(A[0]))]\n",
    "\n",
    "\n",
    "solution7(A)"
   ]
  },
  {
   "cell_type": "markdown",
   "metadata": {},
   "source": [
    "### 8. Трансформация выражения:\n",
    "\n",
    "[\"0\", \"1 2 3\", \"4 5 6 7\", \"8 9\"] -> [[0], [1, 2, 3], [4, 5, 6, 7], [8, 9]]"
   ]
  },
  {
   "cell_type": "code",
   "execution_count": 50,
   "metadata": {},
   "outputs": [
    {
     "data": {
      "text/plain": [
       "[[0], [1, 2, 3], [4, 5, 6, 7], [8, 9]]"
      ]
     },
     "execution_count": 50,
     "metadata": {},
     "output_type": "execute_result"
    }
   ],
   "source": [
    "def solution8(a=[\"0\", \"1 2 3\", \"4 5 6 7\", \"8 9\"]): \n",
    "    return [[int(i) for i in s.split()] for s in a]\n",
    "\n",
    "\n",
    "solution8()"
   ]
  },
  {
   "cell_type": "markdown",
   "metadata": {},
   "source": [
    "### 9. Трансформация выражения:\n",
    "\n",
    "range(0, 7) -> {'a': 0, 'b': 1, 'c': 4, 'd': 9, 'e': 16, 'f': 25, 'g': 36}\n",
    "\n",
    "Замечание: запрещается использовать ключевое слово dict, используйте фигурные скобки."
   ]
  },
  {
   "cell_type": "code",
   "execution_count": 53,
   "metadata": {},
   "outputs": [
    {
     "data": {
      "text/plain": [
       "{'a': 0, 'b': 1, 'c': 4, 'd': 9, 'e': 16, 'f': 25, 'g': 36}"
      ]
     },
     "execution_count": 53,
     "metadata": {},
     "output_type": "execute_result"
    }
   ],
   "source": [
    "def solution9(a=range(7)): \n",
    "    return {chr(ord('a') + i): i**2 for i in a}\n",
    "\n",
    "\n",
    "solution9()"
   ]
  },
  {
   "cell_type": "markdown",
   "metadata": {},
   "source": [
    "### 10. Трансформация выражения:\n",
    "\n",
    "['Alice', 'vova', 'ANTON', 'Bob', 'kAMILA', 'CJ', 'ALICE', 'Nastya'] -> {'Alice', 'Anton', 'Kamila', 'Nastya', 'Vova'}\n",
    "\n",
    "Замечание: запрещается использовать ключевое слово set, используйте фигурные скобки."
   ]
  },
  {
   "cell_type": "code",
   "execution_count": 54,
   "metadata": {},
   "outputs": [
    {
     "data": {
      "text/plain": [
       "{'Alice', 'Anton', 'Kamila', 'Nastya', 'Vova'}"
      ]
     },
     "execution_count": 54,
     "metadata": {},
     "output_type": "execute_result"
    }
   ],
   "source": [
    "def solution10(names=['Alice', 'vova', 'ANTON', 'Bob', 'kAMILA', 'CJ', 'ALICE', 'Nastya']):\n",
    "    return {name.capitalize() for name in names if len(name) > 3}\n",
    "\n",
    "\n",
    "solution10()"
   ]
  },
  {
   "cell_type": "code",
   "execution_count": null,
   "metadata": {},
   "outputs": [],
   "source": [
    "def solution1(s):\n",
    "    return [c * 4 for c in s]\n",
    "\n",
    "def solution2(s):\n",
    "    return [c * (i + 1) for i, c in enumerate(s)]\n",
    "\n",
    "def solution3(a):\n",
    "    return [i for i in a if i % 3 == 0 or i % 5 == 0]\n",
    "\n",
    "def solution4(a):\n",
    "    return [i for sublist in lists for i in sublist]\n",
    "\n",
    "def solution5(n):\n",
    "    return [(i, j, k) for k in range(5, n+1) for j in range(1, k) \n",
    "            for i in range(1, j) if i**2 + j**2 == k**2]\n",
    "\n",
    "def solution6(a):\n",
    "    return [[i + j for j in a[1]] for i in a[0]]\n",
    "\n",
    "def solution7(A):\n",
    "    return [[row[i] for row in A] for i in range(len(A[0]))]\n",
    "\n",
    "def solution8(a): \n",
    "    return [[int(i) for i in s.split()] for s in a]\n",
    "\n",
    "def solution9(a): \n",
    "    return {chr(ord('a') + i): i**2 for i in a}\n",
    "\n",
    "def solution10(names):\n",
    "    return {name.capitalize() for name in names if len(name) > 3}\n",
    "\n",
    "\n",
    "\n",
    "solutions = {\n",
    "    'solution1': solution1,\n",
    "    'solution2': solution2,\n",
    "    'solution3': solution3,\n",
    "    'solution4': solution4,\n",
    "    'solution5': solution5,\n",
    "    'solution6': solution6,\n",
    "    'solution7': solution7,\n",
    "    'solution8': solution8,\n",
    "    'solution9': solution9,\n",
    "    'solution10': solution10,\n",
    "}"
   ]
  },
  {
   "cell_type": "markdown",
   "metadata": {},
   "source": [
    "# Задание 3\n",
    "## Кто не успел, тот опоздал\n",
    "\n",
    "В системах реального времени не редко бывают ограничения на время ответа -- пользователь вашего сервиса не будет ждать ответа бесконечно долго. Например, если пользователь что-то ищет в вашем поиске имеет смысл показать ему хоть что-то более менее соответствующее запросу, нежели не показать ничего. Чтобы определить, что мы не успеваем отдать ответ пользователю за заранее определенное время используется механизм таймаутов.\n",
    "\n",
    "В этом задании предлагается написать декоратор @timeout(seconds=0.1), который будет прерывать выполнение функции и бросать исключение TimeoutException, если функция не укладывается в заданное число секунд."
   ]
  },
  {
   "cell_type": "code",
   "execution_count": 2,
   "metadata": {},
   "outputs": [
    {
     "name": "stdout",
     "output_type": "stream",
     "text": [
      "Timed out\n"
     ]
    }
   ],
   "source": [
    "from time import sleep\n",
    "import functools\n",
    "import signal\n",
    "\n",
    "\n",
    "from time import sleep\n",
    "import functools\n",
    "import signal\n",
    "\n",
    "\n",
    "class TimeoutException(RuntimeError):\n",
    "    def __init__(self, message=None):\n",
    "        super().__init__(message)\n",
    "\n",
    "\n",
    "def handler(signum, frame):\n",
    "    raise TimeoutException(\"Timed out\")\n",
    "\n",
    "\n",
    "def timeout(seconds):\n",
    "    def decorator(func):\n",
    "        if(seconds is None or seconds <= 0):\n",
    "            return func\n",
    "\n",
    "        @functools.wraps(func)\n",
    "        def wrapper(*args, **argv):\n",
    "            signal.signal(signal.SIGALRM, handler)\n",
    "            signal.setitimer(signal.ITIMER_REAL, seconds)\n",
    "            result = func(*args, **argv)\n",
    "            signal.setitimer(signal.ITIMER_REAL, 0)\n",
    "            signal.signal(signal.SIGALRM, signal.SIG_DFL)\n",
    "            return result\n",
    "        return wrapper\n",
    "    return decorator\n",
    "\n",
    "\n",
    "@timeout(seconds=0.5)\n",
    "def func1():\n",
    "    sleep(0.1)\n",
    "\n",
    "\n",
    "try:\n",
    "    func1()\n",
    "except TimeoutException as e:\n",
    "    print(e)\n",
    "\n",
    "\n",
    "@timeout(seconds= 0.2)\n",
    "def func2():\n",
    "    sleep(0.3)\n",
    "\n",
    "def main():\n",
    "    try:\n",
    "        func2()\n",
    "    except TimeoutException as e:\n",
    "        print(e)\n",
    "\n",
    "if __name__ == \"__main__\":\n",
    "    main()"
   ]
  },
  {
   "cell_type": "markdown",
   "metadata": {},
   "source": [
    "# Задача 4\n",
    "## Счетчики\n",
    "\n",
    "Напишите декоратор @counter, который позволял бы посчитать глубину рекурсии функции и количество рекурсивных вызовов функции.\n",
    "\n",
    "Декоратор должен создать два атрибута для функции:\n",
    "\n",
    "    ncalls — число вызовов функции;\n",
    "    rdepth — глубина рекурсии.\n",
    "\n",
    "Счётчики ncalls и rdepth должны обнуляться при каждом новом входе в рекурсию, см. примеры."
   ]
  },
  {
   "cell_type": "code",
   "execution_count": null,
   "metadata": {},
   "outputs": [],
   "source": [
    "#         if not hasattr(wrapper, 'ncalls'):\n",
    "#             setattr(wrapper, 'ncalls', 0)\n",
    "#         if not hasattr(wrapper, 'rdepth'):\n",
    "#             setattr(wrapper, 'rdepth', 0)"
   ]
  },
  {
   "cell_type": "code",
   "execution_count": 65,
   "metadata": {},
   "outputs": [
    {
     "name": "stdout",
     "output_type": "stream",
     "text": [
      "88573 11\n",
      "40 4\n",
      "1 1\n",
      "1 1\n"
     ]
    }
   ],
   "source": [
    "def counter(func):\n",
    "    func.current_depth = 0\n",
    "    func.rdepth = 0\n",
    "    func.ncalls = 0\n",
    "    @functools.wraps(func)\n",
    "    def wrapper(*args, **argv):\n",
    "        if(wrapper.current_depth == 0):\n",
    "            wrapper.ncalls, wrapper.rdepth = 0, 0\n",
    "        wrapper.current_depth += 1\n",
    "        wrapper.ncalls += 1\n",
    "        result = func(*args, **argv)\n",
    "        wrapper.rdepth = max(wrapper.current_depth, wrapper.rdepth)\n",
    "        wrapper.current_depth -= 1\n",
    "        return result\n",
    "    return wrapper\n",
    "\n",
    "@counter\n",
    "def func2(n, steps):\n",
    "    if steps == 0:\n",
    "        return n\n",
    "    \n",
    "    return func2(n + 1, steps - 1) + func2(n - 1, steps - 1) + func2(n, steps - 1)\n",
    "    \n",
    "@counter\n",
    "def func1():\n",
    "    return\n",
    "\n",
    "if __name__ == \"__main__\":\n",
    "    pass\n",
    "    func2(0, 10)\n",
    "    print(func2.ncalls, func2.rdepth)\n",
    "    func2(1, 3)\n",
    "    print(func2.ncalls, func2.rdepth)\n",
    "    \n",
    "    func1()\n",
    "    print(func1.ncalls, func1.rdepth)\n",
    "    func1()\n",
    "    print(func1.ncalls, func1.rdepth)\n",
    "    \n"
   ]
  },
  {
   "cell_type": "markdown",
   "metadata": {},
   "source": [
    "# Задача 5\n",
    "## Змейка\n",
    "\n",
    "В модуле itertools есть функция chain, которая позволяет последовательно объединять несколько итерируемых объектов.\n",
    "\n",
    "Напишите генератор-функцию chain_loop(args), который бы:\n",
    "\n",
    "    циклически обходил бы объекты в args;\n",
    "    из каждого объекта элементы извлекались бы в порядке их очереди;\n",
    "    если в некотором объекте элементы закончились, то этот объект нужно игнорировать (см. замечание) при циклическом обходе;\n",
    "    генератор завершает свою работу тогда, когда все элементы из всех объектов в args были извлечены.\n",
    "\n",
    "Обратите внимание на требования к реализации, см. ниже.\n",
    "\n",
    "Постарайтесь придумать максимально общее решение без предположения о том, что какие-то значения точно будут отсутствовать в элементах args."
   ]
  },
  {
   "cell_type": "code",
   "execution_count": 27,
   "metadata": {},
   "outputs": [
    {
     "name": "stdout",
     "output_type": "stream",
     "text": [
      "[0, 0, 0, 0, 0, 1, 1, 1, 1, 1, 2, 2, 2, 2, 2]\n"
     ]
    }
   ],
   "source": [
    "from functools import reduce\n",
    "from itertools import tee\n",
    "\n",
    "def take_obj(obj):\n",
    "    for item in obj:\n",
    "        yield item\n",
    "\n",
    "def loop(objects):\n",
    "    i = 0\n",
    "    size = len(objects)\n",
    "    while True:\n",
    "        yield i % size, objects[i % size]\n",
    "        i += 1\n",
    "        \n",
    "def chain_loop(objects):\n",
    "    generators = [take_obj(obj) for obj in objects]\n",
    "    empty = set()\n",
    "    for i, gen in loop(generators):\n",
    "        if len(empty) == len(objects):\n",
    "            break\n",
    "        if i not in empty:\n",
    "            try:\n",
    "                yield next(gen)\n",
    "            except(StopIteration):\n",
    "                empty.add(i)\n",
    "\n",
    "a = (i for i in range(3))\n",
    "\n",
    "print(list(chain_loop(tee(a, 5))))\n"
   ]
  },
  {
   "cell_type": "markdown",
   "metadata": {},
   "source": [
    "# Задание 6\n",
    "## Скобочные последовательности\n",
    "\n",
    "Рассмотрим последовательность из n открывающихся и n закрывающихся круглых скобок. Последовательность называется правильной, если в любом ее префиксе число открывающих скобок не меньше числа закрывающих. Префиксом последовательности называется последовательность из первых k (целое) элементов последовательности.\n",
    "\n",
    "Все правильные последовательности для n = 3: \n"
   ]
  },
  {
   "cell_type": "code",
   "execution_count": 353,
   "metadata": {},
   "outputs": [
    {
     "name": "stdout",
     "output_type": "stream",
     "text": [
      "3\n",
      "((()))\n",
      "(()())\n",
      "(())()\n",
      "()(())\n",
      "()()()\n"
     ]
    }
   ],
   "source": [
    "def brackets(n, lbrackets=0, rbrackets=0, brackets_string=\"\"):\n",
    "    if(lbrackets + rbrackets == 2*n):\n",
    "        yield(brackets_string)\n",
    "    if(lbrackets < n):\n",
    "        yield from brackets(n, lbrackets + 1, rbrackets, brackets_string + '(')\n",
    "    if lbrackets > rbrackets:\n",
    "        yield from brackets(n, lbrackets, rbrackets + 1, brackets_string + ')')\n",
    "\n",
    "\n",
    "if __name__ == '__main__':\n",
    "    n = int(input())\n",
    "    print(*brackets(n), sep='\\n')\n"
   ]
  },
  {
   "cell_type": "markdown",
   "metadata": {},
   "source": [
    "# Задание 7\n",
    "## Неправильный словарь\n",
    "\n",
    "В модуле collections есть класс defaultdict, который позволяет создавать словарь со значением по-умолчанию.\n",
    "\n",
    "Пусть:\n",
    "\n",
    "    smartdict – (обычный) словарь (dict), который хранит в себе некоторый defaultdict;\n",
    "    key – некоторый ключ в словаре smartdict;\n",
    "    val – значение в словаре smartdict по ключу key: val = smartdict[key].\n",
    "\n",
    "Значение по-умолчанию для val определим, как smartdict_nan(key).\n",
    "\n",
    "Имеется следующая реализация:"
   ]
  },
  {
   "cell_type": "code",
   "execution_count": null,
   "metadata": {},
   "outputs": [],
   "source": [
    "from collections import defaultdict\n",
    "\n",
    "def smartdict_nan(key):\n",
    "    return 10 * key\n",
    "\n",
    "N = 10\n",
    "\n",
    "smartdict = {}\n",
    "for key in range(N):\n",
    "    val = defaultdict(lambda key=key: smartdict_nan(key))\n",
    "    smartdict[key] = val\n",
    "\n",
    "\"\"\"\n",
    "Проблема изначальной реализации заключается в следующем - при обращении к несуществующему ключу, как и должно быть\n",
    "в defaultdict, вызывалась функция по умолчанию, которую мы задали как lambda: smartdict_nan(key). При ее вызове\n",
    "переменная key искалась по правилу поиска LEGB: Local -> Enclosed -> Global -> Built-in. И так как после выполнения\n",
    "цикла, переменная key стала равна 9, то он и использовал это значение. Чтобы это исправить я в нашей функции по\n",
    "умолчанию конкретно указал чему должна быть равна переменная key. Тем самым она нашлась в локальной области\n",
    "видимости.\n",
    "\"\"\""
   ]
  },
  {
   "cell_type": "code",
   "execution_count": 404,
   "metadata": {},
   "outputs": [
    {
     "name": "stdout",
     "output_type": "stream",
     "text": [
      "50\n",
      "70\n",
      "20\n"
     ]
    }
   ],
   "source": [
    "print(smartdict[5]['key_unknown']) # right answer is 50\n",
    "\n",
    "print(smartdict[7]['key_unknown']) # right answer is 70\n",
    "\n",
    "print(smartdict[2]['key_unknown']) # right answer is 20"
   ]
  },
  {
   "cell_type": "markdown",
   "metadata": {},
   "source": [
    "# Задание 8\n",
    "\n",
    "## Магическое префиксное дерево поиска\n",
    "\n",
    "В этом задании требуется реализовать префиксное дерево поиска. Как нетрудно догадаться из названия структуры данных, такого рода деревья позволяют достаточно эффективно искать строки имеющие общий префикс.\n",
    "\n",
    "Ваше решение должно содержать реализацию 3-х классов:\n",
    "\n",
    "    Node – класс, реализующий вершину в дереве;\n",
    "    Trie – класс, реализующий префиксное дерево;\n",
    "    TrieIterator – класс, реализующий итерацию по префиксному дереву в ширину.\n",
    "\n",
    "Ваш класс Trie должен поддерживать следующий интерфейс:\n",
    "\n",
    "1. Класс должен иметь метод add(word), с помощью которого можно сохранить слово word в дереве.\n",
    "\n",
    "2. Класс должен иметь метод pop(word), с помощью которого можно удалить из дерева слово word. Если слово отсутсвует, то должно быть брошено исключение KeyError(word).\n",
    "\n",
    "3. Должна быть возможность получить количество слов в дереве trie: len(trie). Количество элементов в дереве должно вычисляться за O(1).\n",
    "\n",
    "4. Класс должен поддерживать проверку наличия слова word в дереве trie через конструкцию word in trie. Проверка наличия слова должна быть реализована эффективно, т.е. через поиск в глубину.\n",
    "\n",
    "5. Класс должен поддерживать механизм итерации (с использованием класса TrieIterator). Итерирование соответствует обходу дерева в ширину. При итерации по дереву требуется получать все слова, находящиеся в дереве.\n",
    "\n",
    "6. Класс должен иметь метод starts_with(prefix), который возвращает итератор на слова, имеющие префикс prefix."
   ]
  },
  {
   "cell_type": "code",
   "execution_count": 25,
   "metadata": {},
   "outputs": [],
   "source": [
    "from collections import deque\n",
    "import string\n",
    "\n",
    "\n",
    "class TrieIterator:\n",
    "\n",
    "    def __init__(self, head):\n",
    "        self.sorted_string = \"{}{}{}\".format(\n",
    "            string.digits,\n",
    "            string.ascii_uppercase,\n",
    "            string.ascii_lowercase)\n",
    "        self.queue = deque([head])\n",
    "\n",
    "    def __iter__(self):\n",
    "        return self\n",
    "\n",
    "    def __next__(self):\n",
    "        while len(self.queue) != 0:\n",
    "            node = self.queue.popleft()\n",
    "            for character in self.sorted_string:\n",
    "                if character in node.children:\n",
    "                    child = node.children[character]\n",
    "                    self.queue.append(child)\n",
    "            if node.is_key:\n",
    "                return node.word\n",
    "        raise StopIteration\n",
    "\n",
    "class Node:\n",
    "\n",
    "    def __init__(self, character=\"\", word=None, is_key=False, parent=None):\n",
    "        self.character = character\n",
    "        self.is_key = is_key\n",
    "        self.parent = parent\n",
    "        if self.is_key:\n",
    "            self.word = word\n",
    "        self.children = dict()\n",
    "\n",
    "    def add_child(self, node):\n",
    "        self.children[node.character] = node\n",
    "\n",
    "\n",
    "class Trie:\n",
    "    \"\"\"\n",
    "    Префиксное дерево — структура данных реализующая интерфейс ассоциативного массива,\n",
    "    то есть позволяющая хранить пары «ключ-значение». В большинстве случаев\n",
    "    ключами выступают строки, однако в качестве ключей можно использовать любые типы данных, представимые\n",
    "    как последовательность байт (то есть вообще любые).\n",
    "    \"\"\"\n",
    "\n",
    "    def __init__(self):\n",
    "        self.head = Node(\"\")\n",
    "        self.length = 0\n",
    "\n",
    "    def find_max_prefix(self, word):\n",
    "        current_parent = self.head\n",
    "        max_prefix = \"\"\n",
    "        for ch in word:\n",
    "            find_node = False\n",
    "            for character, child in current_parent.children.items():\n",
    "                if ch == character:\n",
    "                    current_parent = child\n",
    "                    max_prefix += ch\n",
    "                    find_node = True\n",
    "                    break\n",
    "\n",
    "            if(not find_node):\n",
    "                break\n",
    "\n",
    "        return max_prefix, current_parent\n",
    "\n",
    "    def starts_with(self, prefix):\n",
    "        max_prefix, node = self.find_max_prefix(prefix)\n",
    "        if len(max_prefix) != len(prefix):\n",
    "            return TrieIterator(Node())\n",
    "        return TrieIterator(node)\n",
    "\n",
    "    def add(self, word):\n",
    "        max_prefix, node = self.find_max_prefix(word)\n",
    "        index = len(max_prefix)\n",
    "        if index == len(word) and node.is_key:\n",
    "            return\n",
    "        current_parent = node\n",
    "        for ch in word[index:]:\n",
    "            child = Node(ch, parent=current_parent)\n",
    "            current_parent.add_child(child)\n",
    "            current_parent = child\n",
    "        current_parent.is_key = True\n",
    "        current_parent.word = word\n",
    "        self.length += 1\n",
    "\n",
    "    def pop(self, word):\n",
    "        max_prefix, node = self.find_max_prefix(word)\n",
    "\n",
    "        if len(max_prefix) != len(word) or not node.is_key:\n",
    "            raise KeyError(word)\n",
    "        else:\n",
    "            if len(node.children) != 0:\n",
    "                node.is_key = False\n",
    "                node.word = None\n",
    "            else:\n",
    "                node.parent.children.pop(node.character)\n",
    "                node = node.parent\n",
    "                while (len(node.children) == 0 and not node.is_key\n",
    "                       and node.parent is not None):\n",
    "                    node.parent.children.pop(node.character)\n",
    "                    node = node.parent\n",
    "            self.length -= 1\n",
    "\n",
    "    def __contains__(self, word):\n",
    "        max_prefix, node = self.find_max_prefix(word)\n",
    "        return len(max_prefix) == len(word) and node.is_key\n",
    "\n",
    "    def __iter__(self):\n",
    "        return TrieIterator(self.head)\n",
    "\n",
    "    def __len__(self):\n",
    "        return self.length\n"
   ]
  },
  {
   "cell_type": "code",
   "execution_count": 26,
   "metadata": {},
   "outputs": [
    {
     "name": "stdout",
     "output_type": "stream",
     "text": [
      "a ab abc abcd\n"
     ]
    }
   ],
   "source": [
    "trie = Trie()\n",
    "trie.add('abcd')\n",
    "trie.add('abc')\n",
    "trie.add('ab')\n",
    "trie.add('a')\n",
    "\n",
    "print(*trie)\n"
   ]
  },
  {
   "cell_type": "markdown",
   "metadata": {},
   "source": [
    "# Задание 10\n",
    "\n",
    "## Хрупкий словарь\n",
    "\n",
    "В банках всего мира используются SQL-базы данных. Основным преимуществом этих баз данных является высокая скорость доступа к данным, а также выполнение принципов ACID (атомарность, согласованность, изолированность, долговечность). Транзакции обязаны удовлетворять этим принципам, иначе любая ошибка может привести к огромным потерям со стороны банка.\n",
    "\n",
    "В этом задании предлагается реализовать прототип простейшего \"безопасного\" хранилища. Наше хранилище будет называться «хрупким словарем». Класс FragileDict должен реализовывать следующий интерфейс:\n",
    "\n",
    "1. Инициализатор опционально может принимать на вход словарь, содержимое которого будет храниться в «хрупком словаре». В конструкторе заполняются два атрибута: _data — хранилище с данными, _lock — булев флаг, показывающий разрешено ли редактировать хранилище (True в положении вне контекста). Других полей быть НЕ должно.\n",
    "\n",
    "2. Из любого экземпляра класса FragileDict можно читать данные аналогично тому, как это делается для словарей, например, d['key']. Если ключ (key) отсутствует, то бросается исключение KeyError(key), как если бы это был просто словарь.\n",
    "\n",
    "3. Класс FragileDict должен поддерживать механизм менеджера контекста. Экземпляр класса может создаваться при входе в контекст.\n",
    "\n",
    "4. В экземпляры класса можно записывать данные аналогично тому, как это делается для словарей, например, d['key'] = value. Однако разрешается это делать только внутри контекста. Если этот контракт нарушается, то бросается исключение RuntimeError(\"Protected state\"). При входе в контекст разрешается создавать любые атрибуты класса, но на выходе из контекста никаких сторонних атрибутов быть не должно.\n",
    "\n",
    "5. Если внутри контекста возникло исключение, то данные не записываются. На выходе из контекста «словарь» должен иметь точно такое же состояние, как и на входе. Само исключение подавляется, и пишется сообщение об ошибке \"Exception has been suppressed.\".\n",
    "\n",
    "6. Класс должен поддерживать проверку наличия ключа в формате key in d, где key — некоторый ключ, а d — экземпляр класса «хрупкого словаря»."
   ]
  },
  {
   "cell_type": "code",
   "execution_count": 124,
   "metadata": {},
   "outputs": [],
   "source": [
    "import copy\n",
    "\n",
    "\n",
    "class FragileDict:\n",
    "\n",
    "    def __init__(self, data=dict()):\n",
    "        self._data = copy.deepcopy(data)\n",
    "        self._lock = True\n",
    "\n",
    "    def __getitem__(self, key):\n",
    "        return copy.deepcopy(self._data[key]) if self._lock else self._data[key]\n",
    "\n",
    "    def __setitem__(self, key, item):\n",
    "        if self._lock:\n",
    "            raise RuntimeError(\"Protected state\")\n",
    "        self._data[key] = item\n",
    "\n",
    "    def __contains__(self, key):\n",
    "        return key in self._data\n",
    "\n",
    "    def __enter__(self):\n",
    "        self.__initial_data = copy.deepcopy(self._data)\n",
    "        self._lock = False\n",
    "        return self\n",
    "\n",
    "    def __exit__(self, exc_type, exc_value, traceback):\n",
    "        if exc_type is not None:\n",
    "            self._data = self.__initial_data\n",
    "            delattr(self, \"_FragileDict__initial_data\")\n",
    "            self._lock = True\n",
    "            print(\"Exception has been suppressed.\")\n",
    "            return True\n",
    "        delattr(self, \"_FragileDict__initial_data\")\n",
    "        self._data = copy.deepcopy(self._data)\n",
    "        self._lock = True\n"
   ]
  },
  {
   "cell_type": "code",
   "execution_count": 125,
   "metadata": {},
   "outputs": [
    {
     "name": "stdout",
     "output_type": "stream",
     "text": [
      "Exception has been suppressed.\n"
     ]
    },
    {
     "data": {
      "text/plain": [
       "[1, 2, 3]"
      ]
     },
     "execution_count": 125,
     "metadata": {},
     "output_type": "execute_result"
    }
   ],
   "source": [
    "a = [1, 2, 3]\n",
    "d = FragileDict({'key': a})\n",
    "with d:\n",
    "    a = d['key']\n",
    "    d['key'].append(10)\n",
    "    a.append(10)\n",
    "    raise RuntimeError\n",
    "a.append\n",
    "d['key'].append('key')\n",
    "d['key']"
   ]
  },
  {
   "cell_type": "code",
   "execution_count": 51,
   "metadata": {},
   "outputs": [
    {
     "ename": "KeyError",
     "evalue": "2",
     "output_type": "error",
     "traceback": [
      "\u001b[0;31m---------------------------------------------------------------------------\u001b[0m",
      "\u001b[0;31mKeyError\u001b[0m                                  Traceback (most recent call last)",
      "\u001b[0;32m<ipython-input-51-ece72d928b28>\u001b[0m in \u001b[0;36m<module>\u001b[0;34m\u001b[0m\n\u001b[0;32m----> 1\u001b[0;31m \u001b[0mfd\u001b[0m\u001b[0;34m[\u001b[0m\u001b[0;36m2\u001b[0m\u001b[0;34m]\u001b[0m\u001b[0;34m\u001b[0m\u001b[0;34m\u001b[0m\u001b[0m\n\u001b[0m",
      "\u001b[0;32m<ipython-input-48-290a6b0c0032>\u001b[0m in \u001b[0;36m__getitem__\u001b[0;34m(self, key)\u001b[0m\n\u001b[1;32m      8\u001b[0m \u001b[0;34m\u001b[0m\u001b[0m\n\u001b[1;32m      9\u001b[0m     \u001b[0;32mdef\u001b[0m \u001b[0m__getitem__\u001b[0m\u001b[0;34m(\u001b[0m\u001b[0mself\u001b[0m\u001b[0;34m,\u001b[0m \u001b[0mkey\u001b[0m\u001b[0;34m)\u001b[0m\u001b[0;34m:\u001b[0m\u001b[0;34m\u001b[0m\u001b[0;34m\u001b[0m\u001b[0m\n\u001b[0;32m---> 10\u001b[0;31m         \u001b[0;32mreturn\u001b[0m \u001b[0mself\u001b[0m\u001b[0;34m.\u001b[0m\u001b[0m_data\u001b[0m\u001b[0;34m[\u001b[0m\u001b[0mkey\u001b[0m\u001b[0;34m]\u001b[0m\u001b[0;34m\u001b[0m\u001b[0;34m\u001b[0m\u001b[0m\n\u001b[0m\u001b[1;32m     11\u001b[0m \u001b[0;34m\u001b[0m\u001b[0m\n\u001b[1;32m     12\u001b[0m     \u001b[0;32mdef\u001b[0m \u001b[0m__setitem__\u001b[0m\u001b[0;34m(\u001b[0m\u001b[0mself\u001b[0m\u001b[0;34m,\u001b[0m \u001b[0mkey\u001b[0m\u001b[0;34m,\u001b[0m \u001b[0mitem\u001b[0m\u001b[0;34m)\u001b[0m\u001b[0;34m:\u001b[0m\u001b[0;34m\u001b[0m\u001b[0;34m\u001b[0m\u001b[0m\n",
      "\u001b[0;31mKeyError\u001b[0m: 2"
     ]
    }
   ],
   "source": [
    "fd[2]"
   ]
  }
 ],
 "metadata": {
  "kernelspec": {
   "display_name": "Python 3",
   "language": "python",
   "name": "python3"
  },
  "language_info": {
   "codemirror_mode": {
    "name": "ipython",
    "version": 3
   },
   "file_extension": ".py",
   "mimetype": "text/x-python",
   "name": "python",
   "nbconvert_exporter": "python",
   "pygments_lexer": "ipython3",
   "version": "3.7.9"
  }
 },
 "nbformat": 4,
 "nbformat_minor": 4
}
