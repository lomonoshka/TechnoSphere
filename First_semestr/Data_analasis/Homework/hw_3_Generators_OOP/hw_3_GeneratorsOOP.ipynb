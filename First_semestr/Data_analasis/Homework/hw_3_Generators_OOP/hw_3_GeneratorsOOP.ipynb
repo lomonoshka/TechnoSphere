{
 "cells": [
  {
   "cell_type": "markdown",
   "metadata": {},
   "source": [
    "# Выражения-генераторы\n",
    "\n",
    "Вам предлагается набор из задачек, для каждой из которых решение — одно выражение-генератор."
   ]
  },
  {
   "cell_type": "markdown",
   "metadata": {},
   "source": [
    "### 1. Трансформация выражения (переведите выражение слева в выражение справа):\n",
    "\n",
    "'python' -> ['pppp', 'yyyy', 'tttt', 'hhhh', 'oooo', 'nnnn']"
   ]
  },
  {
   "cell_type": "code",
   "execution_count": 42,
   "metadata": {},
   "outputs": [
    {
     "data": {
      "text/plain": [
       "['pppp', 'yyyy', 'tttt', 'hhhh', 'oooo', 'nnnn']"
      ]
     },
     "execution_count": 42,
     "metadata": {},
     "output_type": "execute_result"
    }
   ],
   "source": [
    "def solution1(s='python'):\n",
    "    return [c * 4 for c in s]\n",
    "\n",
    "\n",
    "solution1()"
   ]
  },
  {
   "cell_type": "markdown",
   "metadata": {},
   "source": [
    "### 2. Трансформация выражения:\n",
    "\n",
    "'python' -> ['p', 'yy', 'ttt', 'hhhh', 'ooooo', 'nnnnnn']"
   ]
  },
  {
   "cell_type": "code",
   "execution_count": 41,
   "metadata": {},
   "outputs": [
    {
     "data": {
      "text/plain": [
       "['p', 'yy', 'ttt', 'hhhh', 'ooooo', 'nnnnnn']"
      ]
     },
     "execution_count": 41,
     "metadata": {},
     "output_type": "execute_result"
    }
   ],
   "source": [
    "def solution2(s='python'):\n",
    "    return [c * (i + 1) for i, c in enumerate('python')]\n",
    "\n",
    "\n",
    "solution2()"
   ]
  },
  {
   "cell_type": "markdown",
   "metadata": {},
   "source": [
    "### 3. Трансформация выражения:\n",
    "\n",
    "range(16) -> [0, 3, 5, 6, 9, 10, 12, 15]"
   ]
  },
  {
   "cell_type": "code",
   "execution_count": 43,
   "metadata": {},
   "outputs": [
    {
     "data": {
      "text/plain": [
       "[0, 3, 5, 6, 9, 10, 12, 15]"
      ]
     },
     "execution_count": 43,
     "metadata": {},
     "output_type": "execute_result"
    }
   ],
   "source": [
    "def solution3(a=range(16)):\n",
    "    return [i for i in a if i % 3 == 0 or i % 5 == 0]\n",
    "\n",
    "\n",
    "solution3()"
   ]
  },
  {
   "cell_type": "markdown",
   "metadata": {},
   "source": [
    "### 4. Трансформация выражения:\n",
    "\n",
    "[[1, 2, 3], [4, 5, 6, 7], [8, 9], [0]] -> [1, 2, 3, 4, 5, 6, 7, 8, 9, 0]\n",
    "\n",
    "Замечание: запрещается использовать функции chain и chain.from_iterable из модуля itertools."
   ]
  },
  {
   "cell_type": "code",
   "execution_count": 47,
   "metadata": {},
   "outputs": [
    {
     "data": {
      "text/plain": [
       "[1, 2, 3, 4, 5, 6, 7, 8, 9, 0]"
      ]
     },
     "execution_count": 47,
     "metadata": {},
     "output_type": "execute_result"
    }
   ],
   "source": [
    "def solution4(a=[[1, 2, 3], [4, 5, 6, 7], [8, 9], [0]]):\n",
    "    return [i for sublist in lists for i in sublist]\n",
    "\n",
    "\n",
    "solution4()"
   ]
  },
  {
   "cell_type": "markdown",
   "metadata": {},
   "source": [
    "### 5. Пифагоровы тройки.\n",
    "\n",
    "Выведите все уникальные пифагоровы тройки, где каждое из чисел не превосходит n. На вход подается число n (n ≤ 30).\n",
    "\n",
    "15 -> [(3, 4, 5), (5, 12, 13), (6, 8, 10), (9, 12, 15)]"
   ]
  },
  {
   "cell_type": "code",
   "execution_count": 49,
   "metadata": {},
   "outputs": [
    {
     "data": {
      "text/plain": [
       "[(3, 4, 5), (6, 8, 10), (5, 12, 13), (9, 12, 15)]"
      ]
     },
     "execution_count": 49,
     "metadata": {},
     "output_type": "execute_result"
    }
   ],
   "source": [
    "def solution5(n=15):\n",
    "    return [(i, j, k) for k in range(5, n+1) for j in range(1, k) \n",
    "            for i in range(1, j) if i**2 + j**2 == k**2]\n",
    "\n",
    "\n",
    "solution5()"
   ]
  },
  {
   "cell_type": "markdown",
   "metadata": {},
   "source": [
    "### 6. Трансформация выражения:\n",
    "\n",
    "([0, 1, 2], [0, 1, 2, 3, 4]) -> [[0, 1, 2, 3, 4], [1, 2, 3, 4, 5], [2, 3, 4, 5, 6]]"
   ]
  },
  {
   "cell_type": "code",
   "execution_count": 58,
   "metadata": {},
   "outputs": [
    {
     "data": {
      "text/plain": [
       "[[0, 1, 2, 3, 4], [1, 2, 3, 4, 5], [2, 3, 4, 5, 6]]"
      ]
     },
     "execution_count": 58,
     "metadata": {},
     "output_type": "execute_result"
    }
   ],
   "source": [
    "def solution6(a=([0, 1, 2], [0, 1, 2, 3, 4])):\n",
    "    return [[i + j for j in a[1]] for i in a[0]]\n",
    "    \n",
    "\n",
    "solution6()"
   ]
  },
  {
   "cell_type": "markdown",
   "metadata": {},
   "source": [
    "### 7. Транспонирование матрицы.\n",
    "\n",
    "[[1, 2], [3, 4], [5, 6]] -> [[1, 3, 5], [2, 4, 6]]\n",
    "[[1, 3, 5], [2, 4, 6]] -> [[1, 2], [3, 4], [5, 6]]\n",
    "\n",
    "Замечание: запрещается использовать сторонние библиотеки, например, scipy и numpy."
   ]
  },
  {
   "cell_type": "code",
   "execution_count": 56,
   "metadata": {},
   "outputs": [
    {
     "data": {
      "text/plain": [
       "[[1, 3, 5], [2, 4, 6]]"
      ]
     },
     "execution_count": 56,
     "metadata": {},
     "output_type": "execute_result"
    }
   ],
   "source": [
    "def solution7(A=[[1, 2], [3, 4], [5, 6]]):\n",
    "    return [[row[i] for row in A] for i in range(len(A[0]))]\n",
    "\n",
    "\n",
    "solution7(A)"
   ]
  },
  {
   "cell_type": "markdown",
   "metadata": {},
   "source": [
    "### 8. Трансформация выражения:\n",
    "\n",
    "[\"0\", \"1 2 3\", \"4 5 6 7\", \"8 9\"] -> [[0], [1, 2, 3], [4, 5, 6, 7], [8, 9]]"
   ]
  },
  {
   "cell_type": "code",
   "execution_count": 50,
   "metadata": {},
   "outputs": [
    {
     "data": {
      "text/plain": [
       "[[0], [1, 2, 3], [4, 5, 6, 7], [8, 9]]"
      ]
     },
     "execution_count": 50,
     "metadata": {},
     "output_type": "execute_result"
    }
   ],
   "source": [
    "def solution8(a=[\"0\", \"1 2 3\", \"4 5 6 7\", \"8 9\"]): \n",
    "    return [[int(i) for i in s.split()] for s in a]\n",
    "\n",
    "\n",
    "solution8()"
   ]
  },
  {
   "cell_type": "markdown",
   "metadata": {},
   "source": [
    "### 9. Трансформация выражения:\n",
    "\n",
    "range(0, 7) -> {'a': 0, 'b': 1, 'c': 4, 'd': 9, 'e': 16, 'f': 25, 'g': 36}\n",
    "\n",
    "Замечание: запрещается использовать ключевое слово dict, используйте фигурные скобки."
   ]
  },
  {
   "cell_type": "code",
   "execution_count": 53,
   "metadata": {},
   "outputs": [
    {
     "data": {
      "text/plain": [
       "{'a': 0, 'b': 1, 'c': 4, 'd': 9, 'e': 16, 'f': 25, 'g': 36}"
      ]
     },
     "execution_count": 53,
     "metadata": {},
     "output_type": "execute_result"
    }
   ],
   "source": [
    "def solution9(a=range(7)): \n",
    "    return {chr(ord('a') + i): i**2 for i in a}\n",
    "\n",
    "\n",
    "solution9()"
   ]
  },
  {
   "cell_type": "markdown",
   "metadata": {},
   "source": [
    "### 10. Трансформация выражения:\n",
    "\n",
    "['Alice', 'vova', 'ANTON', 'Bob', 'kAMILA', 'CJ', 'ALICE', 'Nastya'] -> {'Alice', 'Anton', 'Kamila', 'Nastya', 'Vova'}\n",
    "\n",
    "Замечание: запрещается использовать ключевое слово set, используйте фигурные скобки."
   ]
  },
  {
   "cell_type": "code",
   "execution_count": 54,
   "metadata": {},
   "outputs": [
    {
     "data": {
      "text/plain": [
       "{'Alice', 'Anton', 'Kamila', 'Nastya', 'Vova'}"
      ]
     },
     "execution_count": 54,
     "metadata": {},
     "output_type": "execute_result"
    }
   ],
   "source": [
    "def solution10(names=['Alice', 'vova', 'ANTON', 'Bob', 'kAMILA', 'CJ', 'ALICE', 'Nastya']):\n",
    "    return {name.capitalize() for name in names if len(name) > 3}\n",
    "\n",
    "\n",
    "solution10()"
   ]
  },
  {
   "cell_type": "code",
   "execution_count": null,
   "metadata": {},
   "outputs": [],
   "source": [
    "def solution1(s):\n",
    "    return [c * 4 for c in s]\n",
    "\n",
    "def solution2(s):\n",
    "    return [c * (i + 1) for i, c in enumerate(s)]\n",
    "\n",
    "def solution3(a):\n",
    "    return [i for i in a if i % 3 == 0 or i % 5 == 0]\n",
    "\n",
    "def solution4(a):\n",
    "    return [i for sublist in lists for i in sublist]\n",
    "\n",
    "def solution5(n):\n",
    "    return [(i, j, k) for k in range(5, n+1) for j in range(1, k) \n",
    "            for i in range(1, j) if i**2 + j**2 == k**2]\n",
    "\n",
    "def solution6(a):\n",
    "    return [[i + j for j in a[1]] for i in a[0]]\n",
    "\n",
    "def solution7(A):\n",
    "    return [[row[i] for row in A] for i in range(len(A[0]))]\n",
    "\n",
    "def solution8(a): \n",
    "    return [[int(i) for i in s.split()] for s in a]\n",
    "\n",
    "def solution9(a): \n",
    "    return {chr(ord('a') + i): i**2 for i in a}\n",
    "\n",
    "def solution10(names):\n",
    "    return {name.capitalize() for name in names if len(name) > 3}\n",
    "\n",
    "\n",
    "\n",
    "solutions = {\n",
    "    'solution1': solution1,\n",
    "    'solution2': solution2,\n",
    "    'solution3': solution3,\n",
    "    'solution4': solution4,\n",
    "    'solution5': solution5,\n",
    "    'solution6': solution6,\n",
    "    'solution7': solution7,\n",
    "    'solution8': solution8,\n",
    "    'solution9': solution9,\n",
    "    'solution10': solution10,\n",
    "}"
   ]
  }
 ],
 "metadata": {
  "kernelspec": {
   "display_name": "Python 3",
   "language": "python",
   "name": "python3"
  },
  "language_info": {
   "codemirror_mode": {
    "name": "ipython",
    "version": 3
   },
   "file_extension": ".py",
   "mimetype": "text/x-python",
   "name": "python",
   "nbconvert_exporter": "python",
   "pygments_lexer": "ipython3",
   "version": "3.7.9"
  }
 },
 "nbformat": 4,
 "nbformat_minor": 4
}
