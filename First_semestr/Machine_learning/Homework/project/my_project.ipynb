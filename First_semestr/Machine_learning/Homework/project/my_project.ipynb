{
 "cells": [
  {
   "cell_type": "code",
   "execution_count": 1,
   "metadata": {},
   "outputs": [],
   "source": [
    "import re\n",
    "import pandas as pd\n",
    "from sklearn.model_selection import GroupKFold, cross_val_score\n",
    "from sklearn.feature_extraction.text import TfidfVectorizer\n",
    "from sklearn.metrics import f1_score\n",
    "from sklearn.linear_model import LinearRegression, LogisticRegression\n",
    "from sklearn.preprocessing import StandardScaler"
   ]
  },
  {
   "cell_type": "code",
   "execution_count": null,
   "metadata": {},
   "outputs": [],
   "source": [
    "docs_titles = pd.read_table('docs_titles.tsv')\n",
    "train_groups = pd.read_csv('train_groups.csv')\n",
    "\n",
    "data = pd.merge(train_groups, docs_titles, how='left', on='doc_id')[['group_id', 'title', 'target']]\n",
    "\n",
    "def transform_data(data):\n",
    "    pattern = r\"[^\\w\\d' ']\"\n",
    "    data['title'] = np.asarray([re.sub(pattern, \" \", str(title).lower()) for title in data['title']])\n",
    "\n",
    "def get_features(data):\n",
    "    onehot_groupid = np.zeros((len(data), max(data['group_id'])))\n",
    "    for i, group_id in enumerate(data['group_id']):\n",
    "        onehot_groupid[i, group_id - 1] = 1\n",
    "    max_features = 20\n",
    "    vectorizer = TfidfVectorizer(max_features=max_features)\n",
    "    X = np.zeros((1, max_features))\n",
    "    for _, group in data.groupby('group_id'):\n",
    "        titles_tfidf = vectorizer.fit_transform(np.asarray(group['title'])).toarray()\n",
    "        X = np.concatenate((X, titles_tfidf))\n",
    "    return X[1:]\n",
    "\n",
    "transform_data(data)\n",
    "\n",
    "scaler = StandardScaler()\n",
    "X = get_features(data)\n",
    "# X = scaler.fit_transform(X)\n",
    "y = np.asarray(data['target'])\n",
    "\n",
    "from collections import defaultdict\n",
    "\n",
    "gkf = GroupKFold(n_splits=5)\n",
    "scores = defaultdict(list)\n",
    "for threshold in np.linspace(0, 1, 11):\n",
    "    for train, test, in gkf.split(X, y, groups=data['group_id']):\n",
    "        clf = MySGDClassifier(batch_generator(batch_size=100000), max_epoch=20, C=1, alpha=0.001, model_type='log_reg')\n",
    "    #     clf = LogisticRegression(C=1)\n",
    "        clf.fit(X[train], y[train])\n",
    "        prediction = clf.predict(X[test], threshold)\n",
    "        scores[threshold].append(f1_score(y[test], prediction))\n",
    "\n",
    "for threshold, s in scores.items():\n",
    "    print(threshold, np.mean(s))"
   ]
  }
 ],
 "metadata": {
  "kernelspec": {
   "display_name": "Python 3",
   "language": "python",
   "name": "python3"
  },
  "language_info": {
   "codemirror_mode": {
    "name": "ipython",
    "version": 3
   },
   "file_extension": ".py",
   "mimetype": "text/x-python",
   "name": "python",
   "nbconvert_exporter": "python",
   "pygments_lexer": "ipython3",
   "version": "3.7.9"
  }
 },
 "nbformat": 4,
 "nbformat_minor": 4
}
