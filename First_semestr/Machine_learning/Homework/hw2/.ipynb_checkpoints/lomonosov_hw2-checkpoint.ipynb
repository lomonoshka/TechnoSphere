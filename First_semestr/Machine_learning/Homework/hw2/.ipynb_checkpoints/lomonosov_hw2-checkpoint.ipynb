{
 "cells": [
  {
   "cell_type": "markdown",
   "metadata": {},
   "source": [
    "# Алгоритмы интеллектуальной обработки больших объемов данных\n",
    "## Домашнее задание №2: Линейные модели\n"
   ]
  },
  {
   "cell_type": "markdown",
   "metadata": {},
   "source": [
    "###### <hr\\>\n",
    "**Общая информация**\n",
    "\n",
    "**Срок сдачи:** 09 ноября 18:00 Сдача **очная** на онлайн занятии. <br\\>\n",
    "\n",
    "\n",
    "Используйте данный Ipython Notebook при оформлении домашнего задания.\n",
    "\n",
    "Присылать ДЗ необходимо в виде ссылки на свой github репозиторий на почту ml1.sphere@mail.ru с указанием темы в следующем формате:\n",
    "\n",
    "[ML0920, Задание 2] Фамилия Имя.\n",
    "\n",
    "\n",
    "\n",
    "**Штрафные баллы:**\n",
    "\n",
    "1. Невыполнение PEP8 -1 балл\n",
    "2. Отсутствие фамилии в имени скрипта (скрипт должен называться по аналогии со stroykova_hw2.ipynb) -1 балл\n",
    "3. Все строчки должны быть выполнены. Нужно, чтобы output команды можно было увидеть уже в git'е. В противном случае -1 балл\n",
    "4. При оформлении ДЗ нужно пользоваться данным файлом в качестве шаблона. Не нужно удалять и видоизменять написанный код и текст, если явно не указана такая возможность. В противном случае -1 балл\n",
    "<hr\\>"
   ]
  },
  {
   "cell_type": "code",
   "execution_count": 1,
   "metadata": {},
   "outputs": [],
   "source": [
    "import pandas as pd\n",
    "import numpy as np\n",
    "import matplotlib.pyplot as plt\n",
    "import seaborn as sns\n",
    "%matplotlib inline\n",
    "\n",
    "plt.style.use('ggplot')\n",
    "plt.rcParams['figure.figsize'] = (16,8)"
   ]
  },
  {
   "cell_type": "markdown",
   "metadata": {},
   "source": [
    "Здравствуйте, уважаемые студенты! \n",
    "\n",
    "В этом задании мы будем реализовать линейные модели. Необходимо реализовать линейную и логистическую регрессии с L2 регуляризацией"
   ]
  },
  {
   "cell_type": "markdown",
   "metadata": {},
   "source": [
    "# Теоретическое введение\n",
    "\n"
   ]
  },
  {
   "cell_type": "markdown",
   "metadata": {},
   "source": [
    "Линейная регрессия решает задачу регрессии и оптимизирует функцию потерь MSE \n",
    "\n",
    "$$L(w) =  \\frac{1}{N}\\left[\\sum_i (y_i - a_i) ^ 2 \\right], $$ где $y_i$ $-$ целевая функция,  $a_i = a(x_i) =  \\langle\\,x_i,w\\rangle ,$ $-$ предсказание алгоритма на объекте $x_i$, $w$ $-$ вектор весов (размерности $D$), $x_i$ $-$ вектор признаков (такой же размерности $D$).\n",
    "\n",
    "Не забываем, что здесь и далее  мы считаем, что в $x_i$ есть тождественный вектор единиц, ему соответствует вес $w_0$.\n"
   ]
  },
  {
   "cell_type": "markdown",
   "metadata": {},
   "source": [
    "Логистическая регрессия является линейным классификатором, который оптимизирует так называемый функционал log loss:"
   ]
  },
  {
   "cell_type": "markdown",
   "metadata": {},
   "source": [
    "$$L(w) = - \\frac{1}{N}\\left[\\sum_i y_i \\log a_i + ( 1 - y_i) \\log (1 - a_i) \\right],$$\n",
    "где  $y_i  \\in \\{0,1\\}$ $-$ метка класса, $a_i$ $-$ предсказание алгоритма на объекте $x_i$. Модель пытается предсказать апостериорую вероятность объекта принадлежать к классу \"1\":\n",
    "$$ p(y_i = 1 | x_i) = a(x_i) =  \\sigma( \\langle\\,x_i,w\\rangle ),$$\n",
    "$w$ $-$ вектор весов (размерности $D$), $x_i$ $-$ вектор признаков (такой же размерности $D$).\n",
    "\n",
    "Функция $\\sigma(x)$ $-$ нелинейная функция, пероводящее скалярное произведение объекта на веса в число $\\in (0,1)$ (мы же моделируем вероятность все-таки!)\n",
    "\n",
    "$$\\sigma(x) = \\frac{1}{1 + \\exp(-x)}$$\n",
    "\n",
    "Если внимательно посмотреть на функцию потерь, то можно заметить, что в зависимости от правильного ответа алгоритм штрафуется или функцией $-\\log a_i$, или функцией $-\\log (1 - a_i)$.\n",
    "\n"
   ]
  },
  {
   "cell_type": "markdown",
   "metadata": {},
   "source": [
    "Часто для решения проблем, которые так или иначе связаны с проблемой переобучения, в функционал качества добавляют слагаемое, которое называют ***регуляризацией***. Итоговый функционал для линейной регрессии тогда принимает вид:\n",
    "\n",
    "$$L(w) =  \\frac{1}{N}\\left[\\sum_i (y_i - a_i) ^ 2 \\right] + \\frac{1}{C}R(w) $$\n",
    "\n",
    "Для логистической: \n",
    "$$L(w) = - \\frac{1}{N}\\left[\\sum_i y_i \\log a_i + ( 1 - y_i) \\log (1 - a_i) \\right] +  \\frac{1}{C}R(w)$$\n",
    "\n",
    "Самое понятие регуляризации введено основателем ВМК академиком Тихоновым https://ru.wikipedia.org/wiki/Метод_регуляризации_Тихонова\n",
    "\n",
    "Идейно методика регуляризации заключается в следующем $-$ мы рассматриваем некорректно поставленную задачу (что это такое можно найти в интернете), для того чтобы сузить набор различных вариантов (лучшие из которых будут являться переобучением ) мы вводим дополнительные ограничения на множество искомых решений. На лекции Вы уже рассмотрели два варианта регуляризации.\n",
    "\n",
    "$L1$ регуляризация:\n",
    "$$R(w) = \\sum_{j=1}^{D}|w_j|$$\n",
    "$L2$ регуляризация:\n",
    "$$R(w) =  \\sum_{j=1}^{D}w_j^2$$\n",
    "\n",
    "С их помощью мы ограничиваем модель в  возможности выбора каких угодно весов минимизирующих наш лосс, модель уже не сможет подстроиться под данные как ей угодно. \n",
    "\n",
    "Вам нужно добавить соотвествущую Вашему варианту $L2$ регуляризацию.\n",
    "\n",
    "И так, мы поняли, какую функцию ошибки будем минимизировать, разобрались, как получить предсказания по объекту и обученным весам. Осталось разобраться, как получить оптимальные веса. Для этого нужно выбрать какой-то метод оптимизации.\n",
    "\n"
   ]
  },
  {
   "cell_type": "markdown",
   "metadata": {},
   "source": [
    "Градиентный спуск является самым популярным алгоритмом обучения линейных моделей. В этом задании Вам предложат реализовать стохастический градиентный спуск или  мини-батч градиентный спуск (мини-батч на русский язык довольно сложно перевести, многие переводят это как \"пакетный\", но мне не кажется этот перевод удачным). Далее нам потребуется определение **эпохи**.\n",
    "Эпохой в SGD и MB-GD называется один проход по **всем** объектам в обучающей выборки.\n",
    "* В SGD градиент расчитывается по одному случайному объекту. Сам алгоритм выглядит примерно так:\n",
    "        1) Перемешать выборку\n",
    "        2) Посчитать градиент функции потерь на одном объекте (далее один объект тоже будем называть батчем)\n",
    "        3) Сделать шаг спуска\n",
    "        4) Повторять 2) и 3) пока не пройдет максимальное число эпох.\n",
    "* В Mini Batch SGD - по подвыборке объектов. Сам алгоритм выглядит примерно так::\n",
    "        1) Перемешать выборку, выбрать размер мини-батча (от 1 до размера выборки)\n",
    "        2) Почитать градиент функции потерь по мини-батчу (не забыть поделить на  число объектов в мини-батче)\n",
    "        3) Сделать шаг спуска\n",
    "        4) Повторять 2) и 3) пока не пройдет максимальное число эпох.\n",
    "* Для отладки алгоритма реализуйте возможность  вывода средней ошибки на обучении модели по объектам (мини-батчам). После шага градиентного спуска посчитайте значение ошибки на объекте (или мини-батче), а затем усредните, например, по ста шагам. Если обучение проходит корректно, то мы должны увидеть, что каждые 100 шагов функция потерь уменьшается. \n",
    "* Правило останова - максимальное количество эпох\n",
    "    \n"
   ]
  },
  {
   "cell_type": "markdown",
   "metadata": {},
   "source": [
    "# Теоретические вопросы (2 балла)\n",
    "В этой части Вам будут предложены теоретичские вопросы и задачи по теме. Вы, конечно, можете списать их у своего товарища или найти решение в интернете, но учтите, что они обязательно войдут в теоретический коллоквиум. Лучше разобраться в теме сейчас и успешно ответить на коллоквиуме, чем списать, не разобравшись в материале, и быть терзаемым совестью. \n",
    "\n",
    "\n",
    "Формулы надо оформлять в формате **LaTeX**."
   ]
  },
  {
   "cell_type": "markdown",
   "metadata": {},
   "source": [
    "Задача 1. Градиент для линейной регрессии.\n",
    "* Выпишите формулу обновления весов для линейной регрессии с L2 регуляризацией для мини-батч градиентого спуска размера $n$:\n",
    "\n",
    "$$ w_{new} = w_{old} - ... $$\n",
    "\n",
    " Отнеситесь к этому пункту максимально серьезно, это Вам нужно будет реализовать в задании.\n",
    " \n",
    "Проанализруйте итоговую формулу градиента - как  интуитивно можно  описать, чему равен градиент?"
   ]
  },
  {
   "cell_type": "markdown",
   "metadata": {},
   "source": [
    "***Ваше решение здесь***"
   ]
  },
  {
   "cell_type": "markdown",
   "metadata": {},
   "source": [
    "Рассмотрим модель линейной регрессии. Предсказание целевой функции для этой модели представляется в следующем виде:\n",
    "$${y}_{i} = a(x_{i}, w) = \\sum_{j = 0}^{D} x_{ij}w_{j} + w_0$$\n",
    "Для более удобной записи добавим фиктивную размерность $x_0 = 1$, тогда предсказание можно переписать следующим образом:\n",
    "$${y}_{i} = a(x_{i}, w) = \\sum_{j = 0}^{D} x_{ij}w_{j}$$ \n",
    "Один из способов вычислить значения параметров модели является метод наименьших квадратов (МНК), который минимизирует среднеквадратичную ошибку между реальным значением зависимой переменной и прогнозом, выданным моделью: \n",
    "$$L(w) = \\frac{1}{N}\\left[\\sum_i (y_i - a_i) ^ 2 \\right]$$\n",
    "Мы будем рассмативать поиск наилучших параметров модели с некоторой функцией регуляризации $R(w)$.\n",
    "$$L(w) = \\frac{1}{N}\\left[\\sum_i (y_i - a_i) ^ 2 \\right] + \\frac{1}{C}R(w) $$\n",
    "Можно предположить из названия, что она помогает справиться с проблемами, возникающими если матрица $X$ регулярная. Далее мы покажем что это действительно так.\n",
    "\n",
    "Для нахождения наилучшего вектора параметров $\\vec{w}$ нам необходимо минимзировать функцию ошибок $L(w)$. Не сложно найти точное решение для модели линейной регрессии, однако для его вычесления необходимо будет обратить матрицу $X^TX$. Данный подход плох с вычислительной точеки зрения, т.к. асимптотика такого алгоритма $O(n^3)$. Так же, для обращения матрицы нам нужно целиком деражать ее в памяти, что может быть критично при большой выборке. Поэтому мы воспользуемся итеративным алгоритмом, а именно алгоритмом градиентого спуска. \n",
    "\n",
    "Найдем $grad_w(L(w))$ c L2 регуляризацией $R(w) = L2(w) = \\|\\vec{w}\\|_{l_2}$ , для этого перепишем функцию $L(w)$ в матричной форме: \n",
    "$$L(w) = \\frac{1}{n}\\sum_i (y_{i} - a(x_{i}, w))^{2} + \\frac{1}{C}\\sum_{j = 1}^{D}w_{j}^{2} =$$\n",
    "$$= \\frac{1}{n}\\|{\\vec{y} - \\vec{w}X^T}\\|_{l_2} + \\frac{1}{C}\\|\\vec{w_0}\\|_{l_2} =$$\n",
    "$$= \\frac{1}{n}({\\vec{y} - \\vec{w}X^T})({\\vec{y} - \\vec{w}X^T})^T + \\frac{1}{C}\\vec{w_0}\\vec{w_0}^{T} =$$\n",
    "$$= \\frac{1}{n}(\\vec{y}\\vec{y}^T - \\vec{y}X\\vec{w}^T - \\vec{w}X^T\\vec{y}^T + \\vec{w}X^{T}X\\vec{w}^T) + \\frac{1}{C}\\vec{w_0}\\vec{w_0}^{T}$$\n",
    "Где\n",
    "$$ \\vec{y} = (y_0 ... y_{n-1})$$\n",
    "$$\\vec{w} = (w_0, w_1 ... w_d)$$\n",
    "$$\\vec{w_0} = (0, w_1 ... w_d)$$\n",
    "\n",
    "Теперь ничего нам не мешает взять градиент по вектору $\\vec{w}$ от нашей функции ошибок:\n",
    "$$\\nabla_{w}L(w) = \\frac{1}{n}(-2\\vec{y}X + 2\\vec{w}X^{T}X) + \\frac{2}{C}\\vec{w_0} =$$\n",
    "$$= \\frac{2}{n}(\\vec{w}X^{T} - \\vec{y})X + \\frac{2}{C}\\vec{w_0}$$\n",
    "\n",
    "Тогда, на каждой итерации градиентного спуска новые параметры будут вычисляться по следующей формуле:\n",
    "$$w_{new} = w_{old} - \\lambda(\\frac{2}{n}(\\vec{w}X^{T} - \\vec{y})X + \\frac{2}{C}\\vec{w_0})$$\n",
    "Где $\\lambda$ параметр алгоритма градиентого спуска. "
   ]
  },
  {
   "cell_type": "markdown",
   "metadata": {},
   "source": [
    "### Задача 2. Градиент для логистической регрессии.\n",
    "* Выпишите формулу обновления весов для логистической регрессии с L2 регуляризацией  для мини-батч градиентого спуска размера $n$:\n",
    "\n",
    "$$ w_{new} = w_{old} - ... $$\n",
    "\n",
    " Отнеситесь к этому пункту максимально серьезно, это Вам нужно будет реализовать в задании.\n",
    " \n",
    "Проанализруйте итоговую формулу градиента - как  интуитивно можно  описать, чему равен градиент? Как соотносится этот градиент с градиентом, возникающий в задаче линейной регрессии?\n",
    "\n",
    "Подсказка: Вам градиент, которой получается если “в лоб” продифференцировать,  надо немного преобразовать.\n",
    "Надо подставить, что $1 - \\sigma(w,x) $ это  $1 - a(x_i)$, а  $-\\sigma(w,x)$ это $0 - a(x_i)$.  Тогда получится свести к одной красивой формуле с линейной регрессией, которую программировать будет намного проще."
   ]
  },
  {
   "cell_type": "markdown",
   "metadata": {},
   "source": [
    "***Ваше решение здесь***"
   ]
  },
  {
   "cell_type": "markdown",
   "metadata": {},
   "source": [
    "Логистическая регрессия является частным случаем линейного классификатора, но она обладает хорошим \"умением\" – прогнозировать вероятность отнесения примера к классу \"+\". Более того, при некторых предположениях о входных данных (надо бы написать каких =)), функция потерь для данной модели находится из метода максимального правдоподобия. Выпишем фунцию $L(w)$ для модели логистической регрессии с регуляризацией $R(w)$.\n",
    "$$L(w) = - \\frac{1}{N}\\left[\\sum_i y_i \\log \\sigma(\\langle x_i,w \\rangle) + ( 1 - y_i) \\log (1 - \\sigma(\\langle x_i,w \\rangle)) \\right] +  \\frac{1}{C}R(w),$$\n",
    "где\n",
    "$$\\sigma(\\langle x_i,w \\rangle) = \\frac{1}{1 + e^{\\langle x_i,w \\rangle}} .$$\n",
    "Заметим, что\n",
    "$$\\sigma(x)' = \\sigma(x)(1 - \\sigma(x)) $$\n",
    "\n",
    "Минимизируем функцианал $L(w)$ с L2 регуляризацией при помощи градиентного спуска. Найдем $\\nabla_{w} L(w)$\n",
    "$$\\frac{\\partial}{\\partial w_j}L(w) = -\\frac{\\partial}{\\partial w_j}\\left(\\frac{1}{n}\\left[\\sum_i y_i \\log \\sigma(\\langle x_i,w \\rangle) + ( 1 - y_i) \\log (1 - \\sigma(\\langle x_i,w \\rangle))\\right] + \\frac{1}{C}\\sum_{i = 1}^{D}w_{j}^{2}\\right) = $$\n",
    "\n",
    "$$ = -\\frac{1}{n} \\left[ \\sum_i y_ix_{ij}\\frac{\\sigma(\\langle x_i,w \\rangle)(1 - \\sigma(\\langle x_i,w \\rangle)}{\\sigma(\\langle x_i,w \\rangle)} - (1-y_i)x_{ij}\\frac{\\sigma(\\langle x_i,w \\rangle))(1 - \\sigma(\\langle x_i,w \\rangle))}{(1 - \\sigma(\\langle x_i,w \\rangle))}\\right]+ \\frac{2}{C}w_j = $$\n",
    "$$= -\\frac{1}{n} \\left[ \\sum_i y_ix_{ij}(1 - \\sigma(\\langle x_i,w \\rangle)) - (1-y_i)x_{ij}\\sigma(\\langle x_i,w \\rangle) \\right] + \\frac{2}{C}w_j =$$\n",
    "$$= \\frac{1}{n} \\left[ \\sum_i x_{ij}\\sigma(\\langle x_i,w \\rangle) - y_ix_{ij} \\right] + \\frac{2}{C}w_j$$\n",
    "Или в матричной форме\n",
    "$$\\nabla_{w} L(w) = \\frac{1}{n}(\\sigma(wX^T) - \\vec{y})X + \\frac{2}{C}\\vec{w_0},$$ \n",
    "где\n",
    "$$\\sigma(wX^T) =  (\\sigma\\langle\\,x_0,w\\rangle, \\sigma \\langle\\,x_1,w\\rangle ... \\sigma\\langle\\,x_{n-1},w\\rangle  ),$$\n",
    "$$ \\vec{y} = (y_0 ... y_{n-1}),$$\n",
    "$$\\vec{w} = (w_0, w_1 ... w_d),$$\n",
    "$$\\vec{w_0} = (0, w_1 ... w_d).$$\n",
    "\n",
    "Тогда, на каждой итерации градиентного спуска новые параметры будут вычисляться по следующей формуле:\n",
    "$$w_{new} = w_{old} - \\lambda(\\frac{1}{n}(\\sigma(wX^T) - \\vec{y})X + \\frac{2}{C}\\vec{w_0})$$\n",
    "Где $\\lambda$ параметр алгоритма градиентого спуска. \n",
    "\n",
    "Давайте посмотрим на градиенты линейной и логистической регрессии:\n",
    "$$\\nabla_wL_{log} = \\frac{1}{n}(\\vec{w}X^{T} - \\vec{y})X$$\n",
    "$$\\nabla_wL_{lin} = \\frac{1}{n}(\\sigma(wX^T) - \\vec{y})X$$\n",
    "Да они же почти одинаковые! Только в случае логистической регрессии мы вычисляем вероятность принадлежности к классу с помощью сигмоиды.\n",
    "Интуитивно данные градиенты равны усредненной по выборке разнице между предсказанамии значениями целевой функции $a(x_i, w)$ и целевой функции $y_i$."
   ]
  },
  {
   "cell_type": "markdown",
   "metadata": {},
   "source": [
    "### Задача 3. Точное решение линейной регрессии\n",
    "\n",
    "На лекции было показано, что точное решение линейной регрессии имеет вид $w = (X^TX)^{-1}X^TY $. \n",
    "* Покажите, что это действительно является точкой минимума в случае, если матрица X имеет строк не меньше, чем столбцов и имеет полный ранг. Подсказка: посчитайте Гессиан и покажите, что в этом случае он положительно определен. \n",
    "* Выпишите точное решение для модели с $L2$ регуляризацией. Как L2 регуляризация помогает с точным решением где матрица X имеет линейно зависимые признаки?"
   ]
  },
  {
   "cell_type": "markdown",
   "metadata": {},
   "source": [
    "Выпишем функцию ошибок и градиент для линейной регрессии:\n",
    "\n",
    "$$L(w) = \\frac{1}{n}\\|wX^T − y\\| = \\frac{1}{n}(wX^T − y)(wX^T − y)^T$$\n",
    "$$\\nabla_{w}L(w) = \\frac{2}{n}(\\vec{w}X^{T} - \\vec{y})X$$\n",
    "Достаточным условием минимума функции $L(w)$ является: \n",
    "\n",
    "\\begin{equation*} \n",
    " \\begin{cases}\n",
    "   \\nabla_{w}L(w) = \\vec 0\\\\\n",
    "   H(L(w)) = \\nabla_w(\\nabla_wL(w)) = \\nabla_w(\\frac{2}{n}(\\vec{w}X^{T} - \\vec{y})X) = \\frac{2}{n}X^TX > 0\n",
    " \\end{cases}\n",
    "\\end{equation*}\n",
    "\n",
    "Где $H(L(w))$ - Гессиан функции ошибок $L(w)$.\n",
    "\n",
    "Покажем, что $\\forall$ матрицы $A$ матрица $A^TA$ неотрецательно определена. Более того, если матрица А имеет полный ранг, то $A^TA$ положительно определенная матрица.\n",
    "\n",
    "По определению, $A^TA$ >= 0 если $\\forall$ $x$ выполнено $xA^TAx^T >= 0$, покажем что это так\n",
    "$$xA^TAx^T = (xA^T)(Ax^T) = \\langle xA^T, xA^T \\rangle = \\|xA^T\\|_{l2} >= 0$$\n",
    "Если же A имеет полный ранг, то $xA^T = \\vec 0$ если и только если $x = \\vec 0$, т.е. $\\forall x \\neq \\vec 0$\n",
    "$$ xA^TAx^T > 0$$\n",
    "Что и означет что $A^TA$ положительно определена.\n",
    "\n",
    "Следовательно, точка $w$ в действительно точка минимума функции $L(w)$\n",
    "\n",
    "Найдем точное решение с L2 регуляризацией\n",
    "$$\\nabla_{w}L(w) = \\frac{2}{n}(\\vec{w}X^{T} - \\vec{y})X + \\frac{2}{C}\\vec{w_0} = 0$$\n",
    "$$(\\vec{w}X^{T} - \\vec{y})X + \\lambda \\vec{w_0} = 0$$\n",
    "$$\\vec{w} = {y}X(X^{T}X+ \\lambda E)^{-1}$$\n",
    "При наличии сильно коррелирующих признаков некоторые собственные занчения матрица $X^TX$ будут близки к нулю. Тем самым, когда мы будем брать обратную матрицу точное решение (да и решение полученое итеративными методами) будет очень большое по модулю. Что не вписывается в априорное представление о модели, т.к. небольшие изменения признаков приводят к значительному отклонению таргета. Регурялизаци борится с этой проблемой, увеличивая собственные значения матрицы $X^TX$."
   ]
  },
  {
   "cell_type": "markdown",
   "metadata": {},
   "source": [
    "### Задача 4.  Предсказываем вероятности.\n",
    "\n",
    "Когда говорят о логистической регрессии, произносят фразу, что она \"предсказывает вероятности положительного класса\". Давайте разберемся, что же за этим стоит. Посчитаем математическое ожидание функции потерь и проверим, что предсказание алгоритма, оптимизирующее это мат. ожидание, будет являться вероятностью положительного класса. \n",
    "\n",
    "И так, функция потерь на объекте $x_i$, который имеет метку $y_i \\in \\{0,1\\}$  для предсказания $a(x_i)$ равна:\n",
    "$$L(y_i, b) =-[y_i == 1] \\log a(x_i)  - [y_i == 0] \\log(1 - a(x_i)) $$\n",
    "\n",
    "Где $[]$ означает индикатор $-$ он равен единице, если значение внутри него истинно, иначе он равен нулю. Тогда мат. ожидание при условии конкретного $x_i$  по определение мат. ожидания дискретной случайной величины:\n",
    "$$E(L | x_i) = -p(y_i = 1 |x_i ) \\log a(x_i)  - p(y_i = 0 | x_i) \\log( 1 - a(x_i))$$\n",
    "* Докажите, что значение $a(x_i)$, минимизирующее данное мат. ожидание, в точности равно $p(y_i = 1 |x_i)$, то есть равно вероятности положительного класса.\n",
    "\n",
    "Подсказка: возможно, придется воспользоваться, что  $p(y_i = 1 | x_i) + p(y_i = 0 | x_i) = 1$"
   ]
  },
  {
   "cell_type": "markdown",
   "metadata": {},
   "source": [
    "***Ваше решение здесь***"
   ]
  },
  {
   "cell_type": "markdown",
   "metadata": {},
   "source": [
    "$$E(L|x_i) = -p(y_i = 1| x_i)\\log a(x_i) - (1 - p(y_i = 1| x_i))\\log (1 - a(x_i))$$\n",
    "\n",
    "Функция $E(a(x_i))$, неотрицательна и определена на интервале $(0,1)$, продифференцируем ее по $a(x_i)$:\n",
    "$$E'(L|x_i) = -\\frac{p(y_i = 1| x_i)}{a(x_i)} + \\frac{1 - p(y_i = 1| x_i)}{1 - a(x_i)} =\n",
    "\\frac{a(x_i) - p(y_i = 1| x_i)}{(1-a(x_i))a(x_i)}= 0 $$\n",
    "\n",
    "$a(x_i) = p(y_i = 1| x_i)$ - точка экстремума. Покажем что она является минимумом:\n",
    "\n",
    "$$E''(L|x_i) = \\frac{(1 - a(x_i))a(x_i) - (a(x_i) - p(y_i = 1| x_i)) (1 - 2a(x_i)}{(1 - a(x_i))^2 a(x_i)^2} =\n",
    "\\frac{a(x_i)^2 + p(y_i = 1| x_i)(1 - 2a(x_i))}{(1 - a(x_i))^2 a(x_i)^2}$$\n",
    "\n",
    "$$E''(L(p(y_i = 1| x_i))|x_i)| = \\frac{p(y_i = 1| x_i)^2 + p(y_i = 1| x_i)(1 - 2p(y_i = 1| x_i))}{(1 - p(y_i = 1| x_i))^2p(y_i = 1| x_i)}= \\frac{1}{(1 - p(y_i = 1| x_i))p(y_i = 1| x_i)} > 0$$\n"
   ]
  },
  {
   "cell_type": "markdown",
   "metadata": {},
   "source": [
    "### Задача 5.  Смысл регуляризации.\n",
    "\n",
    "Нужно ли в L1/L2 регуляризации использовать свободный член $w_0$ (который не умножается ни на какой признак)?\n",
    "\n",
    "Подсказка: подумайте, для чего мы вводим $w_0$"
   ]
  },
  {
   "cell_type": "markdown",
   "metadata": {},
   "source": [
    "***Ваше решение здесь***"
   ]
  },
  {
   "cell_type": "markdown",
   "metadata": {},
   "source": [
    "$w_0$ отвечает за сдвиг гиперплоскости, поэтому нет никакого смысла штрафовать модель за большой вес $w_0$."
   ]
  },
  {
   "cell_type": "markdown",
   "metadata": {},
   "source": [
    "#  Реализация линейной модели (4 балла)"
   ]
  },
  {
   "cell_type": "markdown",
   "metadata": {},
   "source": [
    "## Зачем нужны батчи?\n"
   ]
  },
  {
   "cell_type": "markdown",
   "metadata": {},
   "source": [
    "Как Вы могли заметить из теоретического введения, что в случае SGD, что в случа mini-batch GD,  на каждой итерации обновление весов  происходит только по небольшой части данных (1 пример в случае SGD, batch примеров в случае mini-batch). То есть для каждой итерации нам *** не нужна вся выборка***. Мы можем просто итерироваться по выборке, беря батч нужного размера (далее 1 объект тоже будем называть батчом).\n",
    "\n",
    "Легко заметить, что в этом случае нам не нужно загружать все данные в оперативную память, достаточно просто считать батч с диска, обновить веса, считать диска другой батч и так далее. В целях упрощения домашней работы, прямо с диска  мы считывать не будем, будем работать с обычными numpy array. \n",
    "\n",
    "\n",
    "\n"
   ]
  },
  {
   "cell_type": "markdown",
   "metadata": {},
   "source": [
    "## Немножко про генераторы в Python\n",
    "\n"
   ]
  },
  {
   "cell_type": "markdown",
   "metadata": {},
   "source": [
    "Идея считывания данных кусками удачно ложится на так называемые ***генераторы*** из языка Python. В данной работе Вам предлагается не только разобраться с логистической регрессией, но  и познакомиться с таким важным элементом языка.  При желании Вы можете убрать весь код, связанный с генераторами, и реализовать логистическую регрессию и без них, ***штрафоваться это никак не будет***. Главное, чтобы сама модель была реализована правильно, и все пункты были выполнены. \n",
    "\n",
    "Подробнее можно почитать вот тут https://anandology.com/python-practice-book/iterators.html\n"
   ]
  },
  {
   "cell_type": "markdown",
   "metadata": {},
   "source": [
    "К генератору стоит относиться просто как к функции, которая порождает не один объект, а целую последовательность объектов. Новое значение из последовательности генерируется с помощью ключевого слова ***yield***. Ниже Вы можете насладиться  генератором чисел Фибоначчи."
   ]
  },
  {
   "cell_type": "code",
   "execution_count": 2,
   "metadata": {},
   "outputs": [],
   "source": [
    "def fib(max_iter=4):\n",
    "    a, b = 0, 1\n",
    "    iter_num = 0\n",
    "    while 1:\n",
    "        yield a\n",
    "        a, b = b, a + b\n",
    "        iter_num += 1\n",
    "        if iter_num == max_iter:\n",
    "            break"
   ]
  },
  {
   "cell_type": "markdown",
   "metadata": {},
   "source": [
    "Вот так можно сгенерировать последовательность Фибоначчи. \n",
    "\n",
    "Заметьте, что к генераторам можно применять некоторые стандартные функции из Python, например enumerate."
   ]
  },
  {
   "cell_type": "code",
   "execution_count": 3,
   "metadata": {},
   "outputs": [
    {
     "name": "stdout",
     "output_type": "stream",
     "text": [
      "Fib num: 0 fib values: 0\n",
      "Fib num: 1 fib values: 1\n",
      "Fib num: 2 fib values: 1\n",
      "Fib num: 3 fib values: 2\n"
     ]
    }
   ],
   "source": [
    "new_generator = fib()\n",
    "for j, fib_val in enumerate(new_generator):\n",
    "    print (\"Fib num: \" + str(j) + \" fib values: \" + str(fib_val))"
   ]
  },
  {
   "cell_type": "markdown",
   "metadata": {},
   "source": [
    "Пересоздавая объект, можно сколько угодно раз генерировать заново последовательность. "
   ]
  },
  {
   "cell_type": "code",
   "execution_count": 4,
   "metadata": {},
   "outputs": [
    {
     "name": "stdout",
     "output_type": "stream",
     "text": [
      "Fib num: 0 fib values: 0\n",
      "Fib num: 1 fib values: 1\n",
      "Fib num: 2 fib values: 1\n",
      "Fib num: 3 fib values: 2\n",
      "Fib num: 0 fib values: 0\n",
      "Fib num: 1 fib values: 1\n",
      "Fib num: 2 fib values: 1\n",
      "Fib num: 3 fib values: 2\n",
      "Fib num: 0 fib values: 0\n",
      "Fib num: 1 fib values: 1\n",
      "Fib num: 2 fib values: 1\n",
      "Fib num: 3 fib values: 2\n"
     ]
    }
   ],
   "source": [
    "for i in range(0, 3):\n",
    "    new_generator = fib()\n",
    "    for j, fib_val in enumerate(new_generator):\n",
    "        print (\"Fib num: \" + str(j) + \" fib values: \" + str(fib_val))"
   ]
  },
  {
   "cell_type": "markdown",
   "metadata": {},
   "source": [
    "А вот так уже нельзя."
   ]
  },
  {
   "cell_type": "code",
   "execution_count": 5,
   "metadata": {},
   "outputs": [
    {
     "name": "stdout",
     "output_type": "stream",
     "text": [
      "Fib num: 0 fib values: 0\n",
      "Fib num: 1 fib values: 1\n",
      "Fib num: 2 fib values: 1\n",
      "Fib num: 3 fib values: 2\n"
     ]
    }
   ],
   "source": [
    "new_generator = fib()\n",
    "for i in range(0, 3):\n",
    "    for j, fib_val in enumerate(new_generator):\n",
    "        print (\"Fib num: \" + str(j) + \" fib values: \" + str(fib_val))"
   ]
  },
  {
   "cell_type": "markdown",
   "metadata": {},
   "source": [
    "Концепция крайне удобная для обучения  моделей $-$ у Вас есть некий источник данных, который Вам выдает их кусками, и Вам совершенно все равно откуда он их берет. Под ним может скрывать как массив в оперативной памяти, как файл на жестком диске, так и SQL база данных. Вы сами данные никуда не сохраняете, оперативную память экономите."
   ]
  },
  {
   "cell_type": "markdown",
   "metadata": {},
   "source": [
    "Если Вам понравилась идея с генераторами, то Вы можете реализовать свой, используя прототип batch_generator. В нем Вам нужно выдавать батчи признаков и ответов для каждой новой итерации спуска. Если не понравилась идея, то можете реализовывать SGD или mini-batch GD без генераторов."
   ]
  },
  {
   "cell_type": "code",
   "execution_count": 6,
   "metadata": {},
   "outputs": [],
   "source": [
    "import numpy as np\n",
    "import sklearn as sk\n",
    "import matplotlib.pyplot as plt\n",
    "import pandas as pd"
   ]
  },
  {
   "cell_type": "code",
   "execution_count": 7,
   "metadata": {},
   "outputs": [],
   "source": [
    "def batch_generator(shuffle=True, batch_size=1):\n",
    "    \"\"\"\n",
    "    Гератор новых батчей для обучения\n",
    "    X          - матрица объекты-признаки\n",
    "    y_batch    - вектор ответов\n",
    "    shuffle    - нужно ли случайно перемешивать выборку\n",
    "    batch_size - размер батча ( 1 это SGD, > 1 mini-batch GD)\n",
    "    Генерирует подвыборку для итерации спуска (X_batch, y_batch)\n",
    "    \"\"\"\n",
    "    def generator(X, y):\n",
    "        data_size = len(X)\n",
    "        if shuffle:\n",
    "            X, y = sk.utils.shuffle(X, y)\n",
    "\n",
    "        for i in range(0, data_size, batch_size):\n",
    "            X_batch = X[i:i + batch_size]\n",
    "            y_batch = y[i:i + batch_size]\n",
    "            yield (X_batch, y_batch)\n",
    "    return generator\n",
    "\n",
    "# Теперь можно сделать генератор по данным ()\n",
    "#  my_batch_generator = batch_generator(X, y, shuffle=True, batch_size=1):"
   ]
  },
  {
   "cell_type": "code",
   "execution_count": 407,
   "metadata": {},
   "outputs": [],
   "source": [
    "#%%pycodestyle\n",
    "\n",
    "def sigmoid(x):\n",
    "    \"\"\"\n",
    "    Вычисляем значение сигмоида.\n",
    "    X - выход линейной модели\n",
    "    \"\"\"\n",
    "    \n",
    "    sigm_value_x = 1 / (1 + np.exp(-x))\n",
    "    return sigm_value_x\n",
    "\n",
    "\n",
    "from sklearn.base import BaseEstimator, ClassifierMixin\n",
    "\n",
    "class MySGDClassifier(BaseEstimator, ClassifierMixin):\n",
    "    \n",
    "    def __init__(self, batch_generator, C=1, alpha=0.01, max_epoch=10, model_type='lin_reg'):\n",
    "        \"\"\"\n",
    "        batch_generator -- функция генератор, которой будем создавать батчи\n",
    "        C - коэф. регуляризации\n",
    "        alpha - скорость спуска\n",
    "        max_epoch - максимальное количество эпох\n",
    "        model_type - тим модели, lin_reg или log_reg\n",
    "        \"\"\"\n",
    "        \n",
    "        self.C = C\n",
    "        self.alpha = alpha\n",
    "        self.max_epoch = max_epoch\n",
    "        self.batch_generator = batch_generator\n",
    "        self.errors_log = {'iter' : [], 'loss' : [], 'mean_loss' : []}  \n",
    "        self.model_type = model_type\n",
    "        \n",
    "    def calc_loss(self, X_batch, y_batch):\n",
    "        \"\"\"\n",
    "        Считаем функцию потерь по батчу \n",
    "        X_batch - матрица объекты-признаки по батчу\n",
    "        y_batch - вектор ответов по батчу\n",
    "        Не забудте тип модели (линейная или логистическая регрессия)!\n",
    "        \"\"\"\n",
    "        if(self.model_type == 'lin_reg'):\n",
    "            loss = np.mean((self.weights @ X_batch.T - y_batch)**2)\n",
    "        elif(self.model_type == 'log_reg'):\n",
    "            prediction = sigmoid(self.weights @ X_batch.T)\n",
    "            if(np.isclose(prediction, 0).any() or np.isclose(prediction, 1).any()):\n",
    "                loss = np.inf\n",
    "            else:\n",
    "                loss = - np.mean(y_batch * np.log(prediction) + (1 - y_batch) * np.log(1 - prediction))\n",
    "        loss += np.sum(self.weights[1:]**2) / self.C\n",
    "        return loss\n",
    "    \n",
    "    def calc_loss_grad(self, X_batch, y_batch):\n",
    "        \"\"\"\n",
    "        Считаем  градиент функции потерь по батчу (то что Вы вывели в задании 1)\n",
    "        X_batch - матрица объекты-признаки по батчу\n",
    "        y_batch - вектор ответов по батчу\n",
    "        Не забудте тип модели (линейная или логистическая регрессия)!\n",
    "        \"\"\"\n",
    "        prediction = self.weights @ X_batch.T\n",
    "        if(self.model_type == 'lin_reg'):\n",
    "            loss_grad = (2 / len(y_batch)) * (prediction - y_batch) @ X_batch + (2 / self.C) * self.weights\n",
    "        elif(self.model_type == 'log_reg'):\n",
    "            prediction = sigmoid(prediction)\n",
    "            loss_grad = (1 / len(y_batch)) * (prediction - y_batch) @ X_batch + (2 / self.C) * self.weights\n",
    "            \n",
    "        loss_grad[0] -= (2 / self.C) * self.weights[0]\n",
    "        return loss_grad\n",
    "    \n",
    "    def update_weights(self, new_grad):\n",
    "        \"\"\"\n",
    "        Обновляем вектор весов\n",
    "        new_grad - градиент по батчу\n",
    "        \"\"\"\n",
    "        self.weights -= self.alpha * new_grad\n",
    "        \n",
    "    \n",
    "    def fit(self, X, y):\n",
    "        '''\n",
    "        Обучение модели\n",
    "        X - матрица объекты-признаки\n",
    "        y - вектор ответов\n",
    "        '''\n",
    "        X = np.concatenate((np.ones(len(X))[:, None], X), axis=1)\n",
    "        # Нужно инициализровать случайно веса\n",
    "        self.weights = np.random.rand(X.shape[1])\n",
    "        for n in range(0, self.max_epoch):\n",
    "            new_epoch_generator = self.batch_generator(X, y)\n",
    "            for batch_num, new_batch in enumerate(new_epoch_generator):\n",
    "                X_batch = new_batch[0]\n",
    "                y_batch = new_batch[1]\n",
    "                batch_loss = self.calc_loss(X_batch, y_batch)\n",
    "                batch_grad = self.calc_loss_grad(X_batch, y_batch)\n",
    "                self.update_weights(batch_grad)\n",
    "                # Подумайте в каком месте стоит посчитать ошибку для отладки модели\n",
    "                # До градиентного шага или после\n",
    "                self.errors_log['iter'].append(batch_num)\n",
    "                self.errors_log['loss'].append(batch_loss)\n",
    "            self.errors_log['mean_loss'].append(np.mean(self.errors_log['loss']))\n",
    "                \n",
    "        return self\n",
    "        \n",
    "    def predict(self, X, threshold=0.5):\n",
    "        \n",
    "        '''\n",
    "        Предсказание класса\n",
    "        X - матрица объекты-признаки\n",
    "        Не забудте тип модели (линейная или логистическая регрессия)!\n",
    "        '''\n",
    "        X = np.concatenate((np.ones(len(X))[:, None], X), axis=1)\n",
    "        if(self.model_type == 'lin_reg'):\n",
    "            prediction = self.weights @ X.T > threshold\n",
    "        elif(self.model_type == 'log_reg'):\n",
    "            prediction = sigmoid(self.weights @ X.T) > threshold\n",
    "        \n",
    "        \n",
    "        # Желательно здесь использовать матричные операции между X и весами, например, numpy.dot \n",
    "        return prediction.astype(np.int)"
   ]
  },
  {
   "cell_type": "markdown",
   "metadata": {},
   "source": [
    "Запустите обе регрессии на синтетических данных. \n",
    "\n",
    "\n",
    "Выведите полученные веса и нарисуйте разделяющую границу между классами (используйте только первых два веса для первых двух признаков X[:,0], X[:,1] для отображения в 2d пространство ).  "
   ]
  },
  {
   "cell_type": "code",
   "execution_count": 10,
   "metadata": {},
   "outputs": [],
   "source": [
    "def plot_decision_boundary(clf, X, first_feature=0, second_feature=1):\n",
    "    ## Your code Here\n",
    "    x_points = np.linspace(np.min(X[:, first_feature]),\n",
    "                         np.max(X[:, first_feature]), 50)\n",
    "    y_points = -(clf.weights[first_feature + 1] * x_points + clf.weights[0]) / clf.weights[second_feature + 1]\n",
    "    mask = (y_points < max(X[:, second_feature])) & (y_points > min(X[:, second_feature]))\n",
    "    plt.plot(x_points[mask], y_points[mask])"
   ]
  },
  {
   "cell_type": "code",
   "execution_count": 11,
   "metadata": {},
   "outputs": [
    {
     "data": {
      "image/png": "[encoded data removed]",
      "text/plain": [
       "<Figure size 1152x576 with 1 Axes>"
      ]
     },
     "metadata": {},
     "output_type": "display_data"
    }
   ],
   "source": [
    "np.random.seed(0)\n",
    "\n",
    "C1 = np.array([[0., -0.8], [1.5, 0.8]])\n",
    "C2 = np.array([[1., -0.7], [2., 0.7]])\n",
    "gauss1 = np.dot(np.random.randn(200, 2) + np.array([5, 3]), C1)\n",
    "gauss2 = np.dot(np.random.randn(200, 2) + np.array([1.5, 0]), C2)\n",
    "\n",
    "X = np.vstack([gauss1, gauss2])\n",
    "y = np.r_[np.ones(200), np.zeros(200)]\n",
    "\n",
    "log_reg_clf = MySGDClassifier(batch_generator(batch_size=1), alpha = 0.001, C=1, max_epoch=50, model_type='log_reg')\n",
    "log_reg_clf.fit(X,y)\n",
    "plot_decision_boundary(log_reg_clf, X)\n",
    "\n",
    "plt.scatter(X[:,0], X[:,1], c=y);"
   ]
  },
  {
   "cell_type": "markdown",
   "metadata": {},
   "source": [
    "Далее будем анализировать Ваш алгоритм. \n",
    "Для этих заданий используйте датасет ниже."
   ]
  },
  {
   "cell_type": "code",
   "execution_count": 12,
   "metadata": {},
   "outputs": [],
   "source": [
    "from sklearn.datasets import make_classification"
   ]
  },
  {
   "cell_type": "code",
   "execution_count": 166,
   "metadata": {},
   "outputs": [],
   "source": [
    "X, y = make_classification(n_samples=100000, n_features=10, \n",
    "                           n_informative=4, n_redundant=0, \n",
    "                           random_state=123, class_sep=1.0,\n",
    "                           n_clusters_per_class=1)"
   ]
  },
  {
   "cell_type": "markdown",
   "metadata": {},
   "source": [
    "Покажите сходимости обеих регрессией на этом датасете: изобразите график  функции потерь, усредненной по $N$ шагам градиентого спуска, для разных `alpha` (размеров шага). Разные `alpha` расположите на одном графике. \n",
    "\n",
    "$N$ можно брать 10, 50, 100 и т.д. "
   ]
  },
  {
   "cell_type": "code",
   "execution_count": 18,
   "metadata": {},
   "outputs": [
    {
     "data": {
      "image/png": "[encoded data removed]",
      "text/plain": [
       "<Figure size 1152x576 with 1 Axes>"
      ]
     },
     "metadata": {},
     "output_type": "display_data"
    }
   ],
   "source": [
    "N = 1000\n",
    "alphas = [0.001, 0.005, 0.01, 0.05]\n",
    "max_epoch = 3\n",
    "fig, ax = plt.subplots()\n",
    "for alpha in alphas:\n",
    "    clf = MySGDClassifier(batch_generator(batch_size=100), alpha=alpha, max_epoch=max_epoch,\n",
    "                            model_type = 'lin_reg')\n",
    "    clf.fit(X,y)\n",
    "    loss = []\n",
    "    for i in range(len(y) // N * max_epoch):\n",
    "        loss.append(np.mean(clf.errors_log['loss'][i:i+N]))\n",
    "        \n",
    "    ax.plot(np.arange(0, max_epoch * len(y), N), loss, label=f'alpha={alpha}')\n",
    "\n",
    "ax.legend()\n",
    "ax.set_xlabel('SGD iteration')\n",
    "ax.set_ylabel('Loss')\n",
    "plt.show()"
   ]
  },
  {
   "cell_type": "code",
   "execution_count": 167,
   "metadata": {},
   "outputs": [
    {
     "data": {
      "image/png": "[encoded data removed]",
      "text/plain": [
       "<Figure size 1152x576 with 1 Axes>"
      ]
     },
     "metadata": {},
     "output_type": "display_data"
    }
   ],
   "source": [
    "N = 1000\n",
    "alphas = [0.001, 0.005, 0.01, 0.05]\n",
    "max_epoch = 20\n",
    "fig, ax = plt.subplots()\n",
    "for alpha in alphas:\n",
    "    clf = MySGDClassifier(batch_generator(batch_size=1000), alpha=alpha, max_epoch=max_epoch,\n",
    "                            model_type = 'log_reg')\n",
    "    clf.fit(X,y)\n",
    "    loss = []\n",
    "    for i in range(len(y) // N * max_epoch):\n",
    "        loss.append(np.mean(clf.errors_log['loss'][i:i+N]))\n",
    "        \n",
    "    ax.plot(np.arange(0, max_epoch * len(y), N), loss, label=f'alpha={alpha}')\n",
    "\n",
    "ax.legend()\n",
    "ax.set_xlabel('SGD iteration')\n",
    "ax.set_ylabel('Loss')\n",
    "plt.show()"
   ]
  },
  {
   "cell_type": "markdown",
   "metadata": {},
   "source": [
    "Что Вы можете сказать про сходимость метода при различных `alpha`? Какое значение стоит выбирать для лучшей сходимости?"
   ]
  },
  {
   "cell_type": "markdown",
   "metadata": {
    "collapsed": true
   },
   "source": [
    "Из графиков видно, что при более больших $\\alpha$ Loss функция сходится быстрее. Однако, при росте $\\alpha$ растет антиградиент. Это означает, что в среднем мы всегда будем находиться от истинного минимума на $\\frac{1}{2}\\alpha ||grad(L)||$, что также можно наблюдать из графиков. Поэтому, хорошей идеей будет брать изначально $\\alpha$ побольше, а с течением итераций его уменьшать. "
   ]
  },
  {
   "cell_type": "markdown",
   "metadata": {},
   "source": [
    "Изобразите график среднего значения весов для обеих регрессий в зависимости от коеф. регуляризации С из `np.logspace(3, -3, 10)` "
   ]
  },
  {
   "cell_type": "code",
   "execution_count": 20,
   "metadata": {},
   "outputs": [],
   "source": [
    "array_C = np.logspace(3, -3, 10)\n",
    "mean_weights = {'log_reg': [], 'lin_reg': []}\n",
    "for C in array_C:\n",
    "    clf_linreg = MySGDClassifier(batch_generator(batch_size=100), max_epoch=3, alpha=0.0001, C=C, model_type='lin_reg')\n",
    "    clf_linreg.fit(X, y)\n",
    "    clf_logreg = MySGDClassifier(batch_generator(batch_size=100), max_epoch=3, alpha=0.0001, C=C, model_type='log_reg')\n",
    "    clf_logreg.fit(X, y)\n",
    "    mean_weights['lin_reg'].append(np.mean(np.abs(clf_linreg.weights)))\n",
    "    mean_weights['log_reg'].append(np.mean(np.abs(clf_logreg.weights)))\n"
   ]
  },
  {
   "cell_type": "code",
   "execution_count": 21,
   "metadata": {},
   "outputs": [],
   "source": [
    "plot_C = list(map(lambda x: round(x, 4), array_C))"
   ]
  },
  {
   "cell_type": "code",
   "execution_count": 22,
   "metadata": {},
   "outputs": [
    {
     "data": {
      "image/png": "[encoded data removed]",
      "text/plain": [
       "<Figure size 1152x576 with 1 Axes>"
      ]
     },
     "metadata": {},
     "output_type": "display_data"
    }
   ],
   "source": [
    "sns.barplot(x=plot_C, y=mean_weights['lin_reg']);"
   ]
  },
  {
   "cell_type": "code",
   "execution_count": 23,
   "metadata": {},
   "outputs": [
    {
     "data": {
      "image/png": "[encoded data removed]",
      "text/plain": [
       "<Figure size 1152x576 with 1 Axes>"
      ]
     },
     "metadata": {},
     "output_type": "display_data"
    }
   ],
   "source": [
    "fig, ax = plt.subplots()\n",
    "ax.set_xlabel('C')\n",
    "ax.set_ylabel('mean weigts')\n",
    "sns.barplot(x=plot_C, y=mean_weights['log_reg']);"
   ]
  },
  {
   "cell_type": "markdown",
   "metadata": {},
   "source": [
    "Довольны ли Вы, насколько сильно уменьшились Ваши веса? "
   ]
  },
  {
   "cell_type": "markdown",
   "metadata": {},
   "source": [
    "Видно прямую корелляцию между величиной коэффициента C и средним значением весов. Вряд ли можно сказать что я доволен тем на сколько сильно они уменшились, т.к. они изначально были не очень большими. Скорее всего это связяно с тем, что было произведено малое количество эпох и модель не успела переобучиться"
   ]
  },
  {
   "cell_type": "markdown",
   "metadata": {},
   "source": [
    "# Боевое применение (4  балла)\n",
    "\n",
    "**Защита данной части возможна только при преодолении в проекте бейзлайна Handmade baseline.**"
   ]
  },
  {
   "cell_type": "markdown",
   "metadata": {},
   "source": [
    "Давайте применим модель на итоговом проекте! Датасет сделаем точно таким же образом, как было показано в project_overview.ipynb\n",
    "\n",
    "Применим обе регрессии, подберем для них параметры и сравним качество. Может быть Вы еще одновременно с решением домашней работы подрастете на лидерборде!"
   ]
  },
  {
   "cell_type": "code",
   "execution_count": 24,
   "metadata": {},
   "outputs": [],
   "source": [
    "import re\n",
    "import pandas as pd\n",
    "from sklearn.model_selection import GroupKFold, cross_val_score\n",
    "from sklearn.feature_extraction.text import TfidfVectorizer\n",
    "from sklearn.metrics import f1_score\n",
    "from sklearn.linear_model import LinearRegression, LogisticRegression\n",
    "from sklearn.preprocessing import StandardScaler"
   ]
  },
  {
   "cell_type": "code",
   "execution_count": 25,
   "metadata": {},
   "outputs": [
    {
     "name": "stdout",
     "output_type": "stream",
     "text": [
      "28026\n"
     ]
    }
   ],
   "source": [
    "doc_to_title = {}\n",
    "with open('docs_titles.tsv') as f:\n",
    "    for num_line, line in enumerate(f):\n",
    "        if num_line == 0:\n",
    "            continue\n",
    "        data = line.strip().split('\\t', 1)\n",
    "        doc_id = int(data[0])\n",
    "        if len(data) == 1:\n",
    "            title = ''\n",
    "        else:\n",
    "            title = data[1]\n",
    "        doc_to_title[doc_id] = title\n",
    "print (len(doc_to_title))"
   ]
  },
  {
   "cell_type": "code",
   "execution_count": 26,
   "metadata": {},
   "outputs": [],
   "source": [
    "import pandas as pd\n",
    "train_data = pd.read_csv('train_groups.csv')\n",
    "traingroups_titledata = {}\n",
    "for i in range(len(train_data)):\n",
    "    new_doc = train_data.iloc[i]\n",
    "    doc_group = new_doc['group_id']\n",
    "    doc_id = new_doc['doc_id']\n",
    "    target = new_doc['target']\n",
    "    title = doc_to_title[doc_id]\n",
    "    if doc_group not in traingroups_titledata:\n",
    "        traingroups_titledata[doc_group] = []\n",
    "    traingroups_titledata[doc_group].append((doc_id, title, target))"
   ]
  },
  {
   "cell_type": "code",
   "execution_count": 234,
   "metadata": {},
   "outputs": [],
   "source": [
    "import numpy as np\n",
    "y_train = []\n",
    "X_train = []\n",
    "groups_train = []\n",
    "for new_group in traingroups_titledata:\n",
    "    docs = traingroups_titledata[new_group]\n",
    "    for k, (doc_id, title, target_id) in enumerate(docs):\n",
    "        y_train.append(target_id)\n",
    "        groups_train.append(new_group)\n",
    "        all_dist = []\n",
    "        words = set(title.strip().split())\n",
    "        for j in range(0, len(docs)):\n",
    "            if k == j:\n",
    "                continue\n",
    "            doc_id_j, title_j, target_j = docs[j]\n",
    "            words_j = set(title_j.strip().split())\n",
    "            all_dist.append(len(words.intersection(words_j)))\n",
    "        all_dist = np.asarray(all_dist)\n",
    "        X_train.append(sorted(all_dist, reverse=True)[0:15])\n",
    "X = np.array(X_train)\n",
    "y = np.array(y_train)\n",
    "groups_train = np.array(groups_train)"
   ]
  },
  {
   "cell_type": "markdown",
   "metadata": {},
   "source": [
    "Подберите размер батча для обучения. Линейная модель не должна учиться дольше нескольких минут. \n",
    "\n",
    "Не забывайте использовать скейлер!"
   ]
  },
  {
   "cell_type": "code",
   "execution_count": 235,
   "metadata": {},
   "outputs": [],
   "source": [
    "scaler = StandardScaler()\n",
    "X = scaler.fit_transform(X)"
   ]
  },
  {
   "cell_type": "markdown",
   "metadata": {},
   "source": [
    "Разбейте данные на обучение и валидацию. Подберите параметры C, alpha, max_epoch, model_type на валидации (Вы же помните, как правильно в этой задаче делать валидацию?)"
   ]
  },
  {
   "cell_type": "code",
   "execution_count": 289,
   "metadata": {},
   "outputs": [],
   "source": [
    "gkf = GroupKFold(n_splits=10)\n",
    "scores = {}\n",
    "for C in np.logspace(-1, 5, 7):\n",
    "    for alpha in np.logspace(-5, -1, 5):\n",
    "        for max_epoch in range(1, 21):\n",
    "            validation_scores = []\n",
    "            for train, test, in gkf.split(X, y, groups=groups_train):\n",
    "                clf = MySGDClassifier(batch_generator(batch_size=10000), max_epoch=max_epoch,\n",
    "                                      alpha = alpha, C=C, model_type='log_reg')\n",
    "                clf.fit(X[train], y[train])\n",
    "                prediction = clf.predict(X[test])\n",
    "                validation_scores.append(f1_score(y[test], prediction))\n",
    "            scores[np.mean(validation_scores)] = (C, alpha, max_epoch) "
   ]
  },
  {
   "cell_type": "code",
   "execution_count": 290,
   "metadata": {},
   "outputs": [],
   "source": [
    "max_score, param = max(scores.items())"
   ]
  },
  {
   "cell_type": "markdown",
   "metadata": {
    "collapsed": true
   },
   "source": [
    "Подберите порог линейной модели, по достижении которого, Вы будете относить объект к классу 1. Вспомните, какую метрику мы оптимизируем в соревновании.  Как тогда правильно подобрать порог?"
   ]
  },
  {
   "cell_type": "code",
   "execution_count": 416,
   "metadata": {},
   "outputs": [
    {
     "data": {
      "text/plain": [
       "(0.592455619231171, 0.5)"
      ]
     },
     "execution_count": 416,
     "metadata": {},
     "output_type": "execute_result"
    }
   ],
   "source": [
    "gkf = GroupKFold(n_splits=10)\n",
    "thresholds = {}\n",
    "final_clf = MySGDClassifier(batch_generator(batch_size=10000), *param, model_type='log_reg')\n",
    "final_clf.fit(X[train], y[train])\n",
    "for threshold in np.arange(0, 1, 0.05):\n",
    "    validation_scores = []\n",
    "    for train, test, in gkf.split(X, y, groups=groups_train):\n",
    "        prediction = final_clf.predict(X[test], threshold)\n",
    "        validation_scores.append(f1_score(y[test], prediction))\n",
    "    thresholds[np.mean(validation_scores)] = threshold\n",
    "\n",
    "max_score, threshold = max(thresholds.items())\n",
    "\n",
    "max_score, threshold"
   ]
  },
  {
   "cell_type": "code",
   "execution_count": 424,
   "metadata": {},
   "outputs": [
    {
     "name": "stdout",
     "output_type": "stream",
     "text": [
      "28026\n"
     ]
    }
   ],
   "source": [
    "doc_to_title = {}\n",
    "with open('docs_titles.tsv') as f:\n",
    "    for num_line, line in enumerate(f):\n",
    "        if num_line == 0:\n",
    "            continue\n",
    "        data = line.strip().split('\\t', 1)\n",
    "        doc_id = int(data[0])\n",
    "        if len(data) == 1:\n",
    "            title = ''\n",
    "        else:\n",
    "            title = data[1]\n",
    "        doc_to_title[doc_id] = title\n",
    "print (len(doc_to_title))\n",
    "\n",
    "import pandas as pd\n",
    "train_data = pd.read_csv('test_groups.csv')\n",
    "traingroups_titledata = {}\n",
    "for i in range(len(train_data)):\n",
    "    new_doc = train_data.iloc[i]\n",
    "    doc_group = new_doc['group_id']\n",
    "    doc_id = new_doc['doc_id']\n",
    "    pair_id = new_doc['pair_id']\n",
    "    title = doc_to_title[doc_id]\n",
    "    if doc_group not in traingroups_titledata:\n",
    "        traingroups_titledata[doc_group] = []\n",
    "    traingroups_titledata[doc_group].append((pair_id, doc_id, title))\n",
    "\n",
    "X_test = []\n",
    "groups_test = []\n",
    "pair_ids = []\n",
    "for new_group in traingroups_titledata:\n",
    "    docs = traingroups_titledata[new_group]\n",
    "    for k, (pair_id, doc_id, title) in enumerate(docs):\n",
    "        groups_test.append(new_group)\n",
    "        all_dist = []\n",
    "        words = set(title.strip().split())\n",
    "        for j in range(0, len(docs)):\n",
    "            if k == j:\n",
    "                continue\n",
    "            _, doc_id_j, title_j = docs[j]\n",
    "            words_j = set(title_j.strip().split())\n",
    "            all_dist.append(len(words.intersection(words_j)))\n",
    "        all_dist = np.asarray(all_dist)\n",
    "        X_test.append(sorted(all_dist, reverse=True)[0:15])\n",
    "        pair_ids.append(pair_id)\n",
    "X_test = np.array(X_test)\n",
    "groups_test = np.array(groups_test)"
   ]
  },
  {
   "cell_type": "code",
   "execution_count": 425,
   "metadata": {},
   "outputs": [],
   "source": [
    "scaler = StandardScaler()\n",
    "X_test = scaler.fit_transform(X_test)"
   ]
  },
  {
   "cell_type": "code",
   "execution_count": 426,
   "metadata": {},
   "outputs": [],
   "source": [
    "prediction = final_clf.predict(X_test, threshold)"
   ]
  },
  {
   "cell_type": "code",
   "execution_count": 427,
   "metadata": {},
   "outputs": [
    {
     "data": {
      "text/plain": [
       "16627"
      ]
     },
     "execution_count": 427,
     "metadata": {},
     "output_type": "execute_result"
    }
   ],
   "source": [
    "prediction.size"
   ]
  },
  {
   "cell_type": "code",
   "execution_count": 428,
   "metadata": {},
   "outputs": [
    {
     "data": {
      "text/plain": [
       "5630"
      ]
     },
     "execution_count": 428,
     "metadata": {},
     "output_type": "execute_result"
    }
   ],
   "source": [
    "prediction.sum()"
   ]
  },
  {
   "cell_type": "code",
   "execution_count": 429,
   "metadata": {},
   "outputs": [],
   "source": [
    "subm = pd.DataFrame({'pair_id': pair_ids, 'target': prediction})"
   ]
  },
  {
   "cell_type": "code",
   "execution_count": 430,
   "metadata": {},
   "outputs": [],
   "source": [
    "subm.to_csv(\"submission.csv\", index=False)"
   ]
  },
  {
   "cell_type": "markdown",
   "metadata": {},
   "source": [
    "С лучшими параметрами на валидации сделайте предсказание на тестовом множестве, отправьте его на проверку на платформу kaggle. Убедитесь, что Вы смогли побить public score первого бейзлайна."
   ]
  },
  {
   "cell_type": "markdown",
   "metadata": {
    "collapsed": true
   },
   "source": [
    "** При сдаче домашки Вам необходимо кроме ссылки на ноутбук показать Ваш ник на kaggle, под которым Вы залили решение, которое побило Handmade baseline. **"
   ]
  },
  {
   "cell_type": "code",
   "execution_count": 431,
   "metadata": {},
   "outputs": [
    {
     "name": "stdout",
     "output_type": "stream",
     "text": [
      "Collecting autopep8\n",
      "  Using cached autopep8-1.5.4.tar.gz (121 kB)\n",
      "Collecting pycodestyle>=2.6.0\n",
      "  Using cached pycodestyle-2.6.0-py2.py3-none-any.whl (41 kB)\n",
      "Collecting toml\n",
      "  Downloading toml-0.10.2-py2.py3-none-any.whl (16 kB)\n",
      "Building wheels for collected packages: autopep8\n",
      "  Building wheel for autopep8 (setup.py) ... \u001b[?25ldone\n",
      "\u001b[?25h  Created wheel for autopep8: filename=autopep8-1.5.4-py2.py3-none-any.whl size=45287 sha256=6ea6a9f4433e7aebb088d153146ef1fa2e42e345331ddda40f66e35c622691c6\n",
      "  Stored in directory: /home/scrinium/.cache/pip/wheels/2c/ad/e2/f5322a230aedd0091b75ec899404e3562d8bb4e7ba0f025cbd\n",
      "Successfully built autopep8\n",
      "Installing collected packages: pycodestyle, toml, autopep8\n",
      "Successfully installed autopep8-1.5.4 pycodestyle-2.6.0 toml-0.10.2\n"
     ]
    }
   ],
   "source": [
    "!pip install autopep8"
   ]
  },
  {
   "cell_type": "markdown",
   "metadata": {},
   "source": [
    "# Фидбек (бесценно)"
   ]
  },
  {
   "cell_type": "markdown",
   "metadata": {},
   "source": [
    "* Какие аспекты обучения линейных моделей Вам показались непонятными? Какое место стоит дополнительно объяснить?"
   ]
  },
  {
   "cell_type": "markdown",
   "metadata": {},
   "source": [
    "***Ваше ответ здесь***"
   ]
  },
  {
   "cell_type": "markdown",
   "metadata": {},
   "source": [
    "* Здесь Вы можете оставить отзыв о этой домашней работе или о всем курсе.   "
   ]
  },
  {
   "cell_type": "markdown",
   "metadata": {},
   "source": [
    "*** ВАШ ОТЗЫВ ЗДЕСЬ***"
   ]
  },
  {
   "cell_type": "code",
   "execution_count": null,
   "metadata": {},
   "outputs": [],
   "source": []
  },
  {
   "cell_type": "code",
   "execution_count": null,
   "metadata": {},
   "outputs": [],
   "source": []
  }
 ],
 "metadata": {
  "anaconda-cloud": {},
  "kernelspec": {
   "display_name": "Python 3",
   "language": "python",
   "name": "python3"
  },
  "language_info": {
   "codemirror_mode": {
    "name": "ipython",
    "version": 3
   },
   "file_extension": ".py",
   "mimetype": "text/x-python",
   "name": "python",
   "nbconvert_exporter": "python",
   "pygments_lexer": "ipython3",
   "version": "3.7.9"
  },
  "nav_menu": {},
  "toc": {
   "colors": {
    "hover_highlight": "#DAA520",
    "navigate_num": "#000000",
    "navigate_text": "#333333",
    "running_highlight": "#FF0000",
    "selected_highlight": "#FFD700",
    "sidebar_border": "#EEEEEE",
    "wrapper_background": "#FFFFFF"
   },
   "moveMenuLeft": true,
   "nav_menu": {
    "height": "402px",
    "width": "253px"
   },
   "navigate_menu": true,
   "number_sections": false,
   "sideBar": true,
   "threshold": 4,
   "toc_cell": false,
   "toc_section_display": "block",
   "toc_window_display": true,
   "widenNotebook": false
  }
 },
 "nbformat": 4,
 "nbformat_minor": 2
}
