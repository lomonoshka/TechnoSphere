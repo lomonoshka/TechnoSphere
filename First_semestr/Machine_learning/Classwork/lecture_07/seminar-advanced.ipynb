{
 "cells": [
  {
   "cell_type": "markdown",
   "metadata": {},
   "source": [
    "# Быстро строим деревья"
   ]
  },
  {
   "cell_type": "markdown",
   "metadata": {},
   "source": [
    "\n",
    "Деревья глубины 1 обычно называют решающими пнями. \n",
    "Как Вы думаете, какая сложность построения решающего пня?\n"
   ]
  },
  {
   "cell_type": "markdown",
   "metadata": {},
   "source": [
    "Представим, что мы решаем задачу регрессии, считаем для одного сплита. \n",
    "\n",
    "$$Q = F(R_m) - \\frac{N_l}{N_m} F(R_l) - \\frac{N_r}{N_m} F(R_r) $$\n",
    "\n",
    "$$F(R) = \\frac{1}{N} \\sum_{i=1}^{N}(mean(y) - y_i) ^ 2 $$\n",
    "\n",
    "$$Q = F(R_m) - \\frac{1}{N_m} [ \\sum_{i \\in R_l}(mean(y_l) - y_i) ^ 2  +  \\sum_{i \\in R_r}(mean(y_r) - y_i) ^ 2 ]  $$\n",
    "\n",
    "$F(R_m) и N_m$ от сплита не зависит, можно отбросить. Осталось научиться быстро считать такие выражения:\n",
    "$\\sum_{i \\in R_l}(mean(y_l) - y_i) ^ 2$ для всех порогов. \n",
    "\n",
    "Если делать в лоб, то получится $O(||R||^2)$, нам не нравится, очень долго. Каждый раз пересчитывать довольно глупо, потому что мы точно знаем, какой именно объект при изменении сплита перешел из левой части в правую!\n",
    "\n",
    "\n"
   ]
  },
  {
   "cell_type": "markdown",
   "metadata": {},
   "source": [
    "Воспользуемся формулой для дисперсии:\n",
    "$$D(R) = mean(y ^ 2) -  mean(y) ^ 2 =   \\frac{1}{N} \\sum_{i \\in R} y_i^2 -  \\frac{1}{N ^ 2} (\\sum_{i \\in R} y_i) ^2$$\n",
    "\n",
    "Но у нас не дисперсия, а дисперсия без деления на число объектов, то есть:\n",
    "$$\\sum_{i \\in R_l}(mean(y_l) - y_i) ^ 2 =   \\sum_{i \\in R_k} y_i^2 -  \\frac{1}{N_l} (\\sum_{i \\in R_l} y_i) ^2 $$\n",
    "Аналогично для правого сплита. "
   ]
  },
  {
   "cell_type": "markdown",
   "metadata": {},
   "source": [
    "Вот мы и получили более простой алгоритм подсчета сплита:\n",
    "\n",
    "1) Отсортировали фичу и таргет по фиче\n",
    "\n",
    "2) Сначала считаем, что порог это минимальное значение, то есть левый кусок пустой, правый все значения. Храним для каждой из частей\n",
    "а) Сумму\n",
    "б) Сумму квадратов\n",
    "в) Число объектов\n",
    "\n",
    "3) Взяли следующее значение в отсортированном списке, это значение ушло от правого куска в левое. Обновили а) б) в) в обоих кусках\n",
    "\n",
    "4) Посчитали  для каждого куска б) - а) ** 2 / в), сложили для обоих кусков. Если эта сумма маеньше лучшего значения, то это лучший сплит из текущих\n"
   ]
  },
  {
   "cell_type": "markdown",
   "metadata": {},
   "source": [
    "Реализуйте алгоритм, сравните качество со sklearn.\n",
    "\n",
    "Если получилось одинаково, Вы молодец!!!"
   ]
  },
  {
   "cell_type": "code",
   "execution_count": 1,
   "metadata": {},
   "outputs": [],
   "source": [
    "import numpy as np"
   ]
  },
  {
   "cell_type": "code",
   "execution_count": 72,
   "metadata": {},
   "outputs": [],
   "source": [
    "def get_threshold(feature, y):\n",
    "    best_thr = None\n",
    "    best_score = None\n",
    "    sq_sum_l = np.dot(y, y)\n",
    "    sum_y_l = np.sum(y)\n",
    "    sum_sq_l = sum_y_l**2\n",
    "    sq_sum_r = 0\n",
    "    sum_y_r = 0\n",
    "    sum_sq_r = 0\n",
    "    index = np.argsort(feature)\n",
    "    feature = feature[index]\n",
    "    y = y[index]\n",
    "    for i, (f, y_i) in enumerate(zip(feature, y)):\n",
    "        if best_thr is None:\n",
    "            best_score = sq_sum_l - 1/(len(y) - i) * sum_sq_l\n",
    "            best_thr = f\n",
    "        else:\n",
    "            tmp_score = sq_sum_l - 1/(len(y) - i) * sum_sq_l + sq_sum_r - 1/(i) * sum_sq_r\n",
    "            if tmp_score < best_score:\n",
    "                best_thr = f\n",
    "                best_score = tmp_score\n",
    "                \n",
    "        sq_sum_l -= y_i**2\n",
    "        sum_y_l -= y_i\n",
    "        sum_sq_l -= y_i*(2 * sum_y_l + y_i)\n",
    "        sq_sum_r += y_i**2\n",
    "        sum_y_r += y_i\n",
    "        sum_sq_r += y_i*(2 * sum_y_r + y_i)\n",
    "        \n",
    "    return best_score, best_thr\n",
    "\n",
    "\n",
    "def train_stump(X, y):\n",
    "    best_f = None\n",
    "    best_thr = None\n",
    "    best_error = float('inf')\n",
    "    left_mean, right_mean = None, None\n",
    "    for j in range(X.shape[1]):\n",
    "        f_score, f_thr = get_threshold(X[:, j], y)\n",
    "        if f_score < best_error:\n",
    "            best_q = f_score\n",
    "            best_f = j\n",
    "            best_thr = f_thr\n",
    "    maskl = X[:, best_f] < best_thr\n",
    "    maskr = X[:, best_f] >= best_thr\n",
    "    left_mean = np.mean(y[maskl]) if len(y[maskl]) != 0 else 0\n",
    "    right_mean = np.mean(y[maskr]) if len(y[maskr]) != 0 else 0\n",
    "    return best_f, best_thr, left_mean, right_mean\n",
    "\n",
    "\n",
    "    "
   ]
  },
  {
   "cell_type": "code",
   "execution_count": 29,
   "metadata": {},
   "outputs": [],
   "source": [
    "from sklearn.datasets import load_boston\n",
    "X, y = load_boston(return_X_y=True)"
   ]
  },
  {
   "cell_type": "code",
   "execution_count": 77,
   "metadata": {},
   "outputs": [
    {
     "name": "stdout",
     "output_type": "stream",
     "text": [
      "48.08665360896714\n",
      "CPU times: user 35.6 ms, sys: 500 µs, total: 36.1 ms\n",
      "Wall time: 34.8 ms\n"
     ]
    }
   ],
   "source": [
    "%%time\n",
    "from sklearn.tree import DecisionTreeRegressor\n",
    "from sklearn.metrics import mean_squared_error\n",
    "best_f, best_thr, left_mean, right_mean = train_stump(X, y)\n",
    "maskl = X[:, best_f] < best_thr\n",
    "maskr = X[:, best_f] >= best_thr\n",
    "pred = np.zeros(len(y))\n",
    "pred[maskl] = left_mean\n",
    "pred[maskr] = right_mean\n",
    "print(mean_squared_error(y, pred))\n",
    "# regressor_stump = DecisionTreeRegressor(random_state=0, max_depth=1).fit(X, y)\n",
    "# print(mean_squared_error(y, regressor_stump.predict(X)))"
   ]
  },
  {
   "cell_type": "code",
   "execution_count": 30,
   "metadata": {},
   "outputs": [
    {
     "name": "stdout",
     "output_type": "stream",
     "text": [
      "0.0\n",
      "46.19909167710848\n",
      "CPU times: user 7.91 ms, sys: 3.12 ms, total: 11 ms\n",
      "Wall time: 9.86 ms\n"
     ]
    }
   ],
   "source": [
    "%%time\n",
    "from sklearn.tree import DecisionTreeRegressor\n",
    "from sklearn.metrics import mean_squared_error\n",
    "regressor = DecisionTreeRegressor(random_state=0).fit(X, y)\n",
    "print(mean_squared_error(y, regressor.predict(X)))\n",
    "regressor_stump = DecisionTreeRegressor(random_state=0, max_depth=1).fit(X, y)\n",
    "print(mean_squared_error(y, regressor_stump.predict(X)))"
   ]
  },
  {
   "cell_type": "code",
   "execution_count": null,
   "metadata": {
    "collapsed": true
   },
   "outputs": [],
   "source": []
  }
 ],
 "metadata": {
  "anaconda-cloud": {},
  "kernelspec": {
   "display_name": "Python 3",
   "language": "python",
   "name": "python3"
  },
  "language_info": {
   "codemirror_mode": {
    "name": "ipython",
    "version": 3
   },
   "file_extension": ".py",
   "mimetype": "text/x-python",
   "name": "python",
   "nbconvert_exporter": "python",
   "pygments_lexer": "ipython3",
   "version": "3.7.9"
  }
 },
 "nbformat": 4,
 "nbformat_minor": 2
}
