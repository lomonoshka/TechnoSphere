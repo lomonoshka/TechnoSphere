{
 "cells": [
  {
   "cell_type": "markdown",
   "metadata": {},
   "source": [
    "<center><img src=\"images/header.png\"></center>\n",
    "\n",
    "<h1><center>Алгоритмы интеллектуальной обработки больших объемов данных</center></h1>\n",
    "<hr>\n",
    "<h2><center>Деревья решений, случайные леса (практика)</center></h2>"
   ]
  },
  {
   "cell_type": "code",
   "execution_count": 1,
   "metadata": {},
   "outputs": [],
   "source": [
    "import pandas as pd\n",
    "import numpy as np\n",
    "import matplotlib.pyplot as plt\n",
    "\n",
    "%matplotlib inline\n",
    "\n",
    "plt.style.use('ggplot')\n",
    "plt.rcParams['figure.figsize'] = (12,8)\n",
    "\n",
    "# Для кириллицы на графиках\n",
    "font = {'family': 'Verdana',\n",
    "        'weight': 'normal'}\n",
    "plt.rc('font', **font)"
   ]
  },
  {
   "cell_type": "markdown",
   "metadata": {},
   "source": [
    "# Практика 1"
   ]
  },
  {
   "cell_type": "markdown",
   "metadata": {},
   "source": [
    "Загрузите данные [отсюда](https://cloud.mail.ru/public/8nHV/p6J7wY1y1) и положите в папку  `data` в директорию с ноутбуком."
   ]
  },
  {
   "cell_type": "code",
   "execution_count": 2,
   "metadata": {
    "scrolled": true
   },
   "outputs": [],
   "source": [
    "df_churn = pd.read_csv('./data/churn.csv')"
   ]
  },
  {
   "cell_type": "code",
   "execution_count": 3,
   "metadata": {},
   "outputs": [
    {
     "data": {
      "text/html": [
       "<div>\n",
       "<style scoped>\n",
       "    .dataframe tbody tr th:only-of-type {\n",
       "        vertical-align: middle;\n",
       "    }\n",
       "\n",
       "    .dataframe tbody tr th {\n",
       "        vertical-align: top;\n",
       "    }\n",
       "\n",
       "    .dataframe thead th {\n",
       "        text-align: right;\n",
       "    }\n",
       "</style>\n",
       "<table border=\"1\" class=\"dataframe\">\n",
       "  <thead>\n",
       "    <tr style=\"text-align: right;\">\n",
       "      <th></th>\n",
       "      <th>State</th>\n",
       "      <th>Account Length</th>\n",
       "      <th>Area Code</th>\n",
       "      <th>Phone</th>\n",
       "      <th>Int'l Plan</th>\n",
       "      <th>VMail Plan</th>\n",
       "      <th>VMail Message</th>\n",
       "      <th>Day Mins</th>\n",
       "      <th>Day Calls</th>\n",
       "      <th>Day Charge</th>\n",
       "      <th>...</th>\n",
       "      <th>Eve Calls</th>\n",
       "      <th>Eve Charge</th>\n",
       "      <th>Night Mins</th>\n",
       "      <th>Night Calls</th>\n",
       "      <th>Night Charge</th>\n",
       "      <th>Intl Mins</th>\n",
       "      <th>Intl Calls</th>\n",
       "      <th>Intl Charge</th>\n",
       "      <th>CustServ Calls</th>\n",
       "      <th>Churn?</th>\n",
       "    </tr>\n",
       "  </thead>\n",
       "  <tbody>\n",
       "    <tr>\n",
       "      <th>0</th>\n",
       "      <td>KS</td>\n",
       "      <td>128</td>\n",
       "      <td>415</td>\n",
       "      <td>382-4657</td>\n",
       "      <td>no</td>\n",
       "      <td>yes</td>\n",
       "      <td>25</td>\n",
       "      <td>265.1</td>\n",
       "      <td>110</td>\n",
       "      <td>45.07</td>\n",
       "      <td>...</td>\n",
       "      <td>99</td>\n",
       "      <td>16.78</td>\n",
       "      <td>244.7</td>\n",
       "      <td>91</td>\n",
       "      <td>11.01</td>\n",
       "      <td>10.0</td>\n",
       "      <td>3</td>\n",
       "      <td>2.70</td>\n",
       "      <td>1</td>\n",
       "      <td>False.</td>\n",
       "    </tr>\n",
       "    <tr>\n",
       "      <th>1</th>\n",
       "      <td>OH</td>\n",
       "      <td>107</td>\n",
       "      <td>415</td>\n",
       "      <td>371-7191</td>\n",
       "      <td>no</td>\n",
       "      <td>yes</td>\n",
       "      <td>26</td>\n",
       "      <td>161.6</td>\n",
       "      <td>123</td>\n",
       "      <td>27.47</td>\n",
       "      <td>...</td>\n",
       "      <td>103</td>\n",
       "      <td>16.62</td>\n",
       "      <td>254.4</td>\n",
       "      <td>103</td>\n",
       "      <td>11.45</td>\n",
       "      <td>13.7</td>\n",
       "      <td>3</td>\n",
       "      <td>3.70</td>\n",
       "      <td>1</td>\n",
       "      <td>False.</td>\n",
       "    </tr>\n",
       "    <tr>\n",
       "      <th>2</th>\n",
       "      <td>NJ</td>\n",
       "      <td>137</td>\n",
       "      <td>415</td>\n",
       "      <td>358-1921</td>\n",
       "      <td>no</td>\n",
       "      <td>no</td>\n",
       "      <td>0</td>\n",
       "      <td>243.4</td>\n",
       "      <td>114</td>\n",
       "      <td>41.38</td>\n",
       "      <td>...</td>\n",
       "      <td>110</td>\n",
       "      <td>10.30</td>\n",
       "      <td>162.6</td>\n",
       "      <td>104</td>\n",
       "      <td>7.32</td>\n",
       "      <td>12.2</td>\n",
       "      <td>5</td>\n",
       "      <td>3.29</td>\n",
       "      <td>0</td>\n",
       "      <td>False.</td>\n",
       "    </tr>\n",
       "    <tr>\n",
       "      <th>3</th>\n",
       "      <td>OH</td>\n",
       "      <td>84</td>\n",
       "      <td>408</td>\n",
       "      <td>375-9999</td>\n",
       "      <td>yes</td>\n",
       "      <td>no</td>\n",
       "      <td>0</td>\n",
       "      <td>299.4</td>\n",
       "      <td>71</td>\n",
       "      <td>50.90</td>\n",
       "      <td>...</td>\n",
       "      <td>88</td>\n",
       "      <td>5.26</td>\n",
       "      <td>196.9</td>\n",
       "      <td>89</td>\n",
       "      <td>8.86</td>\n",
       "      <td>6.6</td>\n",
       "      <td>7</td>\n",
       "      <td>1.78</td>\n",
       "      <td>2</td>\n",
       "      <td>False.</td>\n",
       "    </tr>\n",
       "    <tr>\n",
       "      <th>4</th>\n",
       "      <td>OK</td>\n",
       "      <td>75</td>\n",
       "      <td>415</td>\n",
       "      <td>330-6626</td>\n",
       "      <td>yes</td>\n",
       "      <td>no</td>\n",
       "      <td>0</td>\n",
       "      <td>166.7</td>\n",
       "      <td>113</td>\n",
       "      <td>28.34</td>\n",
       "      <td>...</td>\n",
       "      <td>122</td>\n",
       "      <td>12.61</td>\n",
       "      <td>186.9</td>\n",
       "      <td>121</td>\n",
       "      <td>8.41</td>\n",
       "      <td>10.1</td>\n",
       "      <td>3</td>\n",
       "      <td>2.73</td>\n",
       "      <td>3</td>\n",
       "      <td>False.</td>\n",
       "    </tr>\n",
       "    <tr>\n",
       "      <th>...</th>\n",
       "      <td>...</td>\n",
       "      <td>...</td>\n",
       "      <td>...</td>\n",
       "      <td>...</td>\n",
       "      <td>...</td>\n",
       "      <td>...</td>\n",
       "      <td>...</td>\n",
       "      <td>...</td>\n",
       "      <td>...</td>\n",
       "      <td>...</td>\n",
       "      <td>...</td>\n",
       "      <td>...</td>\n",
       "      <td>...</td>\n",
       "      <td>...</td>\n",
       "      <td>...</td>\n",
       "      <td>...</td>\n",
       "      <td>...</td>\n",
       "      <td>...</td>\n",
       "      <td>...</td>\n",
       "      <td>...</td>\n",
       "      <td>...</td>\n",
       "    </tr>\n",
       "    <tr>\n",
       "      <th>3328</th>\n",
       "      <td>AZ</td>\n",
       "      <td>192</td>\n",
       "      <td>415</td>\n",
       "      <td>414-4276</td>\n",
       "      <td>no</td>\n",
       "      <td>yes</td>\n",
       "      <td>36</td>\n",
       "      <td>156.2</td>\n",
       "      <td>77</td>\n",
       "      <td>26.55</td>\n",
       "      <td>...</td>\n",
       "      <td>126</td>\n",
       "      <td>18.32</td>\n",
       "      <td>279.1</td>\n",
       "      <td>83</td>\n",
       "      <td>12.56</td>\n",
       "      <td>9.9</td>\n",
       "      <td>6</td>\n",
       "      <td>2.67</td>\n",
       "      <td>2</td>\n",
       "      <td>False.</td>\n",
       "    </tr>\n",
       "    <tr>\n",
       "      <th>3329</th>\n",
       "      <td>WV</td>\n",
       "      <td>68</td>\n",
       "      <td>415</td>\n",
       "      <td>370-3271</td>\n",
       "      <td>no</td>\n",
       "      <td>no</td>\n",
       "      <td>0</td>\n",
       "      <td>231.1</td>\n",
       "      <td>57</td>\n",
       "      <td>39.29</td>\n",
       "      <td>...</td>\n",
       "      <td>55</td>\n",
       "      <td>13.04</td>\n",
       "      <td>191.3</td>\n",
       "      <td>123</td>\n",
       "      <td>8.61</td>\n",
       "      <td>9.6</td>\n",
       "      <td>4</td>\n",
       "      <td>2.59</td>\n",
       "      <td>3</td>\n",
       "      <td>False.</td>\n",
       "    </tr>\n",
       "    <tr>\n",
       "      <th>3330</th>\n",
       "      <td>RI</td>\n",
       "      <td>28</td>\n",
       "      <td>510</td>\n",
       "      <td>328-8230</td>\n",
       "      <td>no</td>\n",
       "      <td>no</td>\n",
       "      <td>0</td>\n",
       "      <td>180.8</td>\n",
       "      <td>109</td>\n",
       "      <td>30.74</td>\n",
       "      <td>...</td>\n",
       "      <td>58</td>\n",
       "      <td>24.55</td>\n",
       "      <td>191.9</td>\n",
       "      <td>91</td>\n",
       "      <td>8.64</td>\n",
       "      <td>14.1</td>\n",
       "      <td>6</td>\n",
       "      <td>3.81</td>\n",
       "      <td>2</td>\n",
       "      <td>False.</td>\n",
       "    </tr>\n",
       "    <tr>\n",
       "      <th>3331</th>\n",
       "      <td>CT</td>\n",
       "      <td>184</td>\n",
       "      <td>510</td>\n",
       "      <td>364-6381</td>\n",
       "      <td>yes</td>\n",
       "      <td>no</td>\n",
       "      <td>0</td>\n",
       "      <td>213.8</td>\n",
       "      <td>105</td>\n",
       "      <td>36.35</td>\n",
       "      <td>...</td>\n",
       "      <td>84</td>\n",
       "      <td>13.57</td>\n",
       "      <td>139.2</td>\n",
       "      <td>137</td>\n",
       "      <td>6.26</td>\n",
       "      <td>5.0</td>\n",
       "      <td>10</td>\n",
       "      <td>1.35</td>\n",
       "      <td>2</td>\n",
       "      <td>False.</td>\n",
       "    </tr>\n",
       "    <tr>\n",
       "      <th>3332</th>\n",
       "      <td>TN</td>\n",
       "      <td>74</td>\n",
       "      <td>415</td>\n",
       "      <td>400-4344</td>\n",
       "      <td>no</td>\n",
       "      <td>yes</td>\n",
       "      <td>25</td>\n",
       "      <td>234.4</td>\n",
       "      <td>113</td>\n",
       "      <td>39.85</td>\n",
       "      <td>...</td>\n",
       "      <td>82</td>\n",
       "      <td>22.60</td>\n",
       "      <td>241.4</td>\n",
       "      <td>77</td>\n",
       "      <td>10.86</td>\n",
       "      <td>13.7</td>\n",
       "      <td>4</td>\n",
       "      <td>3.70</td>\n",
       "      <td>0</td>\n",
       "      <td>False.</td>\n",
       "    </tr>\n",
       "  </tbody>\n",
       "</table>\n",
       "<p>3333 rows × 21 columns</p>\n",
       "</div>"
      ],
      "text/plain": [
       "     State  Account Length  Area Code     Phone Int'l Plan VMail Plan  \\\n",
       "0       KS             128        415  382-4657         no        yes   \n",
       "1       OH             107        415  371-7191         no        yes   \n",
       "2       NJ             137        415  358-1921         no         no   \n",
       "3       OH              84        408  375-9999        yes         no   \n",
       "4       OK              75        415  330-6626        yes         no   \n",
       "...    ...             ...        ...       ...        ...        ...   \n",
       "3328    AZ             192        415  414-4276         no        yes   \n",
       "3329    WV              68        415  370-3271         no         no   \n",
       "3330    RI              28        510  328-8230         no         no   \n",
       "3331    CT             184        510  364-6381        yes         no   \n",
       "3332    TN              74        415  400-4344         no        yes   \n",
       "\n",
       "      VMail Message  Day Mins  Day Calls  Day Charge  ...  Eve Calls  \\\n",
       "0                25     265.1        110       45.07  ...         99   \n",
       "1                26     161.6        123       27.47  ...        103   \n",
       "2                 0     243.4        114       41.38  ...        110   \n",
       "3                 0     299.4         71       50.90  ...         88   \n",
       "4                 0     166.7        113       28.34  ...        122   \n",
       "...             ...       ...        ...         ...  ...        ...   \n",
       "3328             36     156.2         77       26.55  ...        126   \n",
       "3329              0     231.1         57       39.29  ...         55   \n",
       "3330              0     180.8        109       30.74  ...         58   \n",
       "3331              0     213.8        105       36.35  ...         84   \n",
       "3332             25     234.4        113       39.85  ...         82   \n",
       "\n",
       "      Eve Charge  Night Mins  Night Calls  Night Charge  Intl Mins  \\\n",
       "0          16.78       244.7           91         11.01       10.0   \n",
       "1          16.62       254.4          103         11.45       13.7   \n",
       "2          10.30       162.6          104          7.32       12.2   \n",
       "3           5.26       196.9           89          8.86        6.6   \n",
       "4          12.61       186.9          121          8.41       10.1   \n",
       "...          ...         ...          ...           ...        ...   \n",
       "3328       18.32       279.1           83         12.56        9.9   \n",
       "3329       13.04       191.3          123          8.61        9.6   \n",
       "3330       24.55       191.9           91          8.64       14.1   \n",
       "3331       13.57       139.2          137          6.26        5.0   \n",
       "3332       22.60       241.4           77         10.86       13.7   \n",
       "\n",
       "      Intl Calls  Intl Charge  CustServ Calls  Churn?  \n",
       "0              3         2.70               1  False.  \n",
       "1              3         3.70               1  False.  \n",
       "2              5         3.29               0  False.  \n",
       "3              7         1.78               2  False.  \n",
       "4              3         2.73               3  False.  \n",
       "...          ...          ...             ...     ...  \n",
       "3328           6         2.67               2  False.  \n",
       "3329           4         2.59               3  False.  \n",
       "3330           6         3.81               2  False.  \n",
       "3331          10         1.35               2  False.  \n",
       "3332           4         3.70               0  False.  \n",
       "\n",
       "[3333 rows x 21 columns]"
      ]
     },
     "execution_count": 3,
     "metadata": {},
     "output_type": "execute_result"
    }
   ],
   "source": [
    "df_churn"
   ]
  },
  {
   "cell_type": "code",
   "execution_count": 4,
   "metadata": {},
   "outputs": [],
   "source": [
    "def preproc(df_init):\n",
    "    df_preproc = df_init.copy()\n",
    "    \n",
    "    # Удалили признаки\n",
    "    df_preproc = df_preproc.drop(['State', 'Area Code', 'Phone'], axis=1)\n",
    "    \n",
    "    # Замена категориальных признаков\n",
    "    df_preproc.loc[:,  [\"Int'l Plan\", 'VMail Plan']] = \\\n",
    "    df_preproc.loc[:,  [\"Int'l Plan\", 'VMail Plan']].replace({'no': 0, 'yes': 1})\n",
    "    \n",
    "    df_preproc.loc[:,  'Churn?'] = df_preproc.loc[:,  'Churn?'].replace({'False.': 0,\n",
    "                                                                         'True.': 1})\n",
    "    return df_preproc"
   ]
  },
  {
   "cell_type": "code",
   "execution_count": 5,
   "metadata": {},
   "outputs": [],
   "source": [
    "df_preproc = df_churn.pipe(preproc)"
   ]
  },
  {
   "cell_type": "code",
   "execution_count": 6,
   "metadata": {},
   "outputs": [],
   "source": [
    "X, y = df_preproc.iloc[:, :-1].values, df_preproc.iloc[:, -1].values"
   ]
  },
  {
   "cell_type": "markdown",
   "metadata": {},
   "source": [
    "## Кросс-валидация по одному гиперпараметру"
   ]
  },
  {
   "cell_type": "markdown",
   "metadata": {},
   "source": [
    "Посмотрим, что делает функция `validation_curve`."
   ]
  },
  {
   "cell_type": "code",
   "execution_count": 8,
   "metadata": {},
   "outputs": [],
   "source": [
    "from sklearn.model_selection import validation_curve\n",
    "from sklearn.model_selection import StratifiedKFold\n",
    "from sklearn.tree import DecisionTreeClassifier"
   ]
  },
  {
   "cell_type": "markdown",
   "metadata": {},
   "source": [
    "`validation_curve` позволяе исследовать влияние отдельного гиперпараметра модели на ее качество.\n",
    "\n",
    "Построим валидационные кривые по гиперпараметру глубина дерева (`max_depth`) остальных гиперпараметрах, зафиксированных на значениях по-умолчанию"
   ]
  },
  {
   "cell_type": "code",
   "execution_count": 9,
   "metadata": {},
   "outputs": [
    {
     "name": "stderr",
     "output_type": "stream",
     "text": [
      "/home/scrinium/miniconda3/envs/sphere-py37/lib/python3.7/site-packages/sklearn/utils/validation.py:70: FutureWarning: Pass param_name=max_depth, param_range=range(1, 10) as keyword args. From version 0.25 passing these as positional arguments will result in an error\n",
      "  FutureWarning)\n"
     ]
    }
   ],
   "source": [
    "model = DecisionTreeClassifier(random_state=123)\n",
    "\n",
    "cv = StratifiedKFold(n_splits=5, shuffle=True, random_state=132)\n",
    "\n",
    "depths = range(1, 10)\n",
    "tree_train_scores, tree_valid_scores = validation_curve(model, X, y, \n",
    "                                              'max_depth', depths,\n",
    "                                              cv=cv, scoring='roc_auc')\n",
    "# это значит, что мы будем проверять влияние параметра max_depth\n",
    "# в дапозоне от 1 до 10\n",
    "# и для этого мы будем использовать 5-fold кросс-валидацию\n",
    "# с мерой качества mean_absolute_error.\n",
    "# neg_ потому что по умолчанию в sklearn чем значение меры выше - тем лучше, \n",
    "# но в нашем случае нам нужно как раз допускать меньшую ошибку"
   ]
  },
  {
   "cell_type": "code",
   "execution_count": 10,
   "metadata": {},
   "outputs": [
    {
     "data": {
      "text/plain": [
       "(9, 5)"
      ]
     },
     "execution_count": 10,
     "metadata": {},
     "output_type": "execute_result"
    }
   ],
   "source": [
    "tree_train_scores.shape"
   ]
  },
  {
   "cell_type": "code",
   "execution_count": 11,
   "metadata": {},
   "outputs": [
    {
     "data": {
      "text/plain": [
       "(9, 5)"
      ]
     },
     "execution_count": 11,
     "metadata": {},
     "output_type": "execute_result"
    }
   ],
   "source": [
    "tree_valid_scores.shape"
   ]
  },
  {
   "cell_type": "markdown",
   "metadata": {},
   "source": [
    "Посмотрите, что изображает синяя и красная линия"
   ]
  },
  {
   "cell_type": "code",
   "execution_count": 12,
   "metadata": {},
   "outputs": [
    {
     "data": {
      "text/plain": [
       "Text(0, 0.5, 'ROC AUC')"
      ]
     },
     "execution_count": 12,
     "metadata": {},
     "output_type": "execute_result"
    },
    {
     "name": "stderr",
     "output_type": "stream",
     "text": [
      "findfont: Font family ['Verdana'] not found. Falling back to DejaVu Sans.\n",
      "findfont: Font family ['Verdana'] not found. Falling back to DejaVu Sans.\n"
     ]
    },
    {
     "data": {
      "image/png": "[encoded data removed]",
      "text/plain": [
       "<Figure size 864x576 with 1 Axes>"
      ]
     },
     "metadata": {},
     "output_type": "display_data"
    }
   ],
   "source": [
    "train_score_mean = tree_train_scores.mean(axis=1)\n",
    "train_score_std = tree_train_scores.std(axis=1)\n",
    "valid_scores_mean = tree_valid_scores.mean(axis=1)\n",
    "valid_scores_std = tree_valid_scores.std(axis=1)\n",
    "\n",
    "plt.fill_between(depths, train_score_mean-train_score_std, train_score_mean+train_score_std, color='b',\n",
    "                 interpolate=True, alpha=0.5,)\n",
    "plt.fill_between(depths, valid_scores_mean-valid_scores_std, valid_scores_mean+valid_scores_std, color='r', \n",
    "                 interpolate=True, alpha=0.5)\n",
    "\n",
    "plt.plot(depths, train_score_mean, c='b', lw=2)\n",
    "plt.plot(depths, valid_scores_mean, c='r', lw=2)\n",
    "\n",
    "plt.xlabel('max depth')\n",
    "plt.ylabel('ROC AUC')"
   ]
  },
  {
   "cell_type": "markdown",
   "metadata": {},
   "source": [
    "### Важность признаков"
   ]
  },
  {
   "cell_type": "markdown",
   "metadata": {},
   "source": [
    "Возьмем лучшую модель и выведем важность признаков"
   ]
  },
  {
   "cell_type": "code",
   "execution_count": 13,
   "metadata": {},
   "outputs": [],
   "source": [
    "model = DecisionTreeClassifier(random_state=123, max_depth=3)\n",
    "model.fit(X, y)\n",
    "imp = model.feature_importances_"
   ]
  },
  {
   "cell_type": "markdown",
   "metadata": {},
   "source": [
    "Каждое число соответствует важности признака, который подавался на вход\n",
    "\n",
    "Для каждого признака (с названием) получите его значение важности"
   ]
  },
  {
   "cell_type": "code",
   "execution_count": 24,
   "metadata": {},
   "outputs": [],
   "source": [
    "dict_imp = dict(zip(df_preproc.columns[:-1], imp))"
   ]
  },
  {
   "cell_type": "code",
   "execution_count": 25,
   "metadata": {},
   "outputs": [
    {
     "data": {
      "text/plain": [
       "{'Account Length': 0.0,\n",
       " \"Int'l Plan\": 0.17163885262139103,\n",
       " 'VMail Plan': 0.10108753622956336,\n",
       " 'VMail Message': 0.0,\n",
       " 'Day Mins': 0.41941215223820233,\n",
       " 'Day Calls': 0.0,\n",
       " 'Day Charge': 0.0,\n",
       " 'Eve Mins': 0.0571004651821454,\n",
       " 'Eve Calls': 0.0,\n",
       " 'Eve Charge': 0.0,\n",
       " 'Night Mins': 0.0,\n",
       " 'Night Calls': 0.0,\n",
       " 'Night Charge': 0.0,\n",
       " 'Intl Mins': 0.0,\n",
       " 'Intl Calls': 0.0,\n",
       " 'Intl Charge': 0.0,\n",
       " 'CustServ Calls': 0.25076099372869787}"
      ]
     },
     "execution_count": 25,
     "metadata": {},
     "output_type": "execute_result"
    }
   ],
   "source": [
    "dict_imp"
   ]
  },
  {
   "cell_type": "markdown",
   "metadata": {},
   "source": [
    "## Бэггинг над деревьями"
   ]
  },
  {
   "cell_type": "code",
   "execution_count": 26,
   "metadata": {},
   "outputs": [],
   "source": [
    "from sklearn.ensemble import BaggingClassifier"
   ]
  },
  {
   "cell_type": "code",
   "execution_count": 27,
   "metadata": {},
   "outputs": [],
   "source": [
    "model = BaggingClassifier(DecisionTreeClassifier(), \n",
    "                          n_estimators=50, random_state=123)"
   ]
  },
  {
   "cell_type": "code",
   "execution_count": 28,
   "metadata": {},
   "outputs": [],
   "source": [
    "_, bag_valid_scores = validation_curve(model, X, y, \n",
    "                                      param_name='base_estimator__max_depth', \n",
    "                                      param_range=depths, \n",
    "                 scoring='roc_auc', cv=cv, n_jobs=-1)"
   ]
  },
  {
   "cell_type": "code",
   "execution_count": 30,
   "metadata": {},
   "outputs": [
    {
     "data": {
      "text/plain": [
       "<matplotlib.legend.Legend at 0x7f4c76a07350>"
      ]
     },
     "execution_count": 30,
     "metadata": {},
     "output_type": "execute_result"
    },
    {
     "data": {
      "image/png": "[encoded data removed]",
      "text/plain": [
       "<Figure size 864x576 with 1 Axes>"
      ]
     },
     "metadata": {},
     "output_type": "display_data"
    }
   ],
   "source": [
    "plt.plot(depths, bag_valid_scores.mean(axis=1), label='bag')\n",
    "plt.plot(depths, tree_valid_scores.mean(axis=1), label='tree')\n",
    "plt.legend()"
   ]
  },
  {
   "cell_type": "markdown",
   "metadata": {},
   "source": [
    "## Случайных лес"
   ]
  },
  {
   "cell_type": "code",
   "execution_count": 31,
   "metadata": {},
   "outputs": [],
   "source": [
    "from sklearn.ensemble import RandomForestClassifier"
   ]
  },
  {
   "cell_type": "code",
   "execution_count": 32,
   "metadata": {},
   "outputs": [],
   "source": [
    "model = RandomForestClassifier(random_state=123, n_estimators=50, \n",
    "                               n_jobs=-1)"
   ]
  },
  {
   "cell_type": "code",
   "execution_count": 33,
   "metadata": {},
   "outputs": [],
   "source": [
    "_, forest_valid_scores = validation_curve(model, X, y, \n",
    "                                         param_name='max_depth', \n",
    "                                         param_range=depths, \n",
    "                 scoring='roc_auc', cv=cv, n_jobs=1)"
   ]
  },
  {
   "cell_type": "code",
   "execution_count": 34,
   "metadata": {},
   "outputs": [
    {
     "data": {
      "text/plain": [
       "<matplotlib.legend.Legend at 0x7f4c8bd855d0>"
      ]
     },
     "execution_count": 34,
     "metadata": {},
     "output_type": "execute_result"
    },
    {
     "data": {
      "image/png": "[encoded data removed]",
      "text/plain": [
       "<Figure size 864x576 with 1 Axes>"
      ]
     },
     "metadata": {},
     "output_type": "display_data"
    }
   ],
   "source": [
    "plt.plot(depths, bag_valid_scores.mean(axis=1), label='bag')\n",
    "plt.plot(depths, tree_valid_scores.mean(axis=1), label='tree')\n",
    "plt.plot(depths, forest_valid_scores.mean(axis=1), label='forest')\n",
    "plt.legend()"
   ]
  },
  {
   "cell_type": "markdown",
   "metadata": {},
   "source": [
    "## Подбор всех гиперпараметров\n",
    "\n",
    "Обычно подбирают гиперпараметры целыми группами. Есть несколько способов это делать\n",
    "* Полный перебор (Grid Search) - явно задаются все возможные значения параметров. Далее перебираются все возможные комбинации этих параметров\n",
    "* Случайный перебор (Random Search) - для некоотрых параметров задается распределение через функцию распределения. Задается количество случайных комбинаций, которых требуется перебрать.\n",
    "* \"Умный\" перебор ([hyperopt](http://hyperopt.github.io/hyperopt/)) - после каждого шага, следующия комбинация выбирается специальным образом, чтобы с одной стороны проверить неисследованные области, а с другой минимизировать функцию потерь. Не всегда работат так хорошо, как звучит.\n",
    "\n",
    "Мы же попробует случайный поиск. Почему случайный поиск лучше перебора:"
   ]
  },
  {
   "cell_type": "markdown",
   "metadata": {},
   "source": [
    "<center><img src='https://cdn-images-1.medium.com/max/800/1*ZTlQm_WRcrNqL-nLnx6GJA.png'></center>"
   ]
  },
  {
   "cell_type": "code",
   "execution_count": 35,
   "metadata": {},
   "outputs": [],
   "source": [
    "from scipy.stats import randint as randint\n",
    "from scipy.stats import uniform\n",
    "\n",
    "try:\n",
    "    from sklearn.model_selection import GridSearchCV\n",
    "    from sklearn.model_selection import RandomizedSearchCV\n",
    "    from sklearn.model_selection import StratifiedKFold\n",
    "except ImportError:\n",
    "    from sklearn.cross_validation import GridSearchCV\n",
    "    from sklearn.cross_validation import RandomizedSearchCV\n",
    "    from sklearn.cross_validation import StratifiedKFold\n",
    "\n",
    "\n",
    "RND_SEED = 123"
   ]
  },
  {
   "cell_type": "code",
   "execution_count": 37,
   "metadata": {},
   "outputs": [
    {
     "data": {
      "text/plain": [
       "RandomizedSearchCV(cv=StratifiedKFold(n_splits=5, random_state=123, shuffle=True),\n",
       "                   estimator=DecisionTreeClassifier(random_state=123),\n",
       "                   n_iter=200, n_jobs=-1,\n",
       "                   param_distributions={'class_weight': [None, 'balanced'],\n",
       "                                        'criterion': ['gini', 'entropy'],\n",
       "                                        'max_depth': <scipy.stats._distn_infrastructure.rv_frozen object at 0x7f4c76ca0190>,\n",
       "                                        'min_samples_leaf': <scipy.stats._distn_infrastructure.rv_frozen object at 0x7f4c8ad5e190>},\n",
       "                   random_state=123, scoring='roc_auc')"
      ]
     },
     "execution_count": 37,
     "metadata": {},
     "output_type": "execute_result"
    }
   ],
   "source": [
    "# Определим пространство поиска\n",
    "\n",
    "param_grid = {\n",
    "    'criterion': ['gini', 'entropy'],\n",
    "    'max_depth': randint(2, 8),\n",
    "    'min_samples_leaf': randint(5, 10),\n",
    "    'class_weight': [None, 'balanced']}\n",
    "\n",
    "# Некоторые параметры мы задали не простым перечислением значений, а \n",
    "# с помощью распределений.\n",
    "\n",
    "# Будем делать 200 запусков поиска\n",
    "cv = StratifiedKFold(n_splits=5, random_state=123, shuffle=True)\n",
    "\n",
    "model = DecisionTreeClassifier(random_state=123)\n",
    "random_search = RandomizedSearchCV(model, param_distributions=param_grid, n_iter=200, n_jobs=-1,\n",
    "                                   cv=cv, scoring='roc_auc', random_state=123)\n",
    "# А дальше, просто .fit()\n",
    "random_search.fit(X, y)"
   ]
  },
  {
   "cell_type": "code",
   "execution_count": 38,
   "metadata": {},
   "outputs": [
    {
     "data": {
      "text/plain": [
       "{'class_weight': None,\n",
       " 'criterion': 'entropy',\n",
       " 'max_depth': 5,\n",
       " 'min_samples_leaf': 7}"
      ]
     },
     "execution_count": 38,
     "metadata": {},
     "output_type": "execute_result"
    }
   ],
   "source": [
    "random_search.best_params_"
   ]
  },
  {
   "cell_type": "code",
   "execution_count": 39,
   "metadata": {},
   "outputs": [
    {
     "data": {
      "text/plain": [
       "0.8935353175679749"
      ]
     },
     "execution_count": 39,
     "metadata": {},
     "output_type": "execute_result"
    }
   ],
   "source": [
    "random_search.best_score_"
   ]
  },
  {
   "cell_type": "code",
   "execution_count": 40,
   "metadata": {},
   "outputs": [],
   "source": [
    "best_model = random_search.best_estimator_"
   ]
  },
  {
   "cell_type": "markdown",
   "metadata": {},
   "source": [
    "# Практика 2"
   ]
  },
  {
   "cell_type": "markdown",
   "metadata": {},
   "source": [
    "### Предобработка данных"
   ]
  },
  {
   "cell_type": "code",
   "execution_count": 192,
   "metadata": {},
   "outputs": [],
   "source": [
    "df = pd.read_csv('./data/speed-dating-experiment/Speed Dating Data.csv', encoding='latin1')"
   ]
  },
  {
   "cell_type": "code",
   "execution_count": 193,
   "metadata": {},
   "outputs": [
    {
     "data": {
      "text/plain": [
       "(8378, 195)"
      ]
     },
     "execution_count": 193,
     "metadata": {},
     "output_type": "execute_result"
    }
   ],
   "source": [
    "df.shape"
   ]
  },
  {
   "cell_type": "code",
   "execution_count": 194,
   "metadata": {},
   "outputs": [],
   "source": [
    "df = df.iloc[:, :97]"
   ]
  },
  {
   "cell_type": "code",
   "execution_count": 195,
   "metadata": {},
   "outputs": [
    {
     "data": {
      "text/html": [
       "<div>\n",
       "<style scoped>\n",
       "    .dataframe tbody tr th:only-of-type {\n",
       "        vertical-align: middle;\n",
       "    }\n",
       "\n",
       "    .dataframe tbody tr th {\n",
       "        vertical-align: top;\n",
       "    }\n",
       "\n",
       "    .dataframe thead th {\n",
       "        text-align: right;\n",
       "    }\n",
       "</style>\n",
       "<table border=\"1\" class=\"dataframe\">\n",
       "  <thead>\n",
       "    <tr style=\"text-align: right;\">\n",
       "      <th></th>\n",
       "      <th>iid</th>\n",
       "      <th>id</th>\n",
       "      <th>gender</th>\n",
       "      <th>idg</th>\n",
       "      <th>condtn</th>\n",
       "      <th>wave</th>\n",
       "      <th>round</th>\n",
       "      <th>position</th>\n",
       "      <th>positin1</th>\n",
       "      <th>order</th>\n",
       "      <th>...</th>\n",
       "      <th>attr3_1</th>\n",
       "      <th>sinc3_1</th>\n",
       "      <th>fun3_1</th>\n",
       "      <th>intel3_1</th>\n",
       "      <th>amb3_1</th>\n",
       "      <th>attr5_1</th>\n",
       "      <th>sinc5_1</th>\n",
       "      <th>intel5_1</th>\n",
       "      <th>fun5_1</th>\n",
       "      <th>amb5_1</th>\n",
       "    </tr>\n",
       "  </thead>\n",
       "  <tbody>\n",
       "    <tr>\n",
       "      <th>0</th>\n",
       "      <td>1</td>\n",
       "      <td>1.0</td>\n",
       "      <td>0</td>\n",
       "      <td>1</td>\n",
       "      <td>1</td>\n",
       "      <td>1</td>\n",
       "      <td>10</td>\n",
       "      <td>7</td>\n",
       "      <td>NaN</td>\n",
       "      <td>4</td>\n",
       "      <td>...</td>\n",
       "      <td>6.0</td>\n",
       "      <td>8.0</td>\n",
       "      <td>8.0</td>\n",
       "      <td>8.0</td>\n",
       "      <td>7.0</td>\n",
       "      <td>NaN</td>\n",
       "      <td>NaN</td>\n",
       "      <td>NaN</td>\n",
       "      <td>NaN</td>\n",
       "      <td>NaN</td>\n",
       "    </tr>\n",
       "    <tr>\n",
       "      <th>1</th>\n",
       "      <td>1</td>\n",
       "      <td>1.0</td>\n",
       "      <td>0</td>\n",
       "      <td>1</td>\n",
       "      <td>1</td>\n",
       "      <td>1</td>\n",
       "      <td>10</td>\n",
       "      <td>7</td>\n",
       "      <td>NaN</td>\n",
       "      <td>3</td>\n",
       "      <td>...</td>\n",
       "      <td>6.0</td>\n",
       "      <td>8.0</td>\n",
       "      <td>8.0</td>\n",
       "      <td>8.0</td>\n",
       "      <td>7.0</td>\n",
       "      <td>NaN</td>\n",
       "      <td>NaN</td>\n",
       "      <td>NaN</td>\n",
       "      <td>NaN</td>\n",
       "      <td>NaN</td>\n",
       "    </tr>\n",
       "    <tr>\n",
       "      <th>2</th>\n",
       "      <td>1</td>\n",
       "      <td>1.0</td>\n",
       "      <td>0</td>\n",
       "      <td>1</td>\n",
       "      <td>1</td>\n",
       "      <td>1</td>\n",
       "      <td>10</td>\n",
       "      <td>7</td>\n",
       "      <td>NaN</td>\n",
       "      <td>10</td>\n",
       "      <td>...</td>\n",
       "      <td>6.0</td>\n",
       "      <td>8.0</td>\n",
       "      <td>8.0</td>\n",
       "      <td>8.0</td>\n",
       "      <td>7.0</td>\n",
       "      <td>NaN</td>\n",
       "      <td>NaN</td>\n",
       "      <td>NaN</td>\n",
       "      <td>NaN</td>\n",
       "      <td>NaN</td>\n",
       "    </tr>\n",
       "    <tr>\n",
       "      <th>3</th>\n",
       "      <td>1</td>\n",
       "      <td>1.0</td>\n",
       "      <td>0</td>\n",
       "      <td>1</td>\n",
       "      <td>1</td>\n",
       "      <td>1</td>\n",
       "      <td>10</td>\n",
       "      <td>7</td>\n",
       "      <td>NaN</td>\n",
       "      <td>5</td>\n",
       "      <td>...</td>\n",
       "      <td>6.0</td>\n",
       "      <td>8.0</td>\n",
       "      <td>8.0</td>\n",
       "      <td>8.0</td>\n",
       "      <td>7.0</td>\n",
       "      <td>NaN</td>\n",
       "      <td>NaN</td>\n",
       "      <td>NaN</td>\n",
       "      <td>NaN</td>\n",
       "      <td>NaN</td>\n",
       "    </tr>\n",
       "    <tr>\n",
       "      <th>4</th>\n",
       "      <td>1</td>\n",
       "      <td>1.0</td>\n",
       "      <td>0</td>\n",
       "      <td>1</td>\n",
       "      <td>1</td>\n",
       "      <td>1</td>\n",
       "      <td>10</td>\n",
       "      <td>7</td>\n",
       "      <td>NaN</td>\n",
       "      <td>7</td>\n",
       "      <td>...</td>\n",
       "      <td>6.0</td>\n",
       "      <td>8.0</td>\n",
       "      <td>8.0</td>\n",
       "      <td>8.0</td>\n",
       "      <td>7.0</td>\n",
       "      <td>NaN</td>\n",
       "      <td>NaN</td>\n",
       "      <td>NaN</td>\n",
       "      <td>NaN</td>\n",
       "      <td>NaN</td>\n",
       "    </tr>\n",
       "    <tr>\n",
       "      <th>...</th>\n",
       "      <td>...</td>\n",
       "      <td>...</td>\n",
       "      <td>...</td>\n",
       "      <td>...</td>\n",
       "      <td>...</td>\n",
       "      <td>...</td>\n",
       "      <td>...</td>\n",
       "      <td>...</td>\n",
       "      <td>...</td>\n",
       "      <td>...</td>\n",
       "      <td>...</td>\n",
       "      <td>...</td>\n",
       "      <td>...</td>\n",
       "      <td>...</td>\n",
       "      <td>...</td>\n",
       "      <td>...</td>\n",
       "      <td>...</td>\n",
       "      <td>...</td>\n",
       "      <td>...</td>\n",
       "      <td>...</td>\n",
       "      <td>...</td>\n",
       "    </tr>\n",
       "    <tr>\n",
       "      <th>8373</th>\n",
       "      <td>552</td>\n",
       "      <td>22.0</td>\n",
       "      <td>1</td>\n",
       "      <td>44</td>\n",
       "      <td>2</td>\n",
       "      <td>21</td>\n",
       "      <td>22</td>\n",
       "      <td>14</td>\n",
       "      <td>10.0</td>\n",
       "      <td>5</td>\n",
       "      <td>...</td>\n",
       "      <td>8.0</td>\n",
       "      <td>7.0</td>\n",
       "      <td>6.0</td>\n",
       "      <td>7.0</td>\n",
       "      <td>7.0</td>\n",
       "      <td>9.0</td>\n",
       "      <td>7.0</td>\n",
       "      <td>10.0</td>\n",
       "      <td>5.0</td>\n",
       "      <td>9.0</td>\n",
       "    </tr>\n",
       "    <tr>\n",
       "      <th>8374</th>\n",
       "      <td>552</td>\n",
       "      <td>22.0</td>\n",
       "      <td>1</td>\n",
       "      <td>44</td>\n",
       "      <td>2</td>\n",
       "      <td>21</td>\n",
       "      <td>22</td>\n",
       "      <td>13</td>\n",
       "      <td>10.0</td>\n",
       "      <td>4</td>\n",
       "      <td>...</td>\n",
       "      <td>8.0</td>\n",
       "      <td>7.0</td>\n",
       "      <td>6.0</td>\n",
       "      <td>7.0</td>\n",
       "      <td>7.0</td>\n",
       "      <td>9.0</td>\n",
       "      <td>7.0</td>\n",
       "      <td>10.0</td>\n",
       "      <td>5.0</td>\n",
       "      <td>9.0</td>\n",
       "    </tr>\n",
       "    <tr>\n",
       "      <th>8375</th>\n",
       "      <td>552</td>\n",
       "      <td>22.0</td>\n",
       "      <td>1</td>\n",
       "      <td>44</td>\n",
       "      <td>2</td>\n",
       "      <td>21</td>\n",
       "      <td>22</td>\n",
       "      <td>19</td>\n",
       "      <td>10.0</td>\n",
       "      <td>10</td>\n",
       "      <td>...</td>\n",
       "      <td>8.0</td>\n",
       "      <td>7.0</td>\n",
       "      <td>6.0</td>\n",
       "      <td>7.0</td>\n",
       "      <td>7.0</td>\n",
       "      <td>9.0</td>\n",
       "      <td>7.0</td>\n",
       "      <td>10.0</td>\n",
       "      <td>5.0</td>\n",
       "      <td>9.0</td>\n",
       "    </tr>\n",
       "    <tr>\n",
       "      <th>8376</th>\n",
       "      <td>552</td>\n",
       "      <td>22.0</td>\n",
       "      <td>1</td>\n",
       "      <td>44</td>\n",
       "      <td>2</td>\n",
       "      <td>21</td>\n",
       "      <td>22</td>\n",
       "      <td>3</td>\n",
       "      <td>10.0</td>\n",
       "      <td>16</td>\n",
       "      <td>...</td>\n",
       "      <td>8.0</td>\n",
       "      <td>7.0</td>\n",
       "      <td>6.0</td>\n",
       "      <td>7.0</td>\n",
       "      <td>7.0</td>\n",
       "      <td>9.0</td>\n",
       "      <td>7.0</td>\n",
       "      <td>10.0</td>\n",
       "      <td>5.0</td>\n",
       "      <td>9.0</td>\n",
       "    </tr>\n",
       "    <tr>\n",
       "      <th>8377</th>\n",
       "      <td>552</td>\n",
       "      <td>NaN</td>\n",
       "      <td>1</td>\n",
       "      <td>44</td>\n",
       "      <td>2</td>\n",
       "      <td>21</td>\n",
       "      <td>22</td>\n",
       "      <td>2</td>\n",
       "      <td>10.0</td>\n",
       "      <td>15</td>\n",
       "      <td>...</td>\n",
       "      <td>8.0</td>\n",
       "      <td>7.0</td>\n",
       "      <td>6.0</td>\n",
       "      <td>7.0</td>\n",
       "      <td>7.0</td>\n",
       "      <td>9.0</td>\n",
       "      <td>7.0</td>\n",
       "      <td>10.0</td>\n",
       "      <td>5.0</td>\n",
       "      <td>9.0</td>\n",
       "    </tr>\n",
       "  </tbody>\n",
       "</table>\n",
       "<p>8378 rows × 97 columns</p>\n",
       "</div>"
      ],
      "text/plain": [
       "      iid    id  gender  idg  condtn  wave  round  position  positin1  order  \\\n",
       "0       1   1.0       0    1       1     1     10         7       NaN      4   \n",
       "1       1   1.0       0    1       1     1     10         7       NaN      3   \n",
       "2       1   1.0       0    1       1     1     10         7       NaN     10   \n",
       "3       1   1.0       0    1       1     1     10         7       NaN      5   \n",
       "4       1   1.0       0    1       1     1     10         7       NaN      7   \n",
       "...   ...   ...     ...  ...     ...   ...    ...       ...       ...    ...   \n",
       "8373  552  22.0       1   44       2    21     22        14      10.0      5   \n",
       "8374  552  22.0       1   44       2    21     22        13      10.0      4   \n",
       "8375  552  22.0       1   44       2    21     22        19      10.0     10   \n",
       "8376  552  22.0       1   44       2    21     22         3      10.0     16   \n",
       "8377  552   NaN       1   44       2    21     22         2      10.0     15   \n",
       "\n",
       "      ...  attr3_1  sinc3_1  fun3_1  intel3_1  amb3_1  attr5_1  sinc5_1  \\\n",
       "0     ...      6.0      8.0     8.0       8.0     7.0      NaN      NaN   \n",
       "1     ...      6.0      8.0     8.0       8.0     7.0      NaN      NaN   \n",
       "2     ...      6.0      8.0     8.0       8.0     7.0      NaN      NaN   \n",
       "3     ...      6.0      8.0     8.0       8.0     7.0      NaN      NaN   \n",
       "4     ...      6.0      8.0     8.0       8.0     7.0      NaN      NaN   \n",
       "...   ...      ...      ...     ...       ...     ...      ...      ...   \n",
       "8373  ...      8.0      7.0     6.0       7.0     7.0      9.0      7.0   \n",
       "8374  ...      8.0      7.0     6.0       7.0     7.0      9.0      7.0   \n",
       "8375  ...      8.0      7.0     6.0       7.0     7.0      9.0      7.0   \n",
       "8376  ...      8.0      7.0     6.0       7.0     7.0      9.0      7.0   \n",
       "8377  ...      8.0      7.0     6.0       7.0     7.0      9.0      7.0   \n",
       "\n",
       "      intel5_1  fun5_1  amb5_1  \n",
       "0          NaN     NaN     NaN  \n",
       "1          NaN     NaN     NaN  \n",
       "2          NaN     NaN     NaN  \n",
       "3          NaN     NaN     NaN  \n",
       "4          NaN     NaN     NaN  \n",
       "...        ...     ...     ...  \n",
       "8373      10.0     5.0     9.0  \n",
       "8374      10.0     5.0     9.0  \n",
       "8375      10.0     5.0     9.0  \n",
       "8376      10.0     5.0     9.0  \n",
       "8377      10.0     5.0     9.0  \n",
       "\n",
       "[8378 rows x 97 columns]"
      ]
     },
     "execution_count": 195,
     "metadata": {},
     "output_type": "execute_result"
    }
   ],
   "source": [
    "df"
   ]
  },
  {
   "cell_type": "markdown",
   "metadata": {},
   "source": [
    "Рассмотрим нужные признаки по очереди"
   ]
  },
  {
   "cell_type": "markdown",
   "metadata": {},
   "source": [
    "#### iid\n",
    "unique subject number, group(wave id gender)\n",
    "\n",
    "Кажется это идентификатор"
   ]
  },
  {
   "cell_type": "code",
   "execution_count": 196,
   "metadata": {},
   "outputs": [
    {
     "data": {
      "text/plain": [
       "551"
      ]
     },
     "execution_count": 196,
     "metadata": {},
     "output_type": "execute_result"
    }
   ],
   "source": [
    "df.iid.nunique()"
   ]
  },
  {
   "cell_type": "markdown",
   "metadata": {},
   "source": [
    "#### id \n",
    "\n",
    "Subject number within wave\n",
    "\n",
    "Кажется это нам не нужно"
   ]
  },
  {
   "cell_type": "code",
   "execution_count": 197,
   "metadata": {},
   "outputs": [],
   "source": [
    "df = df.drop(['id'], axis=1)\n",
    "df = df.drop(['idg'], axis=1)"
   ]
  },
  {
   "cell_type": "markdown",
   "metadata": {},
   "source": [
    "#### gender\n",
    "\n",
    "* Female=0\n",
    "* Male=1"
   ]
  },
  {
   "cell_type": "code",
   "execution_count": 198,
   "metadata": {},
   "outputs": [
    {
     "data": {
      "text/plain": [
       "1    277\n",
       "0    274\n",
       "Name: gender, dtype: int64"
      ]
     },
     "execution_count": 198,
     "metadata": {},
     "output_type": "execute_result"
    }
   ],
   "source": [
    "df.drop_duplicates(subset=['iid']).gender.value_counts()"
   ]
  },
  {
   "cell_type": "markdown",
   "metadata": {},
   "source": [
    "#### condtn:\n",
    "* 1=limited choice\n",
    "* 2=extensive choice\n",
    "\n",
    "???"
   ]
  },
  {
   "cell_type": "code",
   "execution_count": 199,
   "metadata": {},
   "outputs": [
    {
     "data": {
      "text/plain": [
       "2    386\n",
       "1    165\n",
       "Name: condtn, dtype: int64"
      ]
     },
     "execution_count": 199,
     "metadata": {},
     "output_type": "execute_result"
    }
   ],
   "source": [
    "df.drop_duplicates(subset=['iid']).condtn.value_counts()"
   ]
  },
  {
   "cell_type": "code",
   "execution_count": 200,
   "metadata": {},
   "outputs": [],
   "source": [
    "df = df.drop(['condtn'], axis=1)"
   ]
  },
  {
   "cell_type": "markdown",
   "metadata": {},
   "source": [
    "#### wave\n",
    "\n",
    "Пока оставим в таблице, но в качестве признака рассматривать не будем"
   ]
  },
  {
   "cell_type": "code",
   "execution_count": 201,
   "metadata": {},
   "outputs": [
    {
     "data": {
      "text/plain": [
       "array([ 1,  2,  3,  4,  5,  6,  7,  8,  9, 10, 11, 12, 13, 14, 15, 16, 17,\n",
       "       18, 19, 20, 21])"
      ]
     },
     "execution_count": 201,
     "metadata": {},
     "output_type": "execute_result"
    }
   ],
   "source": [
    "df.wave.unique()"
   ]
  },
  {
   "cell_type": "markdown",
   "metadata": {},
   "source": [
    "#### round:\n",
    "\n",
    "number of people that met in wave\n",
    "\n",
    "Можно взять в качестве признака.."
   ]
  },
  {
   "cell_type": "code",
   "execution_count": 202,
   "metadata": {},
   "outputs": [],
   "source": [
    "df = df.drop(['round'], axis=1)"
   ]
  },
  {
   "cell_type": "markdown",
   "metadata": {},
   "source": [
    "#### position:\n",
    "station number where met partner \n",
    "\n",
    "#### positin1\n",
    "station number where started \n",
    "\n",
    "Выкидываем"
   ]
  },
  {
   "cell_type": "code",
   "execution_count": 203,
   "metadata": {},
   "outputs": [],
   "source": [
    "df = df.drop(['position', 'positin1'], axis=1)"
   ]
  },
  {
   "cell_type": "markdown",
   "metadata": {},
   "source": [
    "#### order: \t\t\n",
    "the number of date that night when met partner\n"
   ]
  },
  {
   "cell_type": "code",
   "execution_count": 204,
   "metadata": {},
   "outputs": [],
   "source": [
    "df = df.drop(['order'], axis=1)"
   ]
  },
  {
   "cell_type": "markdown",
   "metadata": {},
   "source": [
    "#### partner: \t\n",
    "partner’s id number the night of event\n",
    "\n",
    "Это можно удались\n",
    "\n",
    "#### pid: \t\t\n",
    "partner’s iid number\n",
    "А вот это важно\n"
   ]
  },
  {
   "cell_type": "code",
   "execution_count": 205,
   "metadata": {},
   "outputs": [],
   "source": [
    "df = df.drop(['partner'], axis=1)"
   ]
  },
  {
   "cell_type": "markdown",
   "metadata": {},
   "source": [
    "##### match\t\t\n",
    "* 1=yes, \n",
    "* 0=no\n",
    "\n",
    "Наш таргет"
   ]
  },
  {
   "cell_type": "markdown",
   "metadata": {},
   "source": [
    "#### int_corr:\t\n",
    "correlation between participant’s and partner’s ratings of interests in \t\t\n",
    "\n",
    "#### samerace:  \t\n",
    "participant and the partner were the same race. 1= yes, 0=no\n",
    "\n",
    "Придумали за нас признаки)"
   ]
  },
  {
   "cell_type": "markdown",
   "metadata": {},
   "source": [
    "#### age_o:\t\t\n",
    "age of partner\n",
    "#### race_o:\t\t\n",
    "race of partner\n",
    "#### pf_o_att: \t\n",
    "partner’s stated preference at Time 1 (attr1_1) for all 6 attributes\n",
    "#### dec_o: \t\t\n",
    "decision of partner the night of event\n",
    "#### attr_o: \t\t\n",
    "rating by partner the night of the event, for all 6 attributes\n",
    "\n",
    "Убираем"
   ]
  },
  {
   "cell_type": "code",
   "execution_count": 206,
   "metadata": {},
   "outputs": [],
   "source": [
    "df = df.drop(['age_o', 'race_o', 'pf_o_att', \n",
    "              'pf_o_sin', 'pf_o_int',\n",
    "              'pf_o_fun', 'pf_o_amb', 'pf_o_sha',\n",
    "              'dec_o', 'attr_o', 'sinc_o', 'intel_o', 'fun_o',\n",
    "              'amb_o', 'shar_o', 'like_o', 'prob_o','met_o'], \n",
    "             axis=1)"
   ]
  },
  {
   "cell_type": "markdown",
   "metadata": {},
   "source": [
    "#### age\n",
    "оставляем"
   ]
  },
  {
   "cell_type": "code",
   "execution_count": 207,
   "metadata": {},
   "outputs": [
    {
     "data": {
      "text/plain": [
       "<AxesSubplot:>"
      ]
     },
     "execution_count": 207,
     "metadata": {},
     "output_type": "execute_result"
    },
    {
     "data": {
      "image/png": "[encoded data removed]",
      "text/plain": [
       "<Figure size 864x576 with 1 Axes>"
      ]
     },
     "metadata": {},
     "output_type": "display_data"
    }
   ],
   "source": [
    "df.drop_duplicates(subset=['iid']).age.hist(bins=20)"
   ]
  },
  {
   "cell_type": "code",
   "execution_count": 208,
   "metadata": {},
   "outputs": [
    {
     "data": {
      "text/plain": [
       "8"
      ]
     },
     "execution_count": 208,
     "metadata": {},
     "output_type": "execute_result"
    }
   ],
   "source": [
    "df.drop_duplicates('iid').age.isnull().sum()"
   ]
  },
  {
   "cell_type": "code",
   "execution_count": 209,
   "metadata": {},
   "outputs": [],
   "source": [
    "df = df.dropna(subset=['age'])"
   ]
  },
  {
   "cell_type": "markdown",
   "metadata": {},
   "source": [
    "#### field:\t\t\n",
    "field of study  \n",
    "\n",
    "#### field_cd: \t\n",
    "field coded \n"
   ]
  },
  {
   "cell_type": "code",
   "execution_count": 210,
   "metadata": {
    "scrolled": true
   },
   "outputs": [
    {
     "name": "stdout",
     "output_type": "stream",
     "text": [
      "==========\n",
      "Field Code 1.0\n",
      "['Law' 'law' 'LAW' 'Law and Social Work'\n",
      " 'Law and English Literature (J.D./Ph.D.)' 'Intellectual Property Law'\n",
      " 'Law/Business']\n",
      "==========\n",
      "Field Code 2.0\n",
      "['Economics' 'Mathematics' 'Statistics' 'math' 'Mathematics, PhD' 'Stats'\n",
      " 'math of finance' 'Math']\n",
      "==========\n",
      "Field Code 3.0\n",
      "['Psychology' 'Speech Language Pathology' 'Speech Languahe Pathology'\n",
      " 'Educational Psychology' 'Organizational Psychology' 'psychology'\n",
      " 'Communications' 'Sociology' 'psychology and english' 'theory'\n",
      " 'Health policy' 'Clinical Psychology' 'Sociology and Education'\n",
      " 'sociology' 'Anthropology/Education' 'speech pathology'\n",
      " 'Speech Pathology' 'Anthropology' 'School Psychology' 'anthropology'\n",
      " 'Counseling Psychology' 'African-American Studies/History']\n",
      "==========\n",
      "Field Code 4.0\n",
      "['Medicine' 'Art History/medicine'\n",
      " 'Sociomedical Sciences- School of Public Health' 'Epidemiology'\n",
      " 'GS Postbacc PreMed' 'medicine']\n",
      "==========\n",
      "Field Code 5.0\n",
      "['Operations Research' 'Mechanical Engineering' 'Engineering'\n",
      " 'Electrical Engineering' 'Operations Research (SEAS)'\n",
      " 'Education Administration' 'Computer Science' 'Biomedical Engineering'\n",
      " 'electrical engineering' 'engineering' 'Medical Informatics'\n",
      " 'medical informatics' 'Electrical Engg.' 'Environmental Engineering'\n",
      " 'Instructional Tech & Media' 'MA in Quantitative Methods'\n",
      " 'Urban Planning' 'Financial Engineering' 'biomedical engineering'\n",
      " 'biomedical informatics' 'ELECTRICAL ENGINEERING'\n",
      " 'Biomedical engineering' 'Industrial Engineering'\n",
      " 'Industrial Engineering/Operations Research'\n",
      " 'Masters of Industrial Engineering' 'Biomedical Informatics']\n",
      "==========\n",
      "Field Code 6.0\n",
      "['MFA Creative Writing' 'Classics' 'Journalism' 'English'\n",
      " 'Comparative Literature' 'English and Comp Lit'\n",
      " 'Communications in Education' 'Creative Writing'\n",
      " 'Creative Writing - Nonfiction' 'Writing: Literary Nonfiction'\n",
      " 'Creative Writing (Nonfiction)' 'NonFiction Writing' 'SOA -- writing'\n",
      " 'journalism' 'Nonfiction writing']\n",
      "==========\n",
      "Field Code 7.0\n",
      "['German Literature' 'Religion' 'philosophy' 'History of Religion'\n",
      " 'Modern Chinese Literature' 'Philosophy' 'Religion, GSAS' 'History'\n",
      " 'History (GSAS - PhD)' 'American Studies' 'Philosophy (Ph.D.)'\n",
      " 'Philosophy and Physics' 'Art History' 'art history']\n",
      "==========\n",
      "Field Code 8.0\n",
      "['Finance' 'Business' 'money' 'Applied Maths/Econs' 'Economics' 'Finanace'\n",
      " 'Finance&Economics' 'Mathematical Finance' 'MBA'\n",
      " 'Business & International Affairs' 'Marketing' 'Business (MBA)'\n",
      " 'financial math' 'Business- MBA' 'Economics, English'\n",
      " 'Economics, Sociology' 'Economics and Political Science' 'business'\n",
      " 'Business, marketing' 'Business/ Finance/ Real Estate'\n",
      " 'International Affairs/Finance' 'international finance and business'\n",
      " 'International Business' 'International Finance, Economic Policy'\n",
      " 'Business/Law' 'Business and International Affairs (MBA/MIA Dual Degree)'\n",
      " 'QMSS' 'Public Administration' 'Master in Public Administration'\n",
      " 'Business School' 'MBA / Master of International Affairs (SIPA)'\n",
      " 'Finance/Economics' 'Business Administration' 'MBA Finance'\n",
      " 'BUSINESS CONSULTING' 'business school' 'Business, Media'\n",
      " 'Fundraising Management' 'Business (Finance & Marketing)' 'Consulting'\n",
      " 'MBA - Private Equity / Real Estate' 'General management/finance']\n",
      "==========\n",
      "Field Code 9.0\n",
      "['TC (Health Ed)' 'Elementary/Childhood Education (MA)'\n",
      " 'International Educational Development' 'Art Education'\n",
      " 'elementary education' 'MA Science Education' 'Social Studies Education'\n",
      " 'MA Teaching Social Studies' 'Education Policy'\n",
      " 'Education- Literacy Specialist' 'bilingual education' 'Education'\n",
      " 'math education' 'TESOL' 'Elementary Education'\n",
      " 'Cognitive Studies in Education' 'education'\n",
      " 'Curriculum and Teaching/Giftedness' 'Instructional Media and Technology'\n",
      " 'English Education' 'art education' 'Early Childhood Education'\n",
      " 'Ed.D. in higher education policy at TC' 'EDUCATION' 'music education'\n",
      " 'Music Education' 'Higher Ed. - M.A.' 'Neuroscience and Education'\n",
      " 'Elementary Education - Preservice'\n",
      " 'Education Leadership - Public School Administration'\n",
      " 'Bilingual Education' 'teaching of English']\n",
      "==========\n",
      "Field Code 10.0\n",
      "['chemistry' 'microbiology' 'Chemistry'\n",
      " 'Climate-Earth and Environ. Science' 'marine geophysics'\n",
      " 'Nutrition/Genetics' 'Neuroscience' 'physics (astrophysics)' 'Physics'\n",
      " 'Biochemistry' 'biology' 'Cell Biology' 'Microbiology' 'climate change'\n",
      " 'MA Biotechnology' 'Ecology' 'Computational Biochemsistry' 'Neurobiology'\n",
      " 'biomedicine' 'Biology' 'Conservation biology' 'biotechnology'\n",
      " 'Earth and Environmental Science' 'nutrition' 'Genetics' 'Nutritiron'\n",
      " 'Molecular Biology' 'Genetics & Development' 'genetics'\n",
      " 'medicine and biochemistry' 'Epidemiology' 'Nutrition'\n",
      " 'Applied Physiology & Nutrition' 'Biomedical Engineering' 'physics'\n",
      " 'Biotechnology' 'Neurosciences/Stem cells' 'Biology PhD'\n",
      " 'biochemistry/genetics' 'epidemiology'\n",
      " 'Biochemistry & Molecular Biophysics']\n",
      "==========\n",
      "Field Code 11.0\n",
      "['social work' 'Social Work' 'Masters of Social Work' 'Social work'\n",
      " 'International Affairs' 'Social Work/SIPA']\n",
      "==========\n",
      "Field Code 12.0\n",
      "['Undergrad - GS']\n",
      "==========\n",
      "Field Code 13.0\n",
      "['Masters in Public Administration' 'Masters of Social Work&Education'\n",
      " 'political science' 'International Relations'\n",
      " 'international affairs - economic development' 'Political Science'\n",
      " 'American Studies (Masters)' 'International Affairs'\n",
      " 'international affairs/international finance' 'International Development'\n",
      " 'International Affairs and Public Health' 'International affairs'\n",
      " 'International Affairs/Business' 'Master of International Affairs'\n",
      " 'International Politics' 'SIPA / MIA'\n",
      " 'International Security Policy - SIPA' 'Intrernational Affairs'\n",
      " 'International Affairs - Economic Policy' 'SIPA - Energy' 'Public Policy'\n",
      " 'Human Rights: Middle East' 'Human Rights' 'SIPA-International Affairs'\n",
      " 'Public Administration']\n",
      "==========\n",
      "Field Code 14.0\n",
      "['Film' 'MFA -Film' 'film']\n",
      "==========\n",
      "Field Code 15.0\n",
      "['Arts Administration' 'Museum Anthropology'\n",
      " 'Theatre Management & Producing' 'MFA Writing' 'MFA  Poetry' 'Theater'\n",
      " 'MFA Acting Program' 'Acting' 'Public Health']\n",
      "==========\n",
      "Field Code 16.0\n",
      "['Polish' 'Japanese Literature' 'french']\n",
      "==========\n",
      "Field Code 17.0\n",
      "['Architecture']\n",
      "==========\n",
      "Field Code 18.0\n",
      "['working' 'GSAS' 'Climate Dynamics']\n"
     ]
    }
   ],
   "source": [
    "for i, group in df.groupby('field_cd'):\n",
    "    print('=' * 10)\n",
    "    print('Field Code {}'.format(i))\n",
    "    print(group.field.unique())"
   ]
  },
  {
   "cell_type": "code",
   "execution_count": 211,
   "metadata": {},
   "outputs": [
    {
     "data": {
      "text/plain": [
       "19"
      ]
     },
     "execution_count": 211,
     "metadata": {},
     "output_type": "execute_result"
    }
   ],
   "source": [
    "df.field_cd.isnull().sum()"
   ]
  },
  {
   "cell_type": "code",
   "execution_count": 212,
   "metadata": {},
   "outputs": [],
   "source": [
    "df.loc[:, 'field_cd'] = df.loc[:, 'field_cd'].fillna(19)"
   ]
  },
  {
   "cell_type": "code",
   "execution_count": 213,
   "metadata": {},
   "outputs": [],
   "source": [
    "df = df.drop(['field'], axis=1)"
   ]
  },
  {
   "cell_type": "markdown",
   "metadata": {},
   "source": [
    "Надо же как-то закодировать field_cd!"
   ]
  },
  {
   "cell_type": "code",
   "execution_count": 214,
   "metadata": {},
   "outputs": [],
   "source": [
    "df = df.join(pd.get_dummies(df.field_cd, prefix=\"filed_code\"))"
   ]
  },
  {
   "cell_type": "code",
   "execution_count": 215,
   "metadata": {},
   "outputs": [],
   "source": [
    "df = df.drop(['field_cd'], axis=1)"
   ]
  },
  {
   "cell_type": "markdown",
   "metadata": {},
   "source": [
    "#### undergrd:  \t\n",
    "school attended for undergraduate degree\n",
    "\n",
    "Пока выкинем"
   ]
  },
  {
   "cell_type": "code",
   "execution_count": 216,
   "metadata": {},
   "outputs": [
    {
     "data": {
      "text/plain": [
       "UC Berkeley    107\n",
       "Harvard        104\n",
       "Columbia        95\n",
       "Yale            86\n",
       "NYU             78\n",
       "Name: undergra, dtype: int64"
      ]
     },
     "execution_count": 216,
     "metadata": {},
     "output_type": "execute_result"
    }
   ],
   "source": [
    "df.undergra.value_counts().head()"
   ]
  },
  {
   "cell_type": "code",
   "execution_count": 217,
   "metadata": {},
   "outputs": [],
   "source": [
    "df = df.drop(['undergra'], axis=1)"
   ]
  },
  {
   "cell_type": "markdown",
   "metadata": {},
   "source": [
    "#### mn_sat: \t\n",
    "Median SAT score for the undergraduate institution where attended.  \t\t\t"
   ]
  },
  {
   "cell_type": "code",
   "execution_count": 218,
   "metadata": {},
   "outputs": [
    {
     "data": {
      "text/plain": [
       "1,400.00    403\n",
       "1,430.00    262\n",
       "1,290.00    190\n",
       "1,450.00    163\n",
       "1,340.00    146\n",
       "Name: mn_sat, dtype: int64"
      ]
     },
     "execution_count": 218,
     "metadata": {},
     "output_type": "execute_result"
    }
   ],
   "source": [
    "df.mn_sat.value_counts().head()"
   ]
  },
  {
   "cell_type": "code",
   "execution_count": 219,
   "metadata": {},
   "outputs": [],
   "source": [
    "df.loc[:, 'mn_sat'] = df.loc[:, 'mn_sat'].str.replace(',', '').astype(np.float)"
   ]
  },
  {
   "cell_type": "code",
   "execution_count": 220,
   "metadata": {},
   "outputs": [
    {
     "data": {
      "text/plain": [
       "<AxesSubplot:>"
      ]
     },
     "execution_count": 220,
     "metadata": {},
     "output_type": "execute_result"
    },
    {
     "data": {
      "image/png": "[encoded data removed]",
      "text/plain": [
       "<Figure size 864x576 with 1 Axes>"
      ]
     },
     "metadata": {},
     "output_type": "display_data"
    }
   ],
   "source": [
    "df.drop_duplicates('iid').mn_sat.hist()"
   ]
  },
  {
   "cell_type": "code",
   "execution_count": 221,
   "metadata": {},
   "outputs": [
    {
     "data": {
      "text/plain": [
       "342"
      ]
     },
     "execution_count": 221,
     "metadata": {},
     "output_type": "execute_result"
    }
   ],
   "source": [
    "df.drop_duplicates('iid').mn_sat.isnull().sum()"
   ]
  },
  {
   "cell_type": "code",
   "execution_count": 222,
   "metadata": {},
   "outputs": [
    {
     "data": {
      "text/plain": [
       "543"
      ]
     },
     "execution_count": 222,
     "metadata": {},
     "output_type": "execute_result"
    }
   ],
   "source": [
    "len(df.drop_duplicates('iid'))"
   ]
  },
  {
   "cell_type": "markdown",
   "metadata": {},
   "source": [
    "Попробуем для тех кто не сдавал ставить 0"
   ]
  },
  {
   "cell_type": "code",
   "execution_count": 235,
   "metadata": {},
   "outputs": [],
   "source": [
    "df.mn_sat = df.mn_sat.fillna(0)"
   ]
  },
  {
   "cell_type": "code",
   "execution_count": 236,
   "metadata": {},
   "outputs": [
    {
     "data": {
      "text/plain": [
       "0"
      ]
     },
     "execution_count": 236,
     "metadata": {},
     "output_type": "execute_result"
    }
   ],
   "source": [
    "df.drop_duplicates('iid').mn_sat.isnull().sum()"
   ]
  },
  {
   "cell_type": "code",
   "execution_count": 237,
   "metadata": {},
   "outputs": [
    {
     "data": {
      "text/plain": [
       "<AxesSubplot:>"
      ]
     },
     "execution_count": 237,
     "metadata": {},
     "output_type": "execute_result"
    },
    {
     "data": {
      "image/png": "[encoded data removed]",
      "text/plain": [
       "<Figure size 864x576 with 1 Axes>"
      ]
     },
     "metadata": {},
     "output_type": "display_data"
    }
   ],
   "source": [
    "df.drop_duplicates('iid').mn_sat.hist()"
   ]
  },
  {
   "cell_type": "markdown",
   "metadata": {},
   "source": [
    "#### tuition: \t\n",
    "Tuition listed for each response to undergrad in Barron’s 25th Edition college profile book."
   ]
  },
  {
   "cell_type": "code",
   "execution_count": 238,
   "metadata": {},
   "outputs": [
    {
     "data": {
      "text/plain": [
       "26,908.00    241\n",
       "26,019.00    174\n",
       "15,162.00    138\n",
       "25,380.00    112\n",
       "26,062.00    108\n",
       "Name: tuition, dtype: int64"
      ]
     },
     "execution_count": 238,
     "metadata": {},
     "output_type": "execute_result"
    }
   ],
   "source": [
    "df.tuition.value_counts().head()"
   ]
  },
  {
   "cell_type": "code",
   "execution_count": 239,
   "metadata": {},
   "outputs": [],
   "source": [
    "df.loc[:, 'tuition'] = df.loc[:, 'tuition'].str.replace(',', '').astype(np.float)"
   ]
  },
  {
   "cell_type": "code",
   "execution_count": 240,
   "metadata": {},
   "outputs": [
    {
     "data": {
      "text/plain": [
       "<AxesSubplot:>"
      ]
     },
     "execution_count": 240,
     "metadata": {},
     "output_type": "execute_result"
    },
    {
     "data": {
      "image/png": "[encoded data removed]",
      "text/plain": [
       "<Figure size 864x576 with 1 Axes>"
      ]
     },
     "metadata": {},
     "output_type": "display_data"
    }
   ],
   "source": [
    "df.drop_duplicates('iid').tuition.hist()"
   ]
  },
  {
   "cell_type": "code",
   "execution_count": 241,
   "metadata": {},
   "outputs": [
    {
     "data": {
      "text/plain": [
       "310"
      ]
     },
     "execution_count": 241,
     "metadata": {},
     "output_type": "execute_result"
    }
   ],
   "source": [
    "df.drop_duplicates('iid').tuition.isnull().sum()"
   ]
  },
  {
   "cell_type": "code",
   "execution_count": 242,
   "metadata": {},
   "outputs": [],
   "source": [
    "df.tuition = df.tuition.fillna(df.tuition.mean())"
   ]
  },
  {
   "cell_type": "markdown",
   "metadata": {},
   "source": [
    "#### race:\n",
    "* Black/African American=1\n",
    "* European/Caucasian-American=2\n",
    "* Latino/Hispanic American=3\n",
    "* Asian/Pacific Islander/Asian-American=4\n",
    "* Native American=5\n",
    "* Other=6\n"
   ]
  },
  {
   "cell_type": "code",
   "execution_count": 243,
   "metadata": {},
   "outputs": [
    {
     "data": {
      "text/plain": [
       "<AxesSubplot:>"
      ]
     },
     "execution_count": 243,
     "metadata": {},
     "output_type": "execute_result"
    },
    {
     "data": {
      "image/png": "[encoded data removed]",
      "text/plain": [
       "<Figure size 864x576 with 1 Axes>"
      ]
     },
     "metadata": {},
     "output_type": "display_data"
    }
   ],
   "source": [
    "df.race.hist()"
   ]
  },
  {
   "cell_type": "code",
   "execution_count": 244,
   "metadata": {},
   "outputs": [],
   "source": [
    "df = df.join(pd.get_dummies(df.race, prefix=\"race\"))"
   ]
  },
  {
   "cell_type": "code",
   "execution_count": 247,
   "metadata": {},
   "outputs": [],
   "source": [
    "df = df.drop(['race'], axis=1)"
   ]
  },
  {
   "cell_type": "markdown",
   "metadata": {},
   "source": [
    "#### imprace:\n",
    "How important is it to you (on a scale of 1-10) that a person you date be of the same racial/ethnic background?\n",
    "\n",
    "#### imprelig:\n",
    " How important is it to you (on a scale of 1-10) that a person you date be of the same religious background?\n"
   ]
  },
  {
   "cell_type": "code",
   "execution_count": 253,
   "metadata": {},
   "outputs": [
    {
     "data": {
      "text/plain": [
       "0"
      ]
     },
     "execution_count": 253,
     "metadata": {},
     "output_type": "execute_result"
    }
   ],
   "source": [
    "df.drop_duplicates('iid').imprace.isnull().sum()"
   ]
  },
  {
   "cell_type": "code",
   "execution_count": 252,
   "metadata": {},
   "outputs": [
    {
     "data": {
      "text/plain": [
       "0"
      ]
     },
     "execution_count": 252,
     "metadata": {},
     "output_type": "execute_result"
    }
   ],
   "source": [
    "df.drop_duplicates('iid').imprelig.isnull().sum()"
   ]
  },
  {
   "cell_type": "code",
   "execution_count": 251,
   "metadata": {},
   "outputs": [],
   "source": [
    "# Что делать?\n",
    "\n",
    "df = df.dropna(subset=['imprelig', 'imprace'])"
   ]
  },
  {
   "cell_type": "markdown",
   "metadata": {},
   "source": [
    "#### from:\n",
    "Where are you from originally (before coming to Columbia)? \n",
    "\n",
    "#### zipcode:\n",
    "What was the zip code of the area where you grew up? \n",
    "\n",
    "Выкидываем"
   ]
  },
  {
   "cell_type": "code",
   "execution_count": 254,
   "metadata": {},
   "outputs": [],
   "source": [
    "df = df.drop(['from', 'zipcode'], axis=1)"
   ]
  },
  {
   "cell_type": "markdown",
   "metadata": {},
   "source": [
    "#### income"
   ]
  },
  {
   "cell_type": "code",
   "execution_count": 255,
   "metadata": {},
   "outputs": [],
   "source": [
    "df.loc[:, 'income'] = df.loc[:, 'income'].str.replace(',', '').astype(np.float)"
   ]
  },
  {
   "cell_type": "code",
   "execution_count": 259,
   "metadata": {},
   "outputs": [
    {
     "data": {
      "text/plain": [
       "<AxesSubplot:>"
      ]
     },
     "execution_count": 259,
     "metadata": {},
     "output_type": "execute_result"
    },
    {
     "data": {
      "image/png": "[encoded data removed]",
      "text/plain": [
       "<Figure size 864x576 with 1 Axes>"
      ]
     },
     "metadata": {},
     "output_type": "display_data"
    }
   ],
   "source": [
    "df.drop_duplicates('iid').loc[:, 'income'].hist()"
   ]
  },
  {
   "cell_type": "code",
   "execution_count": 257,
   "metadata": {},
   "outputs": [
    {
     "data": {
      "text/plain": [
       "261"
      ]
     },
     "execution_count": 257,
     "metadata": {},
     "output_type": "execute_result"
    }
   ],
   "source": [
    "df.drop_duplicates('iid').loc[:, 'income'].isnull().sum()"
   ]
  },
  {
   "cell_type": "code",
   "execution_count": 258,
   "metadata": {},
   "outputs": [],
   "source": [
    "#df = df.drop(['income'], axis=1)\n",
    "df.loc[:, 'income'] = df.loc[:, 'income'].fillna(-999)"
   ]
  },
  {
   "cell_type": "markdown",
   "metadata": {},
   "source": [
    "#### goal:\n",
    "    What is your primary goal in participating in this event? \n",
    "\tSeemed like a fun night out=1\n",
    "\tTo meet new people=2\n",
    "\tTo get a date=3\n",
    "\tLooking for a serious relationship=4\n",
    "\tTo say I did it=5\n",
    "\tOther=6\n",
    "\n",
    "#### date:\n",
    "    In general, how frequently do you go on dates? \n",
    "\tSeveral times a week=1\n",
    "\tTwice a week=2\n",
    "\tOnce a week=3\n",
    "\tTwice a month=4\n",
    "\tOnce a month=5\n",
    "\tSeveral times a year=6\n",
    "\tAlmost never=7\n",
    "\n",
    "#### go out:\n",
    "    How often do you go out (not necessarily on dates)?\n",
    "\tSeveral times a week=1\n",
    "\tTwice a week=2\n",
    "\tOnce a week=3\n",
    "\tTwice a month=4\n",
    "\tOnce a month=5\n",
    "\tSeveral times a year=6\n",
    "\tAlmost never=7\n",
    "\n",
    "Как бы вы предложили закодировать эти переменные?"
   ]
  },
  {
   "cell_type": "code",
   "execution_count": 270,
   "metadata": {},
   "outputs": [],
   "source": [
    "df = df.dropna(subset=['date'])"
   ]
  },
  {
   "cell_type": "code",
   "execution_count": 271,
   "metadata": {},
   "outputs": [
    {
     "data": {
      "text/plain": [
       "0"
      ]
     },
     "execution_count": 271,
     "metadata": {},
     "output_type": "execute_result"
    }
   ],
   "source": [
    "df.drop_duplicates('iid').go_out.isnull().sum()"
   ]
  },
  {
   "cell_type": "code",
   "execution_count": null,
   "metadata": {},
   "outputs": [],
   "source": [
    "df = df.join(pd.get_dummies(df.goal, prefix=\"goal\"))\n",
    "df = df.join(pd.get_dummies(df.date, prefix=\"date\"))\n",
    "df = df.join(pd.get_dummies(df.go_out, prefix=\"go_out\"))"
   ]
  },
  {
   "cell_type": "code",
   "execution_count": 274,
   "metadata": {},
   "outputs": [],
   "source": [
    "df = df.drop(['goal', 'date', 'go_out'], axis=1)"
   ]
  },
  {
   "cell_type": "markdown",
   "metadata": {},
   "source": [
    "#### career:\n",
    "What is your intended career?\n",
    "\n",
    "#### career_c: \n",
    "career coded \n",
    "\n",
    "Работаем аналогично field и field_cd"
   ]
  },
  {
   "cell_type": "code",
   "execution_count": 275,
   "metadata": {},
   "outputs": [
    {
     "name": "stdout",
     "output_type": "stream",
     "text": [
      "==========\n",
      "Career Code 1.0\n",
      "['lawyer/policy work' 'lawyer' 'Law' 'Corporate Lawyer' 'Lawyer'\n",
      " 'Corporate attorney' 'law' 'Intellectual Property Attorney' 'LAWYER'\n",
      " 'attorney' 'Lawyer or professional surfer' 'lawyer/gov.position'\n",
      " 'Law or finance' 'IP Law' 'Academic (Law)' 'Private Equity' 'attorney?'\n",
      " 'Corporate law' 'tax lawyer' 'Business/Law' 'Assistant District Attorney']\n",
      "==========\n",
      "Career Code 2.0\n",
      "['Academia, Research, Banking, Life' 'academics or journalism' 'Professor'\n",
      " 'Academic' 'academia' 'teacher' 'industrial scientist'\n",
      " 'teaching and then...' 'Professor of Media Studies'\n",
      " 'Education Administration' 'Academic or Research staff'\n",
      " 'University Professor' 'Research Scientist'\n",
      " 'research in industry or academia' 'Teacher/Professor'\n",
      " 'no idea, maybe a professor' 'a research position' 'professor' 'teaching'\n",
      " 'engineering professional' 'research' 'Neuroscientist/Professor'\n",
      " 'Education' 'Professor and Government Official'\n",
      " 'physicist, probably academia' 'college art teacher' 'academic'\n",
      " 'Research scientist, professor' 'academics' 'academic research'\n",
      " 'academician' 'professional student' 'education' 'Historian'\n",
      " 'college professor' 'scientific research' 'Academic Physician'\n",
      " 'Researcher' 'Professor or Consultant' 'History Professor'\n",
      " 'Educational Policy' 'elementary school teacher' 'Research/Teaching'\n",
      " 'researcher in sociology' 'scientist' 'Naturalist'\n",
      " 'professor, poet/critic' 'researcher/academia' 'Art educator and Artist'\n",
      " 'Teacher' 'Scientist' 'Scientist/educator'\n",
      " 'scientific research for now but who knows' 'College Professor'\n",
      " 'Professor or Lawyer' 'research position in pharmaceutical industry'\n",
      " 'Academia' 'research/academia' 'Secondary Education Teacher'\n",
      " 'High School Social Studies Teacher' 'Education Policy Analyst'\n",
      " 'Literacy Organization head/ Director of Development for non-profit'\n",
      " 'English Teacher' 'Program development / policy work'\n",
      " 'professor of education' 'Educator' 'teaching/education'\n",
      " 'professor in college' 'Academia; Research; Teaching'\n",
      " 'curriculum developer' 'academic or consulting' 'Academia or UN'\n",
      " 'I am a teacher.' 'Professor or journalist'\n",
      " 'to get Ph.D and be a professor'\n",
      " 'Early Childhood Ed. - College/univ. faculity'\n",
      " 'medical examiner or researcher' 'University President'\n",
      " 'EDUCATION ADMINISTRATION' 'music educator, performer'\n",
      " 'Elementary Education Teaching' 'research - teaching' 'Research'\n",
      " 'Elementary school teacher' 'Bilingual Elementary School Teacher'\n",
      " 'Professor, or Engineer' 'Professor; Human Rights Director'\n",
      " 'Clinic Trial' 'English teacher' 'writer/teacher' 'Professor...?'\n",
      " 'acadeic' 'researcher' 'biology industry' 'Epidemiologist'\n",
      " 'epidemiologist' 'teacher and performer' 'TEACHING' 'Academic/ Finance'\n",
      " 'Science' 'Academic Work, Consultant']\n",
      "==========\n",
      "Career Code 3.0\n",
      "['psychologist' 'Social Worker.... Clinician' 'Psychologist'\n",
      " 'school psychologist' 'School Psychologist' 'Clinical Psychology'\n",
      " 'Clinical Psychologist' 'clinical psychologist, researcher, professor'\n",
      " 'School Counseling' 'Sex Therapist']\n",
      "==========\n",
      "Career Code 4.0\n",
      "['Biostatistics' 'Medicine' 'pharmaceuticals' 'Cardiologist' 'Pediatrics'\n",
      " 'medicine' 'pharmaceuticals and biotechnology' 'Physician Scientist'\n",
      " 'health policy' 'Epidemiologist' 'nutrition and dental' 'Physician'\n",
      " 'dietician' 'doctor and entrepreneur' 'Healthcare' 'Nutritionist'\n",
      " 'Private practice Dietician' 'physician, informaticist' 'physician'\n",
      " 'Medical Sciences' 'physician/healthcare' 'Doctor']\n",
      "==========\n",
      "Career Code 5.0\n",
      "['Informatics' 'Engineer' 'Ph.D. Electrical Engineering'\n",
      " 'Operations Research' 'Engineering' 'Mechanical Engineering'\n",
      " 'Civil Engineer' 'Urban Planner' 'Planning' 'ASIC Engineer'\n",
      " 'software engr, network engr' 'Research Engineer']\n",
      "==========\n",
      "Career Code 6.0\n",
      "['Journalist' \"Clidren's TV\" 'Music production' 'comedienne' 'novelist'\n",
      " 'Journalism' 'film' 'Writer' 'Porn Star' 'boxing champ'\n",
      " 'Paper Back Writer'\n",
      " 'Poet, Writer, Singer, Policy Maker with the UN and/or Indian Govt.'\n",
      " 'Entertainment/Sports' 'WRITING' 'manage a museum or art gallery'\n",
      " 'Entertainment/Media' 'Film/Television' 'Writing'\n",
      " 'Museum Work (Curation?)' 'Music Industry' 'Artist' 'Art Management'\n",
      " 'film directing' 'Screenwriter' 'Filmmaker' 'Writer/teacher'\n",
      " 'Writing or Editorial' 'writer/editor'\n",
      " 'producer at a non-profit regional theatre' 'writer' 'playing music'\n",
      " 'writer/producer' 'film and radio' 'Film' 'Writer/Editor' 'Actress'\n",
      " 'Acting']\n",
      "==========\n",
      "Career Code 7.0\n",
      "['research/financial industry' 'Financial Services' 'ceo' 'CEO' 'Banking'\n",
      " 'Capital Markets' 'Organizational Change Consultant' 'banker / academia'\n",
      " 'banker' 'Entrepreneur' 'consulting' 'Private Equity Investing'\n",
      " 'Investment Banking' 'Engineer or iBanker or consultant' 'Trading'\n",
      " 'Economic research' 'Microfinancing Program Manager' 'Marketing'\n",
      " 'Business - Investment Management' 'Finance' 'business'\n",
      " 'Marketing, Advertising' 'Asset Management' 'investment banking' 'MBA'\n",
      " 'Business' 'finance' 'Marketing and Media' 'Brand Management'\n",
      " 'Management Consulting' 'management consulting'\n",
      " 'financial service or fashion' 'International Business' 'Private Equity'\n",
      " 'Investment Management' 'Development work' 'marketing / brand management'\n",
      " 'Biotech/business' 'Country Analysis/Research/Credit Analysis'\n",
      " 'Consulting' 'corporate finance'\n",
      " 'CEO in For Profit Biomedical Organization' 'banking'\n",
      " 'Conservation training and education' 'president' 'Management Consultant'\n",
      " 'Trader' 'Wall Street Economist' 'enterpreneur' 'Industry CTO/CEO'\n",
      " 'finance or engineering' 'Venture Capital/Consulting/Government'\n",
      " \"Int'l Business\" 'Pharmaceuticals/Consulting' 'Investment banking'\n",
      " 'International Development banker'\n",
      " 'Corporate Finance, Asset Management/ Hedge Funds'\n",
      " 'Real Estate Consulting' 'Director of Training and Development'\n",
      " 'Marketing or Strategy and Business Development' 'Business Consulting'\n",
      " 'CONSULTING' 'investment management' 'Finance Related'\n",
      " 'Media Marketing/Entrepreneurship' 'Director of Admissions'\n",
      " 'Consultin \\\\ Management'\n",
      " 'Financial Mathematics-Investment Bank or Hedge Fund-Derivatives Quant Analyst'\n",
      " 'Work in an investment bank' 'M&A Advisory' 'millionaire'\n",
      " 'Fundraising for Non-Profits' 'Money Management' 'General Management'\n",
      " 'Public School Principal' 'Media Management' 'Public Finance'\n",
      " 'Business Management' 'private equity' 'Health care finance'\n",
      " 'Entrepreneurship' 'Fixed Income Sales & Trading'\n",
      " 'Consulting, later Arts or Non-Profit' 'Finance/Economics'\n",
      " 'Investment Banker' 'consultant'\n",
      " 'Business Management and Information Technology' 'self-made millionare'\n",
      " 'To go into Finance' 'Private Equity - Leveraged Buy-Outs' 'Management'\n",
      " 'General management/consulting']\n",
      "==========\n",
      "Career Code 8.0\n",
      "['Real Estate' 'Real Estate/ Private Equity']\n",
      "==========\n",
      "Career Code 9.0\n",
      "['Congresswoman, and comedian'\n",
      " 'To create early childhood intervention programs'\n",
      " 'health/nutrition oriented social worker' 'Social Worker'\n",
      " 'Social work with children' 'Speech Language Pathologist'\n",
      " 'Social Work Administration' 'social worker' 'Social Services/ Policy'\n",
      " 'Clinical Social Worker' 'international development work' 'Nonprofit'\n",
      " 'Child Rights' 'Development work on field in the middle of nowhere'\n",
      " 'International Development' 'UN Civil Servant'\n",
      " 'Humanitarian Affairs/Human Rights'\n",
      " 'International affairs related career' 'public service'\n",
      " 'Security Policy - Homeland Defense'\n",
      " 'reorganizing society. no, I am not being flip.' 'Intl Development'\n",
      " \"Diplomat / Int'l civil servant\" 'Diplomat/Business'\n",
      " 'Economic Policy Advisor on Latin America' 'Energy Management' 'Diplomat'\n",
      " 'Work at the UN' 'Foreign Service'\n",
      " 'Exec. Director of social service non-profit']\n",
      "==========\n",
      "Career Code 10.0\n",
      "['Undecided' \"I don't know\" 'What a question!' 'if only i knew'\n",
      " \"don't know\" 'Not Sure' 'undecided' 'TBA' 'Am not sure' 'Who knows' '?'\n",
      " 'not sure yet :)' 'Make money' 'still wondering' 'Not sure yet' 'unknown'\n",
      " 'unsure' '??' 'dont know yet']\n",
      "==========\n",
      "Career Code 11.0\n",
      "['Social Worker' 'Counseling Adolescents' 'Social work' 'Social Work'\n",
      " 'Social Work Policy' 'Clinical Social Worker']\n",
      "==========\n",
      "Career Code 12.0\n",
      "['speech pathologist' 'Speech Pathologist']\n",
      "==========\n",
      "Career Code 13.0\n",
      "['GOVERNOR' 'Political Development in Africa' 'Lobbyist' 'politics'\n",
      " 'School Leadership/Politics']\n",
      "==========\n",
      "Career Code 14.0\n",
      "['Pro Beach Volleyball']\n",
      "==========\n",
      "Career Code 15.0\n",
      "['Hero' 'Energy' 'Trade Specialist' 'professional career'\n",
      " \"assistant master of the universe (otherwise it's too much work)\"]\n",
      "==========\n",
      "Career Code 16.0\n",
      "['journalism' 'Writer/journalist']\n",
      "==========\n",
      "Career Code 17.0\n",
      "['Architecture and design']\n"
     ]
    }
   ],
   "source": [
    "for i, group in df.groupby('career_c'):\n",
    "    print('=' * 10)\n",
    "    print('Career Code {}'.format(i))\n",
    "    print(group.career.unique())"
   ]
  },
  {
   "cell_type": "code",
   "execution_count": null,
   "metadata": {},
   "outputs": [],
   "source": [
    "df.career_c.isnull().sum()"
   ]
  },
  {
   "cell_type": "code",
   "execution_count": 276,
   "metadata": {},
   "outputs": [],
   "source": [
    "df.loc[:, 'career_c'] = df.loc[:, 'career_c'].fillna(18)"
   ]
  },
  {
   "cell_type": "code",
   "execution_count": 278,
   "metadata": {},
   "outputs": [],
   "source": [
    "df = df.drop(['career'], axis=1)"
   ]
  },
  {
   "cell_type": "code",
   "execution_count": 279,
   "metadata": {},
   "outputs": [],
   "source": [
    "# Теперь это надо закодировать\n",
    "df = df.join(pd.get_dummies(df.career_c, prefix=\"career_c\"))"
   ]
  },
  {
   "cell_type": "code",
   "execution_count": null,
   "metadata": {},
   "outputs": [],
   "source": [
    "df.drop(['career'], axis=1)"
   ]
  },
  {
   "cell_type": "markdown",
   "metadata": {},
   "source": [
    "How interested are you in the following activities, on a scale of 1-10?\n",
    "    \n",
    "    sports: Playing sports/ athletics\n",
    "    tvsports: Watching sports\n",
    "    excersice: Body building/exercising\n",
    "    dining: Dining out\n",
    "    museums: Museums/galleries\n",
    "    art: Art\n",
    "    hiking:  Hiking/camping\n",
    "    gaming: Gaming\n",
    "    clubbing: Dancing/clubbing\n",
    "    reading: Reading\n",
    "    tv: Watching TV\n",
    "    theater: Theater\n",
    "    movies: Movies\n",
    "    concerts: Going to concerts\n",
    "    music: Music\n",
    "    shopping: Shopping\n",
    "    yoga: Yoga/meditation\n",
    "\n",
    "По большому счету с этими признаками можно придумать много чего.. Например у нас уже есть признак, который считает корреляцию между интересами пар. Пока мы все их выкинем"
   ]
  },
  {
   "cell_type": "code",
   "execution_count": 281,
   "metadata": {},
   "outputs": [
    {
     "data": {
      "text/plain": [
       "sports      0\n",
       "tvsports    0\n",
       "exercise    0\n",
       "dining      0\n",
       "museums     0\n",
       "art         0\n",
       "hiking      0\n",
       "gaming      0\n",
       "clubbing    0\n",
       "reading     0\n",
       "tv          0\n",
       "theater     0\n",
       "movies      0\n",
       "concerts    0\n",
       "music       0\n",
       "shopping    0\n",
       "yoga        0\n",
       "dtype: int64"
      ]
     },
     "execution_count": 281,
     "metadata": {},
     "output_type": "execute_result"
    }
   ],
   "source": [
    "df.loc[:, ['sports','tvsports','exercise','dining','museums','art','hiking','gaming',\n",
    "       'clubbing','reading','tv','theater','movies','concerts','music','shopping','yoga']\n",
    "      ].isnull().sum()"
   ]
  },
  {
   "cell_type": "code",
   "execution_count": 282,
   "metadata": {},
   "outputs": [],
   "source": [
    "df = df.drop(['sports','tvsports','exercise','dining','museums','art','hiking','gaming',\n",
    "       'clubbing','reading','tv','theater','movies','concerts','music','shopping','yoga'], axis=1)"
   ]
  },
  {
   "cell_type": "markdown",
   "metadata": {},
   "source": [
    "#### exphappy:\n",
    "Overall, on a scale of 1-10, how happy do you expect to be with the people you meet \n",
    "during the speed-dating event?\n",
    "\n",
    "#### expnum: \n",
    "Out of the 20 people you will meet, how many do you expect will be interested in dating you? \n"
   ]
  },
  {
   "cell_type": "code",
   "execution_count": 283,
   "metadata": {},
   "outputs": [
    {
     "data": {
      "text/plain": [
       "0"
      ]
     },
     "execution_count": 283,
     "metadata": {},
     "output_type": "execute_result"
    }
   ],
   "source": [
    "df.drop_duplicates('iid').exphappy.isnull().sum()"
   ]
  },
  {
   "cell_type": "code",
   "execution_count": 284,
   "metadata": {},
   "outputs": [
    {
     "data": {
      "text/plain": [
       "416"
      ]
     },
     "execution_count": 284,
     "metadata": {},
     "output_type": "execute_result"
    }
   ],
   "source": [
    "df.drop_duplicates('iid').expnum.isnull().sum()"
   ]
  },
  {
   "cell_type": "code",
   "execution_count": 285,
   "metadata": {},
   "outputs": [],
   "source": [
    "df = df.drop(['expnum'], axis=1)"
   ]
  },
  {
   "cell_type": "markdown",
   "metadata": {},
   "source": [
    "### Attr1\n",
    "\n",
    "We want to know what you look for in the opposite sex. \n",
    "Waves 6-9: Please rate the importance of the following attributes in a potential date on a scale of 1-10 (1=not at all important, 10=extremely important):\n",
    "Waves 1-5, 10-21: You have 100 points to distribute among the following attributes -- give more points to those attributes that are more important in a potential date, and fewer points to those attributes that are less important in a potential date.  Total points must equal 100.\n",
    "\n",
    "attr1_1 \n",
    "Attractive\n",
    "\n",
    "sinc1_1\n",
    "Sincere\n",
    "\n",
    "intel1_1\n",
    "Intelligent\n",
    "\n",
    "fun1_1\n",
    "Fun\n",
    "\n",
    "amb1_1\n",
    "Ambitious\n",
    "\n",
    "shar1_1\n",
    "Has shared interests/hobbies\n"
   ]
  },
  {
   "cell_type": "code",
   "execution_count": 286,
   "metadata": {},
   "outputs": [],
   "source": [
    "feat = ['iid', 'wave', 'attr1_1', 'sinc1_1', 'intel1_1', 'fun1_1', 'amb1_1', 'shar1_1']"
   ]
  },
  {
   "cell_type": "code",
   "execution_count": 287,
   "metadata": {},
   "outputs": [],
   "source": [
    "temp = df.drop_duplicates(subset=['iid', 'wave']).loc[:, feat]"
   ]
  },
  {
   "cell_type": "code",
   "execution_count": 288,
   "metadata": {},
   "outputs": [],
   "source": [
    "temp.loc[:, 'totalsum'] = temp.iloc[:, 2:].sum(axis=1)"
   ]
  },
  {
   "cell_type": "code",
   "execution_count": 289,
   "metadata": {},
   "outputs": [],
   "source": [
    "idx = ((temp.wave < 6) | (temp.wave > 9)) & (temp.totalsum < 99)"
   ]
  },
  {
   "cell_type": "code",
   "execution_count": 290,
   "metadata": {},
   "outputs": [
    {
     "data": {
      "text/html": [
       "<div>\n",
       "<style scoped>\n",
       "    .dataframe tbody tr th:only-of-type {\n",
       "        vertical-align: middle;\n",
       "    }\n",
       "\n",
       "    .dataframe tbody tr th {\n",
       "        vertical-align: top;\n",
       "    }\n",
       "\n",
       "    .dataframe thead th {\n",
       "        text-align: right;\n",
       "    }\n",
       "</style>\n",
       "<table border=\"1\" class=\"dataframe\">\n",
       "  <thead>\n",
       "    <tr style=\"text-align: right;\">\n",
       "      <th></th>\n",
       "      <th>iid</th>\n",
       "      <th>wave</th>\n",
       "      <th>attr1_1</th>\n",
       "      <th>sinc1_1</th>\n",
       "      <th>intel1_1</th>\n",
       "      <th>fun1_1</th>\n",
       "      <th>amb1_1</th>\n",
       "      <th>shar1_1</th>\n",
       "      <th>totalsum</th>\n",
       "    </tr>\n",
       "  </thead>\n",
       "  <tbody>\n",
       "    <tr>\n",
       "      <th>918</th>\n",
       "      <td>67</td>\n",
       "      <td>3</td>\n",
       "      <td>20.0</td>\n",
       "      <td>15.0</td>\n",
       "      <td>20.0</td>\n",
       "      <td>20.0</td>\n",
       "      <td>5.0</td>\n",
       "      <td>10.0</td>\n",
       "      <td>90.0</td>\n",
       "    </tr>\n",
       "    <tr>\n",
       "      <th>1530</th>\n",
       "      <td>105</td>\n",
       "      <td>4</td>\n",
       "      <td>30.0</td>\n",
       "      <td>15.0</td>\n",
       "      <td>20.0</td>\n",
       "      <td>20.0</td>\n",
       "      <td>0.0</td>\n",
       "      <td>5.0</td>\n",
       "      <td>90.0</td>\n",
       "    </tr>\n",
       "    <tr>\n",
       "      <th>7221</th>\n",
       "      <td>489</td>\n",
       "      <td>19</td>\n",
       "      <td>20.0</td>\n",
       "      <td>10.0</td>\n",
       "      <td>20.0</td>\n",
       "      <td>20.0</td>\n",
       "      <td>20.0</td>\n",
       "      <td>0.0</td>\n",
       "      <td>90.0</td>\n",
       "    </tr>\n",
       "    <tr>\n",
       "      <th>7586</th>\n",
       "      <td>517</td>\n",
       "      <td>21</td>\n",
       "      <td>15.0</td>\n",
       "      <td>20.0</td>\n",
       "      <td>20.0</td>\n",
       "      <td>20.0</td>\n",
       "      <td>5.0</td>\n",
       "      <td>10.0</td>\n",
       "      <td>90.0</td>\n",
       "    </tr>\n",
       "    <tr>\n",
       "      <th>7784</th>\n",
       "      <td>526</td>\n",
       "      <td>21</td>\n",
       "      <td>10.0</td>\n",
       "      <td>10.0</td>\n",
       "      <td>30.0</td>\n",
       "      <td>20.0</td>\n",
       "      <td>10.0</td>\n",
       "      <td>15.0</td>\n",
       "      <td>95.0</td>\n",
       "    </tr>\n",
       "  </tbody>\n",
       "</table>\n",
       "</div>"
      ],
      "text/plain": [
       "      iid  wave  attr1_1  sinc1_1  intel1_1  fun1_1  amb1_1  shar1_1  totalsum\n",
       "918    67     3     20.0     15.0      20.0    20.0     5.0     10.0      90.0\n",
       "1530  105     4     30.0     15.0      20.0    20.0     0.0      5.0      90.0\n",
       "7221  489    19     20.0     10.0      20.0    20.0    20.0      0.0      90.0\n",
       "7586  517    21     15.0     20.0      20.0    20.0     5.0     10.0      90.0\n",
       "7784  526    21     10.0     10.0      30.0    20.0    10.0     15.0      95.0"
      ]
     },
     "execution_count": 290,
     "metadata": {},
     "output_type": "execute_result"
    }
   ],
   "source": [
    "temp.loc[idx, ]"
   ]
  },
  {
   "cell_type": "code",
   "execution_count": 291,
   "metadata": {},
   "outputs": [],
   "source": [
    "idx = ((temp.wave >= 6) & (temp.wave <= 9))"
   ]
  },
  {
   "cell_type": "code",
   "execution_count": 292,
   "metadata": {},
   "outputs": [
    {
     "data": {
      "text/html": [
       "<div>\n",
       "<style scoped>\n",
       "    .dataframe tbody tr th:only-of-type {\n",
       "        vertical-align: middle;\n",
       "    }\n",
       "\n",
       "    .dataframe tbody tr th {\n",
       "        vertical-align: top;\n",
       "    }\n",
       "\n",
       "    .dataframe thead th {\n",
       "        text-align: right;\n",
       "    }\n",
       "</style>\n",
       "<table border=\"1\" class=\"dataframe\">\n",
       "  <thead>\n",
       "    <tr style=\"text-align: right;\">\n",
       "      <th></th>\n",
       "      <th>iid</th>\n",
       "      <th>wave</th>\n",
       "      <th>attr1_1</th>\n",
       "      <th>sinc1_1</th>\n",
       "      <th>intel1_1</th>\n",
       "      <th>fun1_1</th>\n",
       "      <th>amb1_1</th>\n",
       "      <th>shar1_1</th>\n",
       "      <th>totalsum</th>\n",
       "    </tr>\n",
       "  </thead>\n",
       "  <tbody>\n",
       "    <tr>\n",
       "      <th>1846</th>\n",
       "      <td>132</td>\n",
       "      <td>6</td>\n",
       "      <td>16.67</td>\n",
       "      <td>16.67</td>\n",
       "      <td>16.67</td>\n",
       "      <td>16.67</td>\n",
       "      <td>16.67</td>\n",
       "      <td>16.67</td>\n",
       "      <td>100.02</td>\n",
       "    </tr>\n",
       "    <tr>\n",
       "      <th>1851</th>\n",
       "      <td>133</td>\n",
       "      <td>6</td>\n",
       "      <td>12.77</td>\n",
       "      <td>19.15</td>\n",
       "      <td>17.02</td>\n",
       "      <td>17.02</td>\n",
       "      <td>14.89</td>\n",
       "      <td>19.15</td>\n",
       "      <td>100.00</td>\n",
       "    </tr>\n",
       "    <tr>\n",
       "      <th>1856</th>\n",
       "      <td>134</td>\n",
       "      <td>6</td>\n",
       "      <td>6.67</td>\n",
       "      <td>20.00</td>\n",
       "      <td>20.00</td>\n",
       "      <td>17.78</td>\n",
       "      <td>20.00</td>\n",
       "      <td>15.56</td>\n",
       "      <td>100.01</td>\n",
       "    </tr>\n",
       "    <tr>\n",
       "      <th>1861</th>\n",
       "      <td>135</td>\n",
       "      <td>6</td>\n",
       "      <td>18.18</td>\n",
       "      <td>22.73</td>\n",
       "      <td>18.18</td>\n",
       "      <td>13.64</td>\n",
       "      <td>13.64</td>\n",
       "      <td>13.64</td>\n",
       "      <td>100.01</td>\n",
       "    </tr>\n",
       "    <tr>\n",
       "      <th>1871</th>\n",
       "      <td>137</td>\n",
       "      <td>6</td>\n",
       "      <td>17.39</td>\n",
       "      <td>17.39</td>\n",
       "      <td>15.22</td>\n",
       "      <td>17.39</td>\n",
       "      <td>13.04</td>\n",
       "      <td>19.57</td>\n",
       "      <td>100.00</td>\n",
       "    </tr>\n",
       "    <tr>\n",
       "      <th>...</th>\n",
       "      <td>...</td>\n",
       "      <td>...</td>\n",
       "      <td>...</td>\n",
       "      <td>...</td>\n",
       "      <td>...</td>\n",
       "      <td>...</td>\n",
       "      <td>...</td>\n",
       "      <td>...</td>\n",
       "      <td>...</td>\n",
       "    </tr>\n",
       "    <tr>\n",
       "      <th>3308</th>\n",
       "      <td>229</td>\n",
       "      <td>9</td>\n",
       "      <td>21.43</td>\n",
       "      <td>16.67</td>\n",
       "      <td>21.43</td>\n",
       "      <td>16.67</td>\n",
       "      <td>11.90</td>\n",
       "      <td>11.90</td>\n",
       "      <td>100.00</td>\n",
       "    </tr>\n",
       "    <tr>\n",
       "      <th>3328</th>\n",
       "      <td>230</td>\n",
       "      <td>9</td>\n",
       "      <td>23.81</td>\n",
       "      <td>23.81</td>\n",
       "      <td>23.81</td>\n",
       "      <td>23.81</td>\n",
       "      <td>2.38</td>\n",
       "      <td>2.38</td>\n",
       "      <td>100.00</td>\n",
       "    </tr>\n",
       "    <tr>\n",
       "      <th>3348</th>\n",
       "      <td>231</td>\n",
       "      <td>9</td>\n",
       "      <td>18.60</td>\n",
       "      <td>20.93</td>\n",
       "      <td>23.26</td>\n",
       "      <td>23.26</td>\n",
       "      <td>2.33</td>\n",
       "      <td>11.63</td>\n",
       "      <td>100.01</td>\n",
       "    </tr>\n",
       "    <tr>\n",
       "      <th>3368</th>\n",
       "      <td>232</td>\n",
       "      <td>9</td>\n",
       "      <td>17.78</td>\n",
       "      <td>17.78</td>\n",
       "      <td>17.78</td>\n",
       "      <td>17.78</td>\n",
       "      <td>13.33</td>\n",
       "      <td>15.56</td>\n",
       "      <td>100.01</td>\n",
       "    </tr>\n",
       "    <tr>\n",
       "      <th>3388</th>\n",
       "      <td>233</td>\n",
       "      <td>9</td>\n",
       "      <td>14.00</td>\n",
       "      <td>20.00</td>\n",
       "      <td>18.00</td>\n",
       "      <td>16.00</td>\n",
       "      <td>14.00</td>\n",
       "      <td>18.00</td>\n",
       "      <td>100.00</td>\n",
       "    </tr>\n",
       "  </tbody>\n",
       "</table>\n",
       "<p>101 rows × 9 columns</p>\n",
       "</div>"
      ],
      "text/plain": [
       "      iid  wave  attr1_1  sinc1_1  intel1_1  fun1_1  amb1_1  shar1_1  totalsum\n",
       "1846  132     6    16.67    16.67     16.67   16.67   16.67    16.67    100.02\n",
       "1851  133     6    12.77    19.15     17.02   17.02   14.89    19.15    100.00\n",
       "1856  134     6     6.67    20.00     20.00   17.78   20.00    15.56    100.01\n",
       "1861  135     6    18.18    22.73     18.18   13.64   13.64    13.64    100.01\n",
       "1871  137     6    17.39    17.39     15.22   17.39   13.04    19.57    100.00\n",
       "...   ...   ...      ...      ...       ...     ...     ...      ...       ...\n",
       "3308  229     9    21.43    16.67     21.43   16.67   11.90    11.90    100.00\n",
       "3328  230     9    23.81    23.81     23.81   23.81    2.38     2.38    100.00\n",
       "3348  231     9    18.60    20.93     23.26   23.26    2.33    11.63    100.01\n",
       "3368  232     9    17.78    17.78     17.78   17.78   13.33    15.56    100.01\n",
       "3388  233     9    14.00    20.00     18.00   16.00   14.00    18.00    100.00\n",
       "\n",
       "[101 rows x 9 columns]"
      ]
     },
     "execution_count": 292,
     "metadata": {},
     "output_type": "execute_result"
    }
   ],
   "source": [
    "temp.loc[idx, ]"
   ]
  },
  {
   "cell_type": "markdown",
   "metadata": {},
   "source": [
    "Ну понятно, надо чутка подредактировать исходные признаки и в бой"
   ]
  },
  {
   "cell_type": "code",
   "execution_count": 293,
   "metadata": {},
   "outputs": [],
   "source": [
    "df.loc[:, 'temp_totalsum'] = df.loc[:, ['attr1_1', 'sinc1_1', 'intel1_1', 'fun1_1', 'amb1_1', 'shar1_1']].sum(axis=1)"
   ]
  },
  {
   "cell_type": "code",
   "execution_count": 294,
   "metadata": {},
   "outputs": [],
   "source": [
    "df.loc[:, ['attr1_1', 'sinc1_1', 'intel1_1', 'fun1_1', 'amb1_1', 'shar1_1']] = \\\n",
    "(df.loc[:, ['attr1_1', 'sinc1_1', 'intel1_1', 'fun1_1', 'amb1_1', 'shar1_1']].T/df.loc[:, 'temp_totalsum'].T).T * 100"
   ]
  },
  {
   "cell_type": "markdown",
   "metadata": {},
   "source": [
    "Проведите аналогичную работу для признаков `attr2`"
   ]
  },
  {
   "cell_type": "markdown",
   "metadata": {},
   "source": [
    "### Attr2"
   ]
  },
  {
   "cell_type": "code",
   "execution_count": 295,
   "metadata": {},
   "outputs": [],
   "source": [
    "feat = ['iid', 'wave', 'attr2_1', 'sinc2_1', 'intel2_1', 'fun2_1', 'amb2_1', 'shar2_1']"
   ]
  },
  {
   "cell_type": "code",
   "execution_count": 296,
   "metadata": {},
   "outputs": [],
   "source": [
    "temp = df.drop_duplicates(subset=['iid', 'wave']).loc[:, feat]"
   ]
  },
  {
   "cell_type": "code",
   "execution_count": 297,
   "metadata": {},
   "outputs": [],
   "source": [
    "temp.loc[:, 'totalsum'] = temp.iloc[:, 2:].sum(axis=1)"
   ]
  },
  {
   "cell_type": "code",
   "execution_count": 298,
   "metadata": {},
   "outputs": [],
   "source": [
    "idx = ((temp.wave < 6) | (temp.wave > 9)) & (temp.totalsum < 90) & (temp.totalsum != 0)"
   ]
  },
  {
   "cell_type": "code",
   "execution_count": 299,
   "metadata": {},
   "outputs": [
    {
     "data": {
      "text/html": [
       "<div>\n",
       "<style scoped>\n",
       "    .dataframe tbody tr th:only-of-type {\n",
       "        vertical-align: middle;\n",
       "    }\n",
       "\n",
       "    .dataframe tbody tr th {\n",
       "        vertical-align: top;\n",
       "    }\n",
       "\n",
       "    .dataframe thead th {\n",
       "        text-align: right;\n",
       "    }\n",
       "</style>\n",
       "<table border=\"1\" class=\"dataframe\">\n",
       "  <thead>\n",
       "    <tr style=\"text-align: right;\">\n",
       "      <th></th>\n",
       "      <th>iid</th>\n",
       "      <th>wave</th>\n",
       "      <th>attr2_1</th>\n",
       "      <th>sinc2_1</th>\n",
       "      <th>intel2_1</th>\n",
       "      <th>fun2_1</th>\n",
       "      <th>amb2_1</th>\n",
       "      <th>shar2_1</th>\n",
       "      <th>totalsum</th>\n",
       "    </tr>\n",
       "  </thead>\n",
       "  <tbody>\n",
       "    <tr>\n",
       "      <th>4816</th>\n",
       "      <td>320</td>\n",
       "      <td>12</td>\n",
       "      <td>20.0</td>\n",
       "      <td>10.0</td>\n",
       "      <td>10.0</td>\n",
       "      <td>10.0</td>\n",
       "      <td>20.0</td>\n",
       "      <td>10.0</td>\n",
       "      <td>80.0</td>\n",
       "    </tr>\n",
       "  </tbody>\n",
       "</table>\n",
       "</div>"
      ],
      "text/plain": [
       "      iid  wave  attr2_1  sinc2_1  intel2_1  fun2_1  amb2_1  shar2_1  totalsum\n",
       "4816  320    12     20.0     10.0      10.0    10.0    20.0     10.0      80.0"
      ]
     },
     "execution_count": 299,
     "metadata": {},
     "output_type": "execute_result"
    }
   ],
   "source": [
    "temp.loc[idx, ]"
   ]
  },
  {
   "cell_type": "code",
   "execution_count": 300,
   "metadata": {},
   "outputs": [],
   "source": [
    "idx = ((temp.wave >= 6) & (temp.wave <= 9))"
   ]
  },
  {
   "cell_type": "code",
   "execution_count": 301,
   "metadata": {},
   "outputs": [
    {
     "data": {
      "text/html": [
       "<div>\n",
       "<style scoped>\n",
       "    .dataframe tbody tr th:only-of-type {\n",
       "        vertical-align: middle;\n",
       "    }\n",
       "\n",
       "    .dataframe tbody tr th {\n",
       "        vertical-align: top;\n",
       "    }\n",
       "\n",
       "    .dataframe thead th {\n",
       "        text-align: right;\n",
       "    }\n",
       "</style>\n",
       "<table border=\"1\" class=\"dataframe\">\n",
       "  <thead>\n",
       "    <tr style=\"text-align: right;\">\n",
       "      <th></th>\n",
       "      <th>iid</th>\n",
       "      <th>wave</th>\n",
       "      <th>attr2_1</th>\n",
       "      <th>sinc2_1</th>\n",
       "      <th>intel2_1</th>\n",
       "      <th>fun2_1</th>\n",
       "      <th>amb2_1</th>\n",
       "      <th>shar2_1</th>\n",
       "      <th>totalsum</th>\n",
       "    </tr>\n",
       "  </thead>\n",
       "  <tbody>\n",
       "    <tr>\n",
       "      <th>1846</th>\n",
       "      <td>132</td>\n",
       "      <td>6</td>\n",
       "      <td>22.73</td>\n",
       "      <td>15.91</td>\n",
       "      <td>13.64</td>\n",
       "      <td>15.91</td>\n",
       "      <td>13.64</td>\n",
       "      <td>18.18</td>\n",
       "      <td>100.01</td>\n",
       "    </tr>\n",
       "    <tr>\n",
       "      <th>1851</th>\n",
       "      <td>133</td>\n",
       "      <td>6</td>\n",
       "      <td>24.32</td>\n",
       "      <td>16.22</td>\n",
       "      <td>13.51</td>\n",
       "      <td>16.22</td>\n",
       "      <td>10.81</td>\n",
       "      <td>18.92</td>\n",
       "      <td>100.00</td>\n",
       "    </tr>\n",
       "    <tr>\n",
       "      <th>1856</th>\n",
       "      <td>134</td>\n",
       "      <td>6</td>\n",
       "      <td>20.51</td>\n",
       "      <td>15.38</td>\n",
       "      <td>12.82</td>\n",
       "      <td>20.51</td>\n",
       "      <td>12.82</td>\n",
       "      <td>17.95</td>\n",
       "      <td>99.99</td>\n",
       "    </tr>\n",
       "    <tr>\n",
       "      <th>1861</th>\n",
       "      <td>135</td>\n",
       "      <td>6</td>\n",
       "      <td>18.75</td>\n",
       "      <td>16.67</td>\n",
       "      <td>14.58</td>\n",
       "      <td>18.75</td>\n",
       "      <td>18.75</td>\n",
       "      <td>12.50</td>\n",
       "      <td>100.00</td>\n",
       "    </tr>\n",
       "    <tr>\n",
       "      <th>1871</th>\n",
       "      <td>137</td>\n",
       "      <td>6</td>\n",
       "      <td>14.89</td>\n",
       "      <td>17.02</td>\n",
       "      <td>17.02</td>\n",
       "      <td>17.02</td>\n",
       "      <td>14.89</td>\n",
       "      <td>19.15</td>\n",
       "      <td>99.99</td>\n",
       "    </tr>\n",
       "    <tr>\n",
       "      <th>...</th>\n",
       "      <td>...</td>\n",
       "      <td>...</td>\n",
       "      <td>...</td>\n",
       "      <td>...</td>\n",
       "      <td>...</td>\n",
       "      <td>...</td>\n",
       "      <td>...</td>\n",
       "      <td>...</td>\n",
       "      <td>...</td>\n",
       "    </tr>\n",
       "    <tr>\n",
       "      <th>3308</th>\n",
       "      <td>229</td>\n",
       "      <td>9</td>\n",
       "      <td>15.22</td>\n",
       "      <td>19.57</td>\n",
       "      <td>15.22</td>\n",
       "      <td>17.39</td>\n",
       "      <td>21.74</td>\n",
       "      <td>10.87</td>\n",
       "      <td>100.01</td>\n",
       "    </tr>\n",
       "    <tr>\n",
       "      <th>3328</th>\n",
       "      <td>230</td>\n",
       "      <td>9</td>\n",
       "      <td>16.67</td>\n",
       "      <td>16.67</td>\n",
       "      <td>16.67</td>\n",
       "      <td>16.67</td>\n",
       "      <td>16.67</td>\n",
       "      <td>16.67</td>\n",
       "      <td>100.02</td>\n",
       "    </tr>\n",
       "    <tr>\n",
       "      <th>3348</th>\n",
       "      <td>231</td>\n",
       "      <td>9</td>\n",
       "      <td>18.18</td>\n",
       "      <td>11.36</td>\n",
       "      <td>15.91</td>\n",
       "      <td>18.18</td>\n",
       "      <td>20.45</td>\n",
       "      <td>15.91</td>\n",
       "      <td>99.99</td>\n",
       "    </tr>\n",
       "    <tr>\n",
       "      <th>3368</th>\n",
       "      <td>232</td>\n",
       "      <td>9</td>\n",
       "      <td>19.15</td>\n",
       "      <td>17.02</td>\n",
       "      <td>17.02</td>\n",
       "      <td>17.02</td>\n",
       "      <td>14.89</td>\n",
       "      <td>14.89</td>\n",
       "      <td>99.99</td>\n",
       "    </tr>\n",
       "    <tr>\n",
       "      <th>3388</th>\n",
       "      <td>233</td>\n",
       "      <td>9</td>\n",
       "      <td>14.00</td>\n",
       "      <td>20.00</td>\n",
       "      <td>14.00</td>\n",
       "      <td>18.00</td>\n",
       "      <td>16.00</td>\n",
       "      <td>18.00</td>\n",
       "      <td>100.00</td>\n",
       "    </tr>\n",
       "  </tbody>\n",
       "</table>\n",
       "<p>101 rows × 9 columns</p>\n",
       "</div>"
      ],
      "text/plain": [
       "      iid  wave  attr2_1  sinc2_1  intel2_1  fun2_1  amb2_1  shar2_1  totalsum\n",
       "1846  132     6    22.73    15.91     13.64   15.91   13.64    18.18    100.01\n",
       "1851  133     6    24.32    16.22     13.51   16.22   10.81    18.92    100.00\n",
       "1856  134     6    20.51    15.38     12.82   20.51   12.82    17.95     99.99\n",
       "1861  135     6    18.75    16.67     14.58   18.75   18.75    12.50    100.00\n",
       "1871  137     6    14.89    17.02     17.02   17.02   14.89    19.15     99.99\n",
       "...   ...   ...      ...      ...       ...     ...     ...      ...       ...\n",
       "3308  229     9    15.22    19.57     15.22   17.39   21.74    10.87    100.01\n",
       "3328  230     9    16.67    16.67     16.67   16.67   16.67    16.67    100.02\n",
       "3348  231     9    18.18    11.36     15.91   18.18   20.45    15.91     99.99\n",
       "3368  232     9    19.15    17.02     17.02   17.02   14.89    14.89     99.99\n",
       "3388  233     9    14.00    20.00     14.00   18.00   16.00    18.00    100.00\n",
       "\n",
       "[101 rows x 9 columns]"
      ]
     },
     "execution_count": 301,
     "metadata": {},
     "output_type": "execute_result"
    }
   ],
   "source": [
    "temp.loc[idx, ]"
   ]
  },
  {
   "cell_type": "code",
   "execution_count": 302,
   "metadata": {},
   "outputs": [],
   "source": [
    "df.loc[:, 'temp_totalsum'] = df.loc[:, ['attr2_1', 'sinc2_1', 'intel2_1', 'fun2_1', 'amb2_1', 'shar2_1']].sum(axis=1)"
   ]
  },
  {
   "cell_type": "code",
   "execution_count": 303,
   "metadata": {},
   "outputs": [],
   "source": [
    "df.loc[:, ['attr2_1', 'sinc2_1', 'intel2_1', 'fun2_1', 'amb2_1', 'shar2_1']] = \\\n",
    "(df.loc[:, ['attr2_1', 'sinc2_1', 'intel2_1', 'fun2_1', 'amb2_1', 'shar2_1']].T/df.loc[:, 'temp_totalsum'].T).T * 100"
   ]
  },
  {
   "cell_type": "code",
   "execution_count": 304,
   "metadata": {},
   "outputs": [],
   "source": [
    "df = df.drop(['temp_totalsum'], axis=1)"
   ]
  },
  {
   "cell_type": "markdown",
   "metadata": {},
   "source": [
    "Признаки `attr4` и `attr5` пока выбросим"
   ]
  },
  {
   "cell_type": "code",
   "execution_count": 305,
   "metadata": {
    "scrolled": true
   },
   "outputs": [],
   "source": [
    "for i in [4, 5]:\n",
    "    feat = ['attr{}_1'.format(i), 'sinc{}_1'.format(i), \n",
    "            'intel{}_1'.format(i), 'fun{}_1'.format(i), \n",
    "            'amb{}_1'.format(i), 'shar{}_1'.format(i)]\n",
    "    \n",
    "    if i != 4:\n",
    "        feat.remove('shar{}_1'.format(i))\n",
    "    \n",
    "    df = df.drop(feat, axis=1)"
   ]
  },
  {
   "cell_type": "markdown",
   "metadata": {},
   "source": [
    "Теперь создалим таблицу с мужчинами, таблицу с женщинами с сджоиним их"
   ]
  },
  {
   "cell_type": "code",
   "execution_count": 306,
   "metadata": {},
   "outputs": [],
   "source": [
    "df = df.drop(['wave'], axis=1)"
   ]
  },
  {
   "cell_type": "code",
   "execution_count": 307,
   "metadata": {},
   "outputs": [],
   "source": [
    "df_male = df.query('gender == 1').drop_duplicates(subset=['iid', 'pid'])\\\n",
    "                                 .drop(['gender'], axis=1)\\\n",
    "                                 .dropna()\n",
    "df_female = df.query('gender == 0').drop_duplicates(subset=['iid'])\\\n",
    "                                   .drop(['gender', 'match', 'int_corr', 'samerace'], axis=1)\\\n",
    "                                   .dropna()\n",
    "        \n",
    "df_female.columns = df_female.columns + '_f'"
   ]
  },
  {
   "cell_type": "markdown",
   "metadata": {},
   "source": [
    "#### Задание\n",
    "\n",
    "* Объедините два датафрейма с помощью метода `join`\n",
    "* Выделите предикторы в матрицу `X` (numpy.array), а целевой признак в вектор `y`(numpy.array)\n",
    "* С помощью метода `train_test_split` разбейте данные на обучаюущю и валидационную выборку"
   ]
  },
  {
   "cell_type": "code",
   "execution_count": null,
   "metadata": {},
   "outputs": [],
   "source": [
    "from sklearn.model_selection import train_test_split"
   ]
  },
  {
   "cell_type": "code",
   "execution_count": null,
   "metadata": {},
   "outputs": [],
   "source": [
    "# Your Code Here"
   ]
  },
  {
   "cell_type": "markdown",
   "metadata": {},
   "source": [
    "#### Задание\n",
    "\n",
    "Сфокусируемся на одном гиперпараметре деревьев решений - максимальной глубине.\n",
    "\n",
    "Подберите наилучшую глубину `d` дерева с помошью \n",
    "* Усредненной оценки качества roc-auc на кросс-валидации при различных `d`"
   ]
  },
  {
   "cell_type": "code",
   "execution_count": null,
   "metadata": {},
   "outputs": [],
   "source": [
    "from sklearn.tree import DecisionTreeClassifier\n",
    "\n",
    "from sklearn.model_selection import cross_val_score\n",
    "from sklearn.model_selection import validation_curve"
   ]
  },
  {
   "cell_type": "code",
   "execution_count": null,
   "metadata": {},
   "outputs": [],
   "source": [
    "# Your Code Here"
   ]
  },
  {
   "cell_type": "markdown",
   "metadata": {},
   "source": [
    "#### Задание\n",
    "\n",
    "Обучите модель с наилучшей глубиной.\n",
    "\n",
    "Отсортируйте признаки по важности. Вектор с важностью признаков можно получить с помощью `model.feature_importances_`"
   ]
  },
  {
   "cell_type": "code",
   "execution_count": null,
   "metadata": {},
   "outputs": [],
   "source": [
    "# Your Code Here"
   ]
  },
  {
   "cell_type": "markdown",
   "metadata": {},
   "source": [
    "#### Задание \n",
    "* Получите предсказания на тестовой выборке\n",
    "* Постройте ROC кривые для обучающей и тестовой выборок"
   ]
  },
  {
   "cell_type": "code",
   "execution_count": null,
   "metadata": {},
   "outputs": [],
   "source": [
    "# Your Code Here"
   ]
  },
  {
   "cell_type": "markdown",
   "metadata": {},
   "source": [
    "#### Задание\n",
    "Перейдем к модели случайного леса. Зафиксируем некоторую глубину дерева (можно звять оптимальное с предыдущих заданий).\n",
    "\n",
    "Сравните качество работы \n",
    "* Простого дерева решений\n",
    "* Бэггинга над 10,20,...,100 деревьями решений\n",
    "* Случайного леса с 10,20,...,100 деревьями решений\n",
    "\n",
    "Получите график, у которого по оси X откладывается количество деревьев, а по оси Y - качество классификации."
   ]
  },
  {
   "cell_type": "code",
   "execution_count": null,
   "metadata": {},
   "outputs": [],
   "source": [
    "from sklearn.ensemble import BaggingClassifier\n",
    "from sklearn.ensemble import RandomForestClassifier"
   ]
  },
  {
   "cell_type": "code",
   "execution_count": null,
   "metadata": {},
   "outputs": [],
   "source": [
    "# Your Code Here"
   ]
  },
  {
   "cell_type": "markdown",
   "metadata": {
    "collapsed": true
   },
   "source": [
    "#### Задание\n",
    "* С помощью GridSearchCV или RandomSearchCV подберите наиболее оптимальные параметры для случайного леса.\n",
    "* Для этих параметров сравните средние результаты по кросс-валидации и качество на контрольной выборке\n",
    "\n"
   ]
  },
  {
   "cell_type": "code",
   "execution_count": null,
   "metadata": {},
   "outputs": [],
   "source": [
    "from sklearn.model_selection import GridSearchCV\n",
    "from sklearn.model_selection import RandomizedSearchCV"
   ]
  },
  {
   "cell_type": "code",
   "execution_count": null,
   "metadata": {},
   "outputs": [],
   "source": [
    "# Your Code Here"
   ]
  }
 ],
 "metadata": {
  "anaconda-cloud": {},
  "kernelspec": {
   "display_name": "Python 3",
   "language": "python",
   "name": "python3"
  },
  "language_info": {
   "codemirror_mode": {
    "name": "ipython",
    "version": 3
   },
   "file_extension": ".py",
   "mimetype": "text/x-python",
   "name": "python",
   "nbconvert_exporter": "python",
   "pygments_lexer": "ipython3",
   "version": "3.7.9"
  },
  "nav_menu": {},
  "toc": {
   "base_numbering": 1,
   "nav_menu": {
    "height": "180px",
    "width": "253px"
   },
   "number_sections": false,
   "sideBar": true,
   "skip_h1_title": false,
   "title_cell": "Table of Contents",
   "title_sidebar": "Contents",
   "toc_cell": false,
   "toc_position": {
    "height": "calc(100% - 180px)",
    "left": "10px",
    "top": "150px",
    "width": "285.867px"
   },
   "toc_section_display": true,
   "toc_window_display": true
  },
  "toc_position": {
   "height": "80px",
   "left": "28px",
   "right": "862.667px",
   "top": "138px",
   "width": "176px"
  }
 },
 "nbformat": 4,
 "nbformat_minor": 1
}
